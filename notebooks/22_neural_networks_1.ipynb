{
  "cells": [
    {
      "cell_type": "code",
      "execution_count": 1,
      "metadata": {
        "id": "0zlWCDamiw_p"
      },
      "outputs": [],
      "source": [
        "import numpy as np"
      ]
    },
    {
      "cell_type": "code",
      "execution_count": 2,
      "metadata": {
        "colab": {
          "base_uri": "https://localhost:8080/"
        },
        "id": "4ORiCJR1kkJX",
        "outputId": "ff55baa4-0a27-4c46-fa38-02b26fc83473"
      },
      "outputs": [
        {
          "data": {
            "text/plain": [
              "array([[0, 0, 1],\n",
              "       [0, 1, 1],\n",
              "       [1, 0, 1],\n",
              "       [1, 1, 1]])"
            ]
          },
          "execution_count": 2,
          "metadata": {},
          "output_type": "execute_result"
        }
      ],
      "source": [
        "X = np.array([[0,0,1],\n",
        "              [0,1,1],\n",
        "              [1,0,1],\n",
        "              [1,1,1]])\n",
        "X"
      ]
    },
    {
      "cell_type": "code",
      "execution_count": 3,
      "metadata": {
        "colab": {
          "base_uri": "https://localhost:8080/"
        },
        "id": "xWouxEekly55",
        "outputId": "1940a85b-55d4-4bb9-844c-234b6a1fe986"
      },
      "outputs": [
        {
          "data": {
            "text/plain": [
              "array([[0],\n",
              "       [0],\n",
              "       [1],\n",
              "       [1]])"
            ]
          },
          "execution_count": 3,
          "metadata": {},
          "output_type": "execute_result"
        }
      ],
      "source": [
        "#y = np.array([[0],[0],[1],[1]])\n",
        "y = np.array([[0,0,1,1]]).T\n",
        "y"
      ]
    },
    {
      "cell_type": "code",
      "execution_count": 4,
      "metadata": {
        "id": "oQeNLg42oT62"
      },
      "outputs": [],
      "source": [
        "def activation(x:float, deriv=False):\n",
        "  if deriv == True:\n",
        "    return x*(1-x)\n",
        "  else:\n",
        "    return 1/(1+np.exp(-x))"
      ]
    },
    {
      "cell_type": "code",
      "execution_count": 5,
      "metadata": {
        "colab": {
          "base_uri": "https://localhost:8080/"
        },
        "id": "PyVD35QXpWJX",
        "outputId": "4f36e68d-869a-4803-f200-4a4d80acce59"
      },
      "outputs": [
        {
          "data": {
            "text/plain": [
              "array([[-0.72902367],\n",
              "       [ 0.77570341],\n",
              "       [ 0.86521128]])"
            ]
          },
          "execution_count": 5,
          "metadata": {},
          "output_type": "execute_result"
        }
      ],
      "source": [
        "np.random.seed(2025)\n",
        "syn0 = 2 * np.random.random((3,1)) - 1\n",
        "syn0"
      ]
    },
    {
      "cell_type": "code",
      "execution_count": 6,
      "metadata": {
        "colab": {
          "base_uri": "https://localhost:8080/"
        },
        "id": "nMd8FxVFq_JL",
        "outputId": "9e97e704-c2e0-47b4-9891-8f1dba49d123"
      },
      "outputs": [
        {
          "name": "stdout",
          "output_type": "stream",
          "text": [
            "Output:\n",
            "[[0.00967058]\n",
            " [0.00786652]\n",
            " [0.99358834]\n",
            " [0.99211528]]\n",
            "Weights:\n",
            "[[ 9.67225666]\n",
            " [-0.20829193]\n",
            " [-4.6290006 ]]\n"
          ]
        }
      ],
      "source": [
        "epochs = 10000\n",
        "for i in range(epochs):\n",
        "  #Forward pass\n",
        "  l0 = X  #layer 0, input layer\n",
        "  l1 = activation(np.dot(l0, syn0), deriv=False)\n",
        "  l1_error = y - l1 #Medicion de la magnitud del error que tuve\n",
        "\n",
        "  #Backward pass\n",
        "  l1_delta = l1_error * activation(l1, deriv=True)\n",
        "  syn0 += np.dot(l0.T, l1_delta)\n",
        "\n",
        "print(\"Output:\")\n",
        "print(l1)\n",
        "print(\"Weights:\")\n",
        "print(syn0)\n"
      ]
    },
    {
      "cell_type": "code",
      "execution_count": 7,
      "metadata": {
        "colab": {
          "base_uri": "https://localhost:8080/"
        },
        "id": "WMBBfykQypo3",
        "outputId": "8284e7bd-97cb-44f9-baef-a5c2b5d9922f"
      },
      "outputs": [
        {
          "data": {
            "text/plain": [
              "array([[0, 0, 1],\n",
              "       [0, 1, 1],\n",
              "       [1, 0, 1],\n",
              "       [1, 1, 1]])"
            ]
          },
          "execution_count": 7,
          "metadata": {},
          "output_type": "execute_result"
        }
      ],
      "source": [
        "X = np.array([[0,0,1],\n",
        "              [0,1,1],\n",
        "              [1,0,1],\n",
        "              [1,1,1]])\n",
        "X"
      ]
    },
    {
      "cell_type": "code",
      "execution_count": 8,
      "metadata": {
        "colab": {
          "base_uri": "https://localhost:8080/"
        },
        "id": "Wed2SPWBy3ad",
        "outputId": "c4f2b204-f573-49fd-d2e8-12a5bc2c35cb"
      },
      "outputs": [
        {
          "data": {
            "text/plain": [
              "array([[0],\n",
              "       [1],\n",
              "       [1],\n",
              "       [0]])"
            ]
          },
          "execution_count": 8,
          "metadata": {},
          "output_type": "execute_result"
        }
      ],
      "source": [
        "y = np.array([[0,1,1,0]]).T\n",
        "y"
      ]
    },
    {
      "cell_type": "code",
      "execution_count": 9,
      "metadata": {
        "colab": {
          "base_uri": "https://localhost:8080/",
          "height": 138
        },
        "id": "CYxPDrNrzJQ3",
        "outputId": "559d1258-49c8-44ea-868e-e65e759ed69b"
      },
      "outputs": [
        {
          "data": {
            "text/plain": [
              "array([[-0.10886367, -0.22352891, -0.48480713,  0.31473517],\n",
              "       [-0.01476612,  0.92847684,  0.60196895, -0.08958943],\n",
              "       [ 0.60211617, -0.91656405,  0.53891574, -0.99365777]])"
            ]
          },
          "metadata": {},
          "output_type": "display_data"
        },
        {
          "data": {
            "text/plain": [
              "array([[-0.41438122],\n",
              "       [ 0.22182867],\n",
              "       [ 0.82605478],\n",
              "       [-0.39976999]])"
            ]
          },
          "metadata": {},
          "output_type": "display_data"
        }
      ],
      "source": [
        "syn0 = 2 * np.random.random((3,4)) - 1\n",
        "syn1 = 2 * np.random.random((4,1)) - 1\n",
        "\n",
        "display(syn0)\n",
        "display(syn1)"
      ]
    },
    {
      "cell_type": "code",
      "execution_count": 10,
      "metadata": {
        "colab": {
          "base_uri": "https://localhost:8080/",
          "height": 243
        },
        "id": "BLH0Zp_p5oJE",
        "outputId": "cae12b04-7414-4270-efba-ab2c699ccfb1"
      },
      "outputs": [
        {
          "name": "stdout",
          "output_type": "stream",
          "text": [
            "Output:\n",
            "[[0.00283979]\n",
            " [0.99590307]\n",
            " [0.99499518]\n",
            " [0.00514029]]\n",
            "Weights:\n"
          ]
        },
        {
          "data": {
            "text/plain": [
              "array([[-6.09148105, -7.21878625,  2.37656693, -0.0288378 ],\n",
              "       [ 7.25189335,  6.24993578,  1.75584868,  0.55934077],\n",
              "       [ 2.76806028, -3.1358687 ,  1.18423109, -1.13892992]])"
            ]
          },
          "metadata": {},
          "output_type": "display_data"
        },
        {
          "data": {
            "text/plain": [
              "array([[-11.53926317],\n",
              "       [ 11.94318621],\n",
              "       [  5.78628841],\n",
              "       [  0.2817676 ]])"
            ]
          },
          "metadata": {},
          "output_type": "display_data"
        }
      ],
      "source": [
        "epochs = 60000\n",
        "for i in range(epochs):\n",
        "  #forwar pass\n",
        "  l0 = X\n",
        "  l1 = activation(np.dot(l0, syn0), deriv=False)\n",
        "  l2 = activation(np.dot(l1, syn1), deriv=False)\n",
        "  l2_error = y - l2\n",
        "  #Backward pass\n",
        "  l2_delta = l2_error * activation(l2, deriv=True)\n",
        "  l1_error = np.dot(l2_delta, syn1.T)\n",
        "  l1_delta = l1_error * activation(l1, deriv=True)\n",
        "  syn1 = syn1 + np.dot(l1.T, l2_delta)\n",
        "  syn0 = syn0 + np.dot(l0.T, l1_delta)\n",
        "\n",
        "print(\"Output:\")\n",
        "print(l2)\n",
        "\n",
        "print(\"Weights:\")\n",
        "display(syn0)\n",
        "display(syn1)"
      ]
    }
  ],
  "metadata": {
    "accelerator": "GPU",
    "colab": {
      "gpuType": "T4",
      "provenance": []
    },
    "kernelspec": {
      "display_name": ".venv (3.12.1)",
      "language": "python",
      "name": "python3"
    },
    "language_info": {
      "codemirror_mode": {
        "name": "ipython",
        "version": 3
      },
      "file_extension": ".py",
      "mimetype": "text/x-python",
      "name": "python",
      "nbconvert_exporter": "python",
      "pygments_lexer": "ipython3",
      "version": "3.12.1"
    }
  },
  "nbformat": 4,
  "nbformat_minor": 0
}
