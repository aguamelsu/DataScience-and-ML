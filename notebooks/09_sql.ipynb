{
 "cells": [
  {
   "cell_type": "markdown",
   "id": "728670fb",
   "metadata": {},
   "source": [
    "# 09: SQL\n",
    "- Author: Agustín Arturo Melian Su\n",
    "- Date: 25/08/2025\n",
    "- Goal: Learn how to connect and create a database"
   ]
  },
  {
   "cell_type": "code",
   "execution_count": 1,
   "id": "f4e2c53a",
   "metadata": {},
   "outputs": [],
   "source": [
    "from pandasql import sqldf\n",
    "import os\n",
    "import pandas as pd"
   ]
  },
  {
   "cell_type": "code",
   "execution_count": 2,
   "id": "28aa9510",
   "metadata": {},
   "outputs": [
    {
     "data": {
      "text/plain": [
       "42588933"
      ]
     },
     "execution_count": 2,
     "metadata": {},
     "output_type": "execute_result"
    }
   ],
   "source": [
    "url = \"https://raw.githubusercontent.com/syntagmatic/gapminder-csv/refs/heads/master/gapminder.csv\"\n",
    "\n",
    "df = pd.read_csv(url)\n",
    "\n",
    "df.size"
   ]
  },
  {
   "cell_type": "code",
   "execution_count": null,
   "id": "f4a9ba23",
   "metadata": {},
   "outputs": [],
   "source": [
    "sqldf(\"SELECT * FROM df LIMIT 5\")"
   ]
  },
  {
   "cell_type": "code",
   "execution_count": null,
   "id": "e2ec3b75",
   "metadata": {},
   "outputs": [],
   "source": [
    "sqldf(\"SELECT geo, time, children_per_woman_total_fertility, life_expectancy_years FROM df WHERE geo='arg' and time > 1975 LIMIT 10\")"
   ]
  },
  {
   "cell_type": "code",
   "execution_count": null,
   "id": "42a57433",
   "metadata": {},
   "outputs": [],
   "source": [
    "sqldf(\"SELECT geo, time, children_per_woman_total_fertility, life_expectancy_years FROM df WHERE geo IN ('col', 'arg', 'mex') AND time = 2000\")"
   ]
  },
  {
   "cell_type": "code",
   "execution_count": null,
   "id": "dc0503c3",
   "metadata": {},
   "outputs": [],
   "source": [
    "sqldf(\"SELECT geo, time, gdp_total_yearly_growth \\\n",
    "FROM df \\\n",
    "WHERE geo='per' \\\n",
    "AND time BETWEEN 1985 AND 2000\")"
   ]
  },
  {
   "cell_type": "code",
   "execution_count": null,
   "id": "b0edc2a5",
   "metadata": {},
   "outputs": [],
   "source": [
    "sqldf(\"SELECT MAX(gdp_total_yearly_growth) AS max_gdp FROM df WHERE geo='mex'\")"
   ]
  },
  {
   "cell_type": "code",
   "execution_count": null,
   "id": "68976c15",
   "metadata": {},
   "outputs": [],
   "source": [
    "sqldf(\"SELECT MAX(gdp_total_yearly_growth) \\\n",
    "AS max_gdp, geo \\\n",
    "FROM df GROUP BY geo \\\n",
    "LIMIT 20\")"
   ]
  },
  {
   "cell_type": "code",
   "execution_count": null,
   "id": "e23bc147",
   "metadata": {},
   "outputs": [],
   "source": [
    "sqldf(\"SELECT MAX(gdp_total_yearly_growth) \\\n",
    "AS max_gdp, geo, time \\\n",
    "FROM df \\\n",
    "WHERE geo IN ('arg', 'per', 'mex') \\\n",
    "GROUP BY geo\")"
   ]
  },
  {
   "cell_type": "code",
   "execution_count": null,
   "id": "68d59b21",
   "metadata": {},
   "outputs": [],
   "source": [
    "import sqlite3\n",
    "import pandas as pd"
   ]
  },
  {
   "cell_type": "code",
   "execution_count": null,
   "id": "26dde65b",
   "metadata": {},
   "outputs": [],
   "source": [
    "con = sqlite3.connect('/workspaces/clases-4geeks/datasets/test.df')"
   ]
  },
  {
   "cell_type": "code",
   "execution_count": null,
   "id": "ab91149e",
   "metadata": {},
   "outputs": [],
   "source": [
    "con.execute('CREATE TABLE movies(' \\\n",
    "            'id INT PRIMARY KEY NOT NULL,' \\\n",
    "            'title TEXT,' \\\n",
    "            'year INT NOT NULL)')"
   ]
  },
  {
   "cell_type": "code",
   "execution_count": null,
   "id": "c10e62f1",
   "metadata": {},
   "outputs": [],
   "source": [
    "con.execute(\"INSERT INTO movies VALUES(1, 'Titanic', 1997)\")\n",
    "con.execute(\"INSERT INTO movies VALUES(2, 'The Godfather', 1972)\")\n",
    "con.execute(\"INSERT INTO movies VALUES(3, 'Gladiator 2', 2025)\")\n",
    "con.commit()"
   ]
  },
  {
   "cell_type": "code",
   "execution_count": null,
   "id": "d1d40cb7",
   "metadata": {},
   "outputs": [],
   "source": [
    "cursor = con.execute(\"SELECT * FROM movies WHERE year > 1990\")"
   ]
  },
  {
   "cell_type": "code",
   "execution_count": null,
   "id": "064670c2",
   "metadata": {},
   "outputs": [],
   "source": [
    "for row in cursor:\n",
    "  print(f'Title: {row[1]}, year: {row[2]}')"
   ]
  },
  {
   "cell_type": "code",
   "execution_count": null,
   "id": "6f117f16",
   "metadata": {},
   "outputs": [],
   "source": [
    "con.close"
   ]
  }
 ],
 "metadata": {
  "kernelspec": {
   "display_name": ".venv (3.12.1)",
   "language": "python",
   "name": "python3"
  },
  "language_info": {
   "codemirror_mode": {
    "name": "ipython",
    "version": 3
   },
   "file_extension": ".py",
   "mimetype": "text/x-python",
   "name": "python",
   "nbconvert_exporter": "python",
   "pygments_lexer": "ipython3",
   "version": "3.12.1"
  }
 },
 "nbformat": 4,
 "nbformat_minor": 5
}
