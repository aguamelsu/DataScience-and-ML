{
 "cells": [
  {
   "cell_type": "markdown",
   "id": "e2052ca0",
   "metadata": {},
   "source": [
    "# 07: Algorith Optimization\n",
    "- Author: Agustín Arturo Melian Su\n",
    "- Date: 22/08/2025\n",
    "- Goal: Improve code efficiency and learn about big O notation."
   ]
  },
  {
   "cell_type": "markdown",
   "id": "b5c955df",
   "metadata": {},
   "source": [
    "### Matrix addition and multiplication algorithm"
   ]
  },
  {
   "cell_type": "code",
   "execution_count": 2,
   "id": "d58e30e3",
   "metadata": {},
   "outputs": [
    {
     "data": {
      "text/plain": [
       "[[0, 2, 5], [3, 5, 7], [4, 5, 5]]"
      ]
     },
     "execution_count": 2,
     "metadata": {},
     "output_type": "execute_result"
    }
   ],
   "source": [
    "matrix_a = [[-1, 0, 2], [0, 1, 2], [0, 0, -1]]\n",
    "matrix_b = [[1, 2, 3], [3, 4, 5], [4, 5, 6]]\n",
    "\n",
    "# Initialize sum_ab with the correct dimensions\n",
    "sum_ab = [[0 for _ in range(len(matrix_a[0]))] for _ in range(len(matrix_a))]\n",
    "\n",
    "for i in range(len(matrix_a)):\n",
    "  for j in range(len(matrix_a[0])):\n",
    "    sum_ab[i][j] = matrix_a[i][j] + matrix_b[i][j]\n",
    "\n",
    "sum_ab"
   ]
  },
  {
   "cell_type": "code",
   "execution_count": 3,
   "id": "a7f3f2a2",
   "metadata": {},
   "outputs": [
    {
     "name": "stdout",
     "output_type": "stream",
     "text": [
      "-1 0 2 \n",
      "\n",
      "0 1 2 \n",
      "\n",
      "0 0 -1 \n",
      "\n"
     ]
    }
   ],
   "source": [
    "def print_matrix(matrix: list)->None:\n",
    "  for i in range(len(matrix)):\n",
    "    for j in range(len(matrix[0])):\n",
    "      print(matrix[i][j], end=' ')\n",
    "    print('\\n')\n",
    "  \n",
    "\n",
    "print_matrix(matrix_a)"
   ]
  },
  {
   "cell_type": "markdown",
   "id": "9573e25a",
   "metadata": {},
   "source": [
    "*Task 1*\n",
    "\n",
    "Given a simple list:\n",
    "\n",
    "$$l=[3, 4, 5, -1]$$\n",
    "\n",
    "Create an algorithm for printing each element of the list separated by '=='"
   ]
  },
  {
   "cell_type": "code",
   "execution_count": 4,
   "id": "0fd02779",
   "metadata": {},
   "outputs": [
    {
     "name": "stdout",
     "output_type": "stream",
     "text": [
      "3 == 4 == 5 == -1 == "
     ]
    }
   ],
   "source": [
    "my_list = [3, 4, 5, -1]\n",
    "\n",
    "for i in range(len(my_list)):\n",
    "  print(my_list[i], end=' == ')"
   ]
  },
  {
   "cell_type": "markdown",
   "id": "e58412ad",
   "metadata": {},
   "source": [
    "my_list has *n* elemenst, thus, the running time of the algorithm for printing each element of the list separated by '==' is **linear**"
   ]
  },
  {
   "cell_type": "markdown",
   "id": "1d5070f5",
   "metadata": {},
   "source": [
    "*Task 2*\n",
    "\n",
    "Given two matrices, create an algorithm for summing the elements of the matrix: \n",
    "\n",
    "$$m_1 = \n",
    "\\begin{bmatrix}\n",
    "0 & 1 \\\\\n",
    "3 & -2\n",
    "\\end{bmatrix}\n",
    "$$\n",
    "\n",
    "$$m_2 = \n",
    "\\begin{bmatrix}\n",
    "0 & -1 \\\\\n",
    "1 & 1\n",
    "\\end{bmatrix}\n",
    "$$"
   ]
  },
  {
   "cell_type": "code",
   "execution_count": 5,
   "id": "f98b851b",
   "metadata": {},
   "outputs": [
    {
     "data": {
      "text/plain": [
       "[[0, 0], [4, -1]]"
      ]
     },
     "execution_count": 5,
     "metadata": {},
     "output_type": "execute_result"
    }
   ],
   "source": [
    "def matrix_sum(matrix_a: list, matrix_b: list)->list:\n",
    "\n",
    "  if (len(matrix_a) != len(matrix_b)) or (len(matrix_a[0]) != len(matrix_b[0])):\n",
    "    raise Exception('Matrices must have the same dimensions')\n",
    "\n",
    "  sum_ab = matrix_a.copy()\n",
    "\n",
    "  for i in range(len(matrix_a)):\n",
    "    for j in range(len(matrix_a[0])):\n",
    "      sum_ab[i][j] = matrix_a[i][j] + matrix_b[i][j]\n",
    "  \n",
    "  return sum_ab\n",
    "\n",
    "\n",
    "matrix_a = [[0, 1], [3, -2]]\n",
    "matrix_b = [[0, -1], [1, 1]]\n",
    "\n",
    "matrix_sum(matrix_a, matrix_b)"
   ]
  }
 ],
 "metadata": {
  "kernelspec": {
   "display_name": ".venv (3.12.1)",
   "language": "python",
   "name": "python3"
  },
  "language_info": {
   "codemirror_mode": {
    "name": "ipython",
    "version": 3
   },
   "file_extension": ".py",
   "mimetype": "text/x-python",
   "name": "python",
   "nbconvert_exporter": "python",
   "pygments_lexer": "ipython3",
   "version": "3.12.1"
  }
 },
 "nbformat": 4,
 "nbformat_minor": 5
}
