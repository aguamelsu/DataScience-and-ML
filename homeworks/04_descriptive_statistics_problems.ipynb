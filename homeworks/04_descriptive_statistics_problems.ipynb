{
 "cells": [
  {
   "cell_type": "markdown",
   "id": "6805e3f1",
   "metadata": {},
   "source": [
    "# Descriptive Statistics Problems\n",
    "\n",
    "## Exercise 1 – How long are movie titles?\n",
    "\n",
    "In this exercise, you will apply descriptive statistics techniques to a real dataset: a database of 1000 popular movies from the IMDb website.\n",
    "\n",
    "From the title of each movie, you will:\n",
    "- Calculate the title length (in characters).\n",
    "- Obtain key statistical metrics: mean, median, mode, range, variance, standard deviation, skewness, and kurtosis.\n",
    "- Identify the longest and shortest titles.\n",
    "- Visualize the distribution of these lengths with a histogram and a density curve.\n"
   ]
  },
  {
   "cell_type": "code",
   "execution_count": 100,
   "id": "ca3d2c0a",
   "metadata": {},
   "outputs": [
    {
     "data": {
      "text/html": [
       "<div>\n",
       "<style scoped>\n",
       "    .dataframe tbody tr th:only-of-type {\n",
       "        vertical-align: middle;\n",
       "    }\n",
       "\n",
       "    .dataframe tbody tr th {\n",
       "        vertical-align: top;\n",
       "    }\n",
       "\n",
       "    .dataframe thead th {\n",
       "        text-align: right;\n",
       "    }\n",
       "</style>\n",
       "<table border=\"1\" class=\"dataframe\">\n",
       "  <thead>\n",
       "    <tr style=\"text-align: right;\">\n",
       "      <th></th>\n",
       "      <th>star_rating</th>\n",
       "      <th>title</th>\n",
       "      <th>content_rating</th>\n",
       "      <th>genre</th>\n",
       "      <th>duration</th>\n",
       "      <th>actors_list</th>\n",
       "    </tr>\n",
       "  </thead>\n",
       "  <tbody>\n",
       "    <tr>\n",
       "      <th>2</th>\n",
       "      <td>9.1</td>\n",
       "      <td>The Godfather: Part II</td>\n",
       "      <td>R</td>\n",
       "      <td>Crime</td>\n",
       "      <td>200</td>\n",
       "      <td>[u'Al Pacino', u'Robert De Niro', u'Robert Duv...</td>\n",
       "    </tr>\n",
       "    <tr>\n",
       "      <th>617</th>\n",
       "      <td>7.7</td>\n",
       "      <td>Despicable Me</td>\n",
       "      <td>PG</td>\n",
       "      <td>Animation</td>\n",
       "      <td>95</td>\n",
       "      <td>[u'Steve Carell', u'Jason Segel', u'Russell Br...</td>\n",
       "    </tr>\n",
       "    <tr>\n",
       "      <th>966</th>\n",
       "      <td>7.4</td>\n",
       "      <td>The Simpsons Movie</td>\n",
       "      <td>PG-13</td>\n",
       "      <td>Animation</td>\n",
       "      <td>87</td>\n",
       "      <td>[u'Dan Castellaneta', u'Julie Kavner', u'Nancy...</td>\n",
       "    </tr>\n",
       "    <tr>\n",
       "      <th>289</th>\n",
       "      <td>8.1</td>\n",
       "      <td>All Quiet on the Western Front</td>\n",
       "      <td>UNRATED</td>\n",
       "      <td>Drama</td>\n",
       "      <td>136</td>\n",
       "      <td>[u'Lew Ayres', u'Louis Wolheim', u'John Wray']</td>\n",
       "    </tr>\n",
       "    <tr>\n",
       "      <th>137</th>\n",
       "      <td>8.3</td>\n",
       "      <td>The Bridge on the River Kwai</td>\n",
       "      <td>PG</td>\n",
       "      <td>Adventure</td>\n",
       "      <td>161</td>\n",
       "      <td>[u'William Holden', u'Alec Guinness', u'Jack H...</td>\n",
       "    </tr>\n",
       "    <tr>\n",
       "      <th>644</th>\n",
       "      <td>7.7</td>\n",
       "      <td>Philadelphia</td>\n",
       "      <td>PG-13</td>\n",
       "      <td>Drama</td>\n",
       "      <td>125</td>\n",
       "      <td>[u'Tom Hanks', u'Denzel Washington', u'Roberta...</td>\n",
       "    </tr>\n",
       "    <tr>\n",
       "      <th>749</th>\n",
       "      <td>7.6</td>\n",
       "      <td>Lone Survivor</td>\n",
       "      <td>R</td>\n",
       "      <td>Action</td>\n",
       "      <td>121</td>\n",
       "      <td>[u'Mark Wahlberg', u'Taylor Kitsch', u'Emile H...</td>\n",
       "    </tr>\n",
       "    <tr>\n",
       "      <th>829</th>\n",
       "      <td>7.5</td>\n",
       "      <td>Elizabeth</td>\n",
       "      <td>R</td>\n",
       "      <td>Biography</td>\n",
       "      <td>124</td>\n",
       "      <td>[u'Cate Blanchett', u'Geoffrey Rush', u'Christ...</td>\n",
       "    </tr>\n",
       "    <tr>\n",
       "      <th>229</th>\n",
       "      <td>8.1</td>\n",
       "      <td>Strangers on a Train</td>\n",
       "      <td>APPROVED</td>\n",
       "      <td>Crime</td>\n",
       "      <td>101</td>\n",
       "      <td>[u'Farley Granger', u'Robert Walker', u'Ruth R...</td>\n",
       "    </tr>\n",
       "    <tr>\n",
       "      <th>948</th>\n",
       "      <td>7.4</td>\n",
       "      <td>Frances Ha</td>\n",
       "      <td>R</td>\n",
       "      <td>Comedy</td>\n",
       "      <td>86</td>\n",
       "      <td>[u'Greta Gerwig', u'Mickey Sumner', u'Adam Dri...</td>\n",
       "    </tr>\n",
       "  </tbody>\n",
       "</table>\n",
       "</div>"
      ],
      "text/plain": [
       "     star_rating                           title content_rating      genre  \\\n",
       "2            9.1          The Godfather: Part II              R      Crime   \n",
       "617          7.7                   Despicable Me             PG  Animation   \n",
       "966          7.4              The Simpsons Movie          PG-13  Animation   \n",
       "289          8.1  All Quiet on the Western Front        UNRATED      Drama   \n",
       "137          8.3    The Bridge on the River Kwai             PG  Adventure   \n",
       "644          7.7                    Philadelphia          PG-13      Drama   \n",
       "749          7.6                   Lone Survivor              R     Action   \n",
       "829          7.5                       Elizabeth              R  Biography   \n",
       "229          8.1            Strangers on a Train       APPROVED      Crime   \n",
       "948          7.4                      Frances Ha              R     Comedy   \n",
       "\n",
       "     duration                                        actors_list  \n",
       "2         200  [u'Al Pacino', u'Robert De Niro', u'Robert Duv...  \n",
       "617        95  [u'Steve Carell', u'Jason Segel', u'Russell Br...  \n",
       "966        87  [u'Dan Castellaneta', u'Julie Kavner', u'Nancy...  \n",
       "289       136     [u'Lew Ayres', u'Louis Wolheim', u'John Wray']  \n",
       "137       161  [u'William Holden', u'Alec Guinness', u'Jack H...  \n",
       "644       125  [u'Tom Hanks', u'Denzel Washington', u'Roberta...  \n",
       "749       121  [u'Mark Wahlberg', u'Taylor Kitsch', u'Emile H...  \n",
       "829       124  [u'Cate Blanchett', u'Geoffrey Rush', u'Christ...  \n",
       "229       101  [u'Farley Granger', u'Robert Walker', u'Ruth R...  \n",
       "948        86  [u'Greta Gerwig', u'Mickey Sumner', u'Adam Dri...  "
      ]
     },
     "execution_count": 100,
     "metadata": {},
     "output_type": "execute_result"
    }
   ],
   "source": [
    "# Import libraries\n",
    "import pandas as pd\n",
    "import numpy as np\n",
    "import matplotlib.pyplot as plt\n",
    "from scipy.stats import skew, kurtosis, mode\n",
    "from random import randint\n",
    "\n",
    "\n",
    "# Load IMDb dataset\n",
    "url = \"../datasets/imdb_1000.csv\"\n",
    "df_raw = pd.read_csv(url)\n",
    "df_raw.sample(10)"
   ]
  },
  {
   "cell_type": "code",
   "execution_count": 101,
   "id": "c6f5c3ba",
   "metadata": {},
   "outputs": [],
   "source": [
    "# Copy of raw data\n",
    "df = df_raw.copy()"
   ]
  },
  {
   "cell_type": "code",
   "execution_count": 102,
   "id": "61d39304",
   "metadata": {},
   "outputs": [
    {
     "data": {
      "text/plain": [
       "260    14\n",
       "589    13\n",
       "756     5\n",
       "507    10\n",
       "218    12\n",
       "328    25\n",
       "472    28\n",
       "428     8\n",
       "293     9\n",
       "458     8\n",
       "Name: title_length, dtype: int64"
      ]
     },
     "execution_count": 102,
     "metadata": {},
     "output_type": "execute_result"
    }
   ],
   "source": [
    "# Create a new column called 'title_length' with the length (number of characters) of each title\n",
    "df['title_length'] = df['title'].apply(len)\n",
    "\n",
    "df['title_length'].sample(10)"
   ]
  },
  {
   "cell_type": "code",
   "execution_count": 103,
   "id": "cae9c2e7",
   "metadata": {},
   "outputs": [
    {
     "name": "stdout",
     "output_type": "stream",
     "text": [
      "The mean is: 15.48\n",
      "The median is: 14.0\n",
      "The mode is: 12\n"
     ]
    }
   ],
   "source": [
    "# Calculate mean, median, and mode of the 'title_length' column\n",
    "title = df['title_length']\n",
    "\n",
    "mean = title.mean()\n",
    "median = title.median()\n",
    "mode = title.mode()[0]\n",
    "\n",
    "print(f\"The mean is: {round(mean, 2)}\")\n",
    "print(f\"The median is: {median}\")\n",
    "print(f\"The mode is: {mode}\")"
   ]
  },
  {
   "cell_type": "code",
   "execution_count": 104,
   "id": "69664a9b",
   "metadata": {},
   "outputs": [
    {
     "name": "stdout",
     "output_type": "stream",
     "text": [
      "The range is:  67\n",
      "The variance is:  72.03\n",
      "The standard deviation is:  8.49\n"
     ]
    }
   ],
   "source": [
    "# Calculate the range, variance, and standard deviation of 'title_length'\n",
    "range = max(title) - min(title)\n",
    "var = np.var(title)\n",
    "std = np.std(title)\n",
    "\n",
    "print('The range is: ', range)\n",
    "print('The variance is: ', round(var, 2))\n",
    "print('The standard deviation is: ', round(std, 2))\n"
   ]
  },
  {
   "cell_type": "code",
   "execution_count": 105,
   "id": "6b9a931c",
   "metadata": {},
   "outputs": [
    {
     "name": "stdout",
     "output_type": "stream",
     "text": [
      "The skewness is:  1.52\n",
      "The kurtosis is:  3.79\n"
     ]
    }
   ],
   "source": [
    "# Calculate skewness and kurtosis of the 'title_length' column\n",
    "skewness = skew(title)\n",
    "kurt = kurtosis(title)\n",
    "\n",
    "print('The skewness is: ', round(skewness, 2)) # Positive skewwness means rigth skewed\n",
    "print('The kurtosis is: ', round(kurt, 2)) # Kurtosis > 3 means leptokurtic"
   ]
  },
  {
   "cell_type": "code",
   "execution_count": 106,
   "id": "c0d09e68",
   "metadata": {},
   "outputs": [
    {
     "name": "stdout",
     "output_type": "stream",
     "text": [
      "The shortest title is:  M\n",
      "The longest title is:  Dr. Strangelove or: How I Learned to Stop Worrying and Love the Bomb\n"
     ]
    }
   ],
   "source": [
    "# Print the shortest and longest title based on their length\n",
    "title_sorted = df.sort_values(by='title_length', ascending=True)['title'].reset_index()\n",
    "\n",
    "# Titles sorted has the index and the 'title' column, 'title' has index 1\n",
    "print('The shortest title is: ', title_sorted.iloc[0, 1])\n",
    "print('The longest title is: ', title_sorted.iloc[-1, 1])\n"
   ]
  },
  {
   "cell_type": "code",
   "execution_count": 107,
   "id": "e86a1ced",
   "metadata": {},
   "outputs": [
    {
     "data": {
      "image/png": "[encoded data removed]",
      "text/plain": [
       "<Figure size 640x480 with 1 Axes>"
      ]
     },
     "metadata": {},
     "output_type": "display_data"
    }
   ],
   "source": [
    "# plot your results\n",
    "df.hist(column='title_length', color='tomato')\n",
    "plt.title('Title length histogram')\n",
    "plt.show()\n"
   ]
  },
  {
   "cell_type": "markdown",
   "id": "c213b362",
   "metadata": {},
   "source": [
    "## Insights\n",
    "- The median title length is 14 characters, and the mean is 15.48 characters. Since the mean is greater than the median, this indicates a sligth right skew.\n",
    "- As observed in the graph, most titles fall between 10 and 20 characters long, however, to be 100% sure, the IQR is the best metric.\n",
    "- The shortes title is 1 character long, while the longest is 68 characters, these are the outliers. \n",
    "- The distribution is **right-skewed**, meaning most movie titles are relatively short in length, while other unusually long titles pull the mean upward. \n",
    "- The distribution is **leptokurtic**, indicating a shaper peak compared to the normal distribution."
   ]
  },
  {
   "cell_type": "markdown",
   "id": "eaf3ceb7",
   "metadata": {},
   "source": [
    "---\n",
    "\n",
    "## Exercise 2 – Manual Calculation of Standard Deviation\n",
    "\n",
    "In this exercise, you will manually calculate the standard deviation by selecting five actual titles from the movie dataset you loaded earlier.\n"
   ]
  },
  {
   "cell_type": "code",
   "execution_count": 108,
   "id": "3005c0f9",
   "metadata": {},
   "outputs": [
    {
     "data": {
      "text/plain": [
       "[18, 18, 21, 5, 18]"
      ]
     },
     "execution_count": 108,
     "metadata": {},
     "output_type": "execute_result"
    }
   ],
   "source": [
    "# Create a list with 5 actual values from df['title_length'], for example: [10, 13, 14, 18, 22]\n",
    "random_titles_length = np.random.choice(df['title_length'], size=5).tolist()\n",
    "\n",
    "random_titles_length\n"
   ]
  },
  {
   "cell_type": "code",
   "execution_count": 114,
   "id": "d96b771f",
   "metadata": {},
   "outputs": [
    {
     "name": "stdout",
     "output_type": "stream",
     "text": [
      "The mean is: 16.0\n"
     ]
    }
   ],
   "source": [
    "# Calculate the mean of the 5 values\n",
    "mean = np.mean(random_titles_length)\n",
    "print('The mean is:', mean)\n"
   ]
  },
  {
   "cell_type": "code",
   "execution_count": 115,
   "id": "346d0dc5",
   "metadata": {},
   "outputs": [
    {
     "data": {
      "text/plain": [
       "[4.0, 4.0, 25.0, 121.0, 4.0]"
      ]
     },
     "execution_count": 115,
     "metadata": {},
     "output_type": "execute_result"
    }
   ],
   "source": [
    "# Calculate the squared differences with respect to the mean\n",
    "sqr_differences = [float(round(((x - mean) ** 2), 2)) for x in random_titles_length]\n",
    "\n",
    "sqr_differences\n"
   ]
  },
  {
   "cell_type": "code",
   "execution_count": 116,
   "id": "f56517ff",
   "metadata": {},
   "outputs": [
    {
     "name": "stdout",
     "output_type": "stream",
     "text": [
      "The variance is:  31.6\n",
      "The standard deviation is:  5.621387729022079\n"
     ]
    }
   ],
   "source": [
    "# Calculate the variance (average of the squared differences) and its square root to obtain the standard deviation\n",
    "from math import sqrt\n",
    "\n",
    "variance = np.mean(sqr_differences)\n",
    "std = sqrt(variance)\n",
    "\n",
    "print('The variance is: ', variance)\n",
    "print('The standard deviation is: ', std)\n"
   ]
  },
  {
   "cell_type": "code",
   "execution_count": 117,
   "id": "a9d56e72",
   "metadata": {},
   "outputs": [
    {
     "name": "stdout",
     "output_type": "stream",
     "text": [
      "31.6 5.621387729022079\n"
     ]
    }
   ],
   "source": [
    "# Testing\n",
    "var = np.var(random_titles_length)\n",
    "std = np.std(random_titles_length)\n",
    "print(var, std)\n"
   ]
  }
 ],
 "metadata": {
  "kernelspec": {
   "display_name": ".venv (3.12.1)",
   "language": "python",
   "name": "python3"
  },
  "language_info": {
   "codemirror_mode": {
    "name": "ipython",
    "version": 3
   },
   "file_extension": ".py",
   "mimetype": "text/x-python",
   "name": "python",
   "nbconvert_exporter": "python",
   "pygments_lexer": "ipython3",
   "version": "3.12.1"
  }
 },
 "nbformat": 4,
 "nbformat_minor": 5
}
