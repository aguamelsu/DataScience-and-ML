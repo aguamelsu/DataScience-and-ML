{
 "cells": [
  {
   "cell_type": "markdown",
   "id": "d9d036c6",
   "metadata": {},
   "source": [
    "# Hypothesis testing problems"
   ]
  },
  {
   "cell_type": "markdown",
   "id": "d157c4db",
   "metadata": {},
   "source": [
    "## Exercise 1\n",
    "\n",
    "You are a nutritionist researching two different types of diets to see if there is a significant difference in weight loss after one month. You choose two random groups of people; one group follows the first diet, and the other follows the second. At the end of the month, you record the weight loss (in kg) for each person:\n",
    "\n",
    "| Diet 1 | Diet 2 |\n",
    "|:-------|:-------|\n",
    "| 2.0 | 3.0 |\n",
    "| 2.5 | 3.2 |\n",
    "| 3.0 | 3.1 |\n",
    "| 2.8 | 2.9 |\n",
    "| 2.3 | 2.8 |\n",
    "| 2.7 | 3.0 |\n",
    "| 2.5 | 3.2 |\n",
    "\n",
    "With these data, it seeks to answer the following question: Is there a significant difference in average weight loss between people who followed the first diet and those who followed the second diet?\n",
    "\n",
    "To draw conclusions, follow the points below:\n",
    "\n",
    "- State the hypothesis: null and alternative hypothesis.\n",
    "- Perform the test to test the hypothesis. You can use a Student's t-test.\n",
    "- Analyze the conclusions."
   ]
  },
  {
   "cell_type": "markdown",
   "id": "c407dba8",
   "metadata": {},
   "source": [
    "### Hypothesis\n",
    "\n",
    "- Null: No difference in average weight loss between diet 1 and 2\n",
    "- Alternative: There is a difference in average weight loss between diet 1 and 2\n",
    "\n",
    "$$H_0: \\mu_1 = \\mu_2$$\n",
    "$$H_1: \\mu_1 \\neq \\mu_2$$"
   ]
  },
  {
   "cell_type": "markdown",
   "id": "d14f8e11",
   "metadata": {},
   "source": [
    "### Student's t-test\n",
    "\n",
    "$$t = \\frac{|\\bar{X_1}-\\bar{X_2}|}{\\sqrt{\\frac{s_1^2}{n_1}+\\frac{s_2^2}{n_2}}}$$\n",
    "\n",
    "Where:\n",
    "\n",
    "$\\bar{X}$ is the mean\n",
    "\n",
    "$s$ is the standard deviation\n",
    "\n",
    "$n$ number of entries in the data set"
   ]
  },
  {
   "cell_type": "markdown",
   "id": "18b10aa6",
   "metadata": {},
   "source": [
    "### Significance\n",
    "\n",
    "A level of significance of $\\alpha=0.05$ is appropiate considering the context. There's no need for extremely precise analysis ($\\alpha=0.01$) since the study aims to detect a practical difference in average weight loss rather than what would be required in high-risk fields such as medicine or engineering safety."
   ]
  },
  {
   "cell_type": "code",
   "execution_count": 23,
   "id": "7d20685a",
   "metadata": {},
   "outputs": [
    {
     "name": "stdout",
     "output_type": "stream",
     "text": [
      "T-test:  -3.538\n",
      "P-value:  0.0041\n"
     ]
    }
   ],
   "source": [
    "import numpy as np\n",
    "import scipy.stats as stats\n",
    "\n",
    "diet_1 = [2.0, 2.5, 3.0, 2.8, 2.3, 2.7, 2.5]\n",
    "diet_2 = [3.0, 3.2, 3.1, 2.9, 2.8, 3.0, 3.2]\n",
    "\n",
    "t_test, p_value = stats.ttest_ind(diet_1, diet_2)\n",
    "\n",
    "print('T-test: ', round(t_test, 3))\n",
    "print('P-value: ', round(p_value, 4))"
   ]
  },
  {
   "cell_type": "markdown",
   "id": "10cd2375",
   "metadata": {},
   "source": [
    "### Conclusion\n",
    "\n",
    "- Since the *p_value* is less than the significance *$\\alpha=0.05$*, then the null hypothesis is rejected. This that we can say with a 95% confidence that there is a significant average weight loss difference between the two diets. "
   ]
  },
  {
   "cell_type": "markdown",
   "id": "f432e18e",
   "metadata": {},
   "source": [
    "## ANOVA\n",
    "\n",
    "**ANOVA** (*Analysis of Variance*) is a statistical technique used to compare the measures of two or more groups. The idea behind ANOVA is to decompose the total variability in the data into two components: between-group variability and within-group variability:\n",
    "\n",
    "- **Between-group variability**: This variability refers to the differences between the group means. If this variability is considerably larger than the within-group variability, it could be an indication that at least one of the group means is different.\n",
    "- **Within-group variability**: This variability refers to the dispersion of the data within each group. If all groups have similar variability, then any noticeable difference in group means could be considered significant.\n",
    "\n",
    "Hypotheses in ANOVA typically include:\n",
    "\n",
    "- **Null hypothesis** ($H₀$): The means of all groups are equal.\n",
    "- **Alternative hypothesis** ($H₁$): At least one of the group means is different.\n",
    "\n",
    "If the ANOVA test result is significant (e.g., a p-value less than a threshold such as 0.05), this suggests that at least one group mean is different."
   ]
  },
  {
   "cell_type": "markdown",
   "id": "fc5f3721",
   "metadata": {},
   "source": [
    "## Exercise 2\n",
    "\n",
    "A farmer decides to test three different types of fertilizers to determine if one is superior in terms of corn production. The farmer plants corn on 15 identical plots and uses all three fertilizers (5 plots for each type). At the end of the season, he measures the corn yield (in kg) of each plot, with the following result:\n",
    "\n",
    "| Fertilizer 1 | Fertilizer 2 | Fertilizer 3 |\n",
    "|:-------------|:-------------|:-------------|\n",
    "| 20 | 22 | 24 |\n",
    "| 21 | 21 | 23 |\n",
    "| 20 | 23 | 22 |\n",
    "| 19 | 22 | 23 |\n",
    "| 20 | 21 | 24 |\n",
    "\n",
    "With this data, he seeks to answer the following question: Is there a significant difference in average corn yield between the three types of fertilizers?\n",
    "\n",
    "To help you, follow the points below:\n",
    "\n",
    "- State the hypothesis: null and alternative hypothesis.\n",
    "- Perform the ANOVA test.\n",
    "- Analyze the conclusions.\n",
    "- If one fertilizer is better than another, how can we know it?"
   ]
  },
  {
   "cell_type": "markdown",
   "id": "930ce13f",
   "metadata": {},
   "source": [
    "### Hypothesis\n",
    "\n",
    "Null: All group means are the same\n",
    "Alternative: At least one group mean is different\n",
    "\n",
    "$$H_0: \\mu_1 = \\mu_2 = \\mu_3$$\n",
    "$$H_1: \\mu_{1, 2, 3} \\neq \\mu_{1, 2, 3}$$\n",
    "$$\\alpha = 0.05$$"
   ]
  },
  {
   "cell_type": "code",
   "execution_count": 25,
   "id": "eecad0ca",
   "metadata": {},
   "outputs": [
    {
     "name": "stdout",
     "output_type": "stream",
     "text": [
      "Multiple Comparison of Means - Tukey HSD, FWER=0.05\n",
      "==================================================\n",
      "group1 group2 meandiff p-adj  lower  upper  reject\n",
      "--------------------------------------------------\n",
      "    F1     F2      1.8 0.0099 0.4572 3.1428   True\n",
      "    F1     F3      3.2 0.0001 1.8572 4.5428   True\n",
      "    F2     F3      1.4 0.0409 0.0572 2.7428   True\n",
      "--------------------------------------------------\n"
     ]
    }
   ],
   "source": [
    "from statsmodels.stats.multicomp import pairwise_tukeyhsd\n",
    "\n",
    "\n",
    "data = [20, 21, 20, 19, 20, 22, 21, 23, 22, 21, 24, 23, 22, 23, 24]\n",
    "labels = [f\"F{i}\" for i in range(1, 4) for _ in range(5)]\n",
    "\n",
    "result = pairwise_tukeyhsd(data, labels, alpha = 0.05)\n",
    "print(result)"
   ]
  },
  {
   "cell_type": "markdown",
   "id": "f7bddd06",
   "metadata": {},
   "source": [
    "### Conclusion\n",
    "\n",
    "- The reject column of the Mean Comparison table is True for all fertilizer pairs, which indicates that the null hypothesis is rejected and there is a significant difference in mean yields between the groups.\n",
    "\n",
    "- By examining the meandiff column, it can be concluded that the **third fertilizer** achieves the highest average corn yield (in kg) among the three fertilizers, making it the most effective option based solely on this metric.\n",
    "\n",
    "- The observer mean difference between the first and third fertilizer (2nd row) is 3.2 kg, which is agronomically meaningful, highlighting the importance of using the right fertilizer in corn production. "
   ]
  }
 ],
 "metadata": {
  "kernelspec": {
   "display_name": ".venv (3.12.1)",
   "language": "python",
   "name": "python3"
  },
  "language_info": {
   "codemirror_mode": {
    "name": "ipython",
    "version": 3
   },
   "file_extension": ".py",
   "mimetype": "text/x-python",
   "name": "python",
   "nbconvert_exporter": "python",
   "pygments_lexer": "ipython3",
   "version": "3.12.1"
  }
 },
 "nbformat": 4,
 "nbformat_minor": 5
}
