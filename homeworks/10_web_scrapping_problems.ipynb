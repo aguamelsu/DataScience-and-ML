{
 "cells": [
  {
   "cell_type": "markdown",
   "id": "b04ae1d3",
   "metadata": {},
   "source": [
    "# Spotify Web Scrapping w Python"
   ]
  },
  {
   "cell_type": "markdown",
   "id": "9025f90b",
   "metadata": {},
   "source": [
    "### Scrapping from wikipedia"
   ]
  },
  {
   "cell_type": "code",
   "execution_count": 2,
   "id": "184f207b",
   "metadata": {},
   "outputs": [],
   "source": [
    "# Import libraries\n",
    "import requests\n",
    "from bs4 import BeautifulSoup\n",
    "import pandas as pd\n",
    "import matplotlib.pyplot as plt\n",
    "import seaborn as sns"
   ]
  },
  {
   "cell_type": "code",t
   "execution_count": null,
   "id": "efa9a354",
   "metadata": {},
   "outputs": [],
   "source": [
    "# Access HTML\n",
    "url = 'https://en.wikipedia.org/wiki/List_of_most-streamed_songs_on_Spotify'\n",
    "headers = {'User-Agent': 'MyWebScrapper/1.0'}\n",
    "response = requests.get(url, headers=headers)\n",
    "soup = BeautifulSoup(response.content, 'html.parser')"
   ]
  },
  {
   "cell_type": "code",
   "execution_count": 141,
   "id": "cf6c1bac",
   "metadata": {},
   "outputs": [
    {
     "data": {
      "text/plain": [
       "[<th>Rank\n",
       " </th>,\n",
       " <th>Song\n",
       " </th>,\n",
       " <th>Artist(s)\n",
       " </th>,\n",
       " <th>Streams<br/>(billions)\n",
       " </th>,\n",
       " <th>Release date\n",
       " </th>]"
      ]
     },
     "execution_count": 141,
     "metadata": {},
     "output_type": "execute_result"
    }
   ],
   "source": [
    "# Subset desired most streamed songs table\n",
    "tables = soup.find_all('table', class_='wikitable')\n",
    "most_streamed_songs = tables[0]\n",
    "most_streamed_songs.find_all('th')[:5]"
   ]
  },
  {
   "cell_type": "code",
   "execution_count": 142,
   "id": "97ec2c04",
   "metadata": {},
   "outputs": [
    {
     "data": {
      "text/plain": [
       "['Rank', 'Song', 'Artist(s)', 'Streams(billions)', 'Release date', 'Ref.']"
      ]
     },
     "execution_count": 142,
     "metadata": {},
     "output_type": "execute_result"
    }
   ],
   "source": [
    "# Extract table headers into table_headers\n",
    "header_cells = most_streamed_songs.find_all('tr')[0]\n",
    "table_headers = [cell.get_text(strip=True) for cell in header_cells if cell.get_text(strip=False) != '\\n']\n",
    "table_headers"
   ]
  },
  {
   "cell_type": "code",
   "execution_count": 143,
   "id": "ccdda788",
   "metadata": {},
   "outputs": [
    {
     "data": {
      "text/plain": [
       "[['1', 'Blinding Lights', 'The Weeknd', '5.000', '29 November 2019', '[1]'],\n",
       " ['2', 'Shape of You', 'Ed Sheeran', '4.528', '6 January 2017', '[2]'],\n",
       " ['3',\n",
       "  'Starboy',\n",
       "  'The WeekndandDaft Punk',\n",
       "  '4.063',\n",
       "  '21 September 2016',\n",
       "  '[3]'],\n",
       " ['4',\n",
       "  'Someone You Loved',\n",
       "  'Lewis Capaldi',\n",
       "  '4.032',\n",
       "  '8 November 2018',\n",
       "  '[4]'],\n",
       " ['5', 'As It Was', 'Harry Styles', '4.021', '1 April 2022', '[5]']]"
      ]
     },
     "execution_count": 143,
     "metadata": {},
     "output_type": "execute_result"
    }
   ],
   "source": [
    "# Extract table rows into a table_data\n",
    "rows = most_streamed_songs.find_all('tr')[1:]\n",
    "\n",
    "table_data = []\n",
    "for row in rows:\n",
    "    song_name = row.find('th').get_text(strip=True).replace('\"', '')\n",
    "    cells = row.find_all('td')\n",
    "\n",
    "    tmp_content = [cell.get_text(strip=True) for cell in cells]\n",
    "    tmp_content.insert(1, song_name)\n",
    "\n",
    "    table_data.append(tmp_content)\n",
    "    \n",
    "table_data[:5]"
   ]
  },
  {
   "cell_type": "code",
   "execution_count": 144,
   "id": "e281c5ca",
   "metadata": {},
   "outputs": [
    {
     "data": {
      "text/html": [
       "<div>\n",
       "<style scoped>\n",
       "    .dataframe tbody tr th:only-of-type {\n",
       "        vertical-align: middle;\n",
       "    }\n",
       "\n",
       "    .dataframe tbody tr th {\n",
       "        vertical-align: top;\n",
       "    }\n",
       "\n",
       "    .dataframe thead th {\n",
       "        text-align: right;\n",
       "    }\n",
       "</style>\n",
       "<table border=\"1\" class=\"dataframe\">\n",
       "  <thead>\n",
       "    <tr style=\"text-align: right;\">\n",
       "      <th></th>\n",
       "      <th>Rank</th>\n",
       "      <th>Song</th>\n",
       "      <th>Artist(s)</th>\n",
       "      <th>Streams(billions)</th>\n",
       "      <th>Release date</th>\n",
       "      <th>Ref.</th>\n",
       "    </tr>\n",
       "  </thead>\n",
       "  <tbody>\n",
       "    <tr>\n",
       "      <th>0</th>\n",
       "      <td>1</td>\n",
       "      <td>Blinding Lights</td>\n",
       "      <td>The Weeknd</td>\n",
       "      <td>5.000</td>\n",
       "      <td>29 November 2019</td>\n",
       "      <td>[1]</td>\n",
       "    </tr>\n",
       "    <tr>\n",
       "      <th>1</th>\n",
       "      <td>2</td>\n",
       "      <td>Shape of You</td>\n",
       "      <td>Ed Sheeran</td>\n",
       "      <td>4.528</td>\n",
       "      <td>6 January 2017</td>\n",
       "      <td>[2]</td>\n",
       "    </tr>\n",
       "    <tr>\n",
       "      <th>2</th>\n",
       "      <td>3</td>\n",
       "      <td>Starboy</td>\n",
       "      <td>The WeekndandDaft Punk</td>\n",
       "      <td>4.063</td>\n",
       "      <td>21 September 2016</td>\n",
       "      <td>[3]</td>\n",
       "    </tr>\n",
       "    <tr>\n",
       "      <th>3</th>\n",
       "      <td>4</td>\n",
       "      <td>Someone You Loved</td>\n",
       "      <td>Lewis Capaldi</td>\n",
       "      <td>4.032</td>\n",
       "      <td>8 November 2018</td>\n",
       "      <td>[4]</td>\n",
       "    </tr>\n",
       "    <tr>\n",
       "      <th>4</th>\n",
       "      <td>5</td>\n",
       "      <td>As It Was</td>\n",
       "      <td>Harry Styles</td>\n",
       "      <td>4.021</td>\n",
       "      <td>1 April 2022</td>\n",
       "      <td>[5]</td>\n",
       "    </tr>\n",
       "  </tbody>\n",
       "</table>\n",
       "</div>"
      ],
      "text/plain": [
       "  Rank               Song               Artist(s) Streams(billions)  \\\n",
       "0    1    Blinding Lights              The Weeknd             5.000   \n",
       "1    2       Shape of You              Ed Sheeran             4.528   \n",
       "2    3            Starboy  The WeekndandDaft Punk             4.063   \n",
       "3    4  Someone You Loved           Lewis Capaldi             4.032   \n",
       "4    5          As It Was            Harry Styles             4.021   \n",
       "\n",
       "        Release date Ref.  \n",
       "0   29 November 2019  [1]  \n",
       "1     6 January 2017  [2]  \n",
       "2  21 September 2016  [3]  \n",
       "3    8 November 2018  [4]  \n",
       "4       1 April 2022  [5]  "
      ]
     },
     "execution_count": 144,
     "metadata": {},
     "output_type": "execute_result"
    }
   ],
   "source": [
    "df_raw = pd.DataFrame(data=table_data, columns=table_headers)\n",
    "df_raw.head()"
   ]
  },
  {
   "cell_type": "markdown",
   "id": "7e073a8d",
   "metadata": {},
   "source": [
    "### Data preprocessing and analysis"
   ]
  },
  {
   "cell_type": "code",
   "execution_count": 145,
   "id": "9ca5b05f",
   "metadata": {},
   "outputs": [
    {
     "name": "stdout",
     "output_type": "stream",
     "text": [
      "<class 'pandas.core.frame.DataFrame'>\n",
      "RangeIndex: 101 entries, 0 to 100\n",
      "Data columns (total 6 columns):\n",
      " #   Column             Non-Null Count  Dtype \n",
      "---  ------             --------------  ----- \n",
      " 0   Rank               101 non-null    object\n",
      " 1   Song               100 non-null    object\n",
      " 2   Artist(s)          100 non-null    object\n",
      " 3   Streams(billions)  100 non-null    object\n",
      " 4   Release date       100 non-null    object\n",
      " 5   Ref.               100 non-null    object\n",
      "dtypes: object(6)\n",
      "memory usage: 4.9+ KB\n"
     ]
    }
   ],
   "source": [
    "df_baking = df_raw.copy()\n",
    "df_baking.info()"
   ]
  },
  {
   "cell_type": "code",
   "execution_count": 146,
   "id": "b84deace",
   "metadata": {},
   "outputs": [
    {
     "data": {
      "text/html": [
       "<div>\n",
       "<style scoped>\n",
       "    .dataframe tbody tr th:only-of-type {\n",
       "        vertical-align: middle;\n",
       "    }\n",
       "\n",
       "    .dataframe tbody tr th {\n",
       "        vertical-align: top;\n",
       "    }\n",
       "\n",
       "    .dataframe thead th {\n",
       "        text-align: right;\n",
       "    }\n",
       "</style>\n",
       "<table border=\"1\" class=\"dataframe\">\n",
       "  <thead>\n",
       "    <tr style=\"text-align: right;\">\n",
       "      <th></th>\n",
       "      <th>Rank</th>\n",
       "      <th>Song</th>\n",
       "      <th>Artist(s)</th>\n",
       "      <th>Streams(billions)</th>\n",
       "      <th>Release date</th>\n",
       "      <th>Ref.</th>\n",
       "    </tr>\n",
       "  </thead>\n",
       "  <tbody>\n",
       "    <tr>\n",
       "      <th>100</th>\n",
       "      <td>As of 31 August 2025</td>\n",
       "      <td>None</td>\n",
       "      <td>None</td>\n",
       "      <td>None</td>\n",
       "      <td>None</td>\n",
       "      <td>None</td>\n",
       "    </tr>\n",
       "  </tbody>\n",
       "</table>\n",
       "</div>"
      ],
      "text/plain": [
       "                     Rank  Song Artist(s) Streams(billions) Release date  Ref.\n",
       "100  As of 31 August 2025  None      None              None         None  None"
      ]
     },
     "metadata": {},
     "output_type": "display_data"
    }
   ],
   "source": [
    "display(df_baking[df_baking.isna().any(axis=1)]) # This is the last line of the wikipedia table, thus will be dropped\n",
    "df_baking = df_baking.dropna()"
   ]
  },
  {
   "cell_type": "code",
   "execution_count": 147,
   "id": "7e3a92d5",
   "metadata": {},
   "outputs": [],
   "source": [
    "df_baking.columns = df_baking.columns.str.lower()"
   ]
  },
  {
   "cell_type": "markdown",
   "id": "edf1962f",
   "metadata": {},
   "source": [
    "### Cleaning and dtypes\n",
    "\n",
    "- Rank column can be dropped, since the rank can be implicitly known by sorting the values by # of streams\n",
    "- Songs $\\rightarrow$ str\n",
    "- Artists $\\rightarrow$ category (Only a finite number of artist for different songs)\n",
    "- Streams $\\rightarrow$ Float\n",
    "- Release date $\\rightarrow$ datetime (extract year, so int is just as fine)\n",
    "- Ref column can be dropped, since they refer to an external link inside wikipedia, which is not useful for analysis"
   ]
  },
  {
   "cell_type": "code",
   "execution_count": 148,
   "id": "66a9a98f",
   "metadata": {},
   "outputs": [],
   "source": [
    "# Drop unnecesary columns\n",
    "df_baking = df_baking.drop(columns=['rank', 'ref.'])"
   ]
  },
  {
   "cell_type": "code",
   "execution_count": 149,
   "id": "a9e8fb87",
   "metadata": {},
   "outputs": [],
   "source": [
    "# Converting str columns\n",
    "df_baking['song'] = df_baking['song'].astype('str')\n",
    "\n",
    "# Cleaning artist names \n",
    "df_baking[\"artist(s)\"] = df_baking[\"artist(s)\"].str.replace(\"and\", \" and \", regex=False)\n",
    "df_baking[\"artist(s)\"] = df_baking[\"artist(s)\"].str.replace(\"with\", \" with \", regex=False)\n",
    "df_baking['artist(s)'] = df_baking['artist(s)'].astype('category')"
   ]
  },
  {
   "cell_type": "code",
   "execution_count": 150,
   "id": "7dd7d945",
   "metadata": {},
   "outputs": [
    {
     "data": {
      "text/plain": [
       "0     2019\n",
       "1     2017\n",
       "2     2016\n",
       "3     2018\n",
       "4     2022\n",
       "      ... \n",
       "95    2020\n",
       "96    2003\n",
       "97    2017\n",
       "98    2017\n",
       "99    1988\n",
       "Name: release date, Length: 100, dtype: int32"
      ]
     },
     "execution_count": 150,
     "metadata": {},
     "output_type": "execute_result"
    }
   ],
   "source": [
    "# Converting release into date dtype\n",
    "df_baking['release date'] = pd.to_datetime(df_baking['release date']).dt.year\n",
    "df_baking['release date']"
   ]
  },
  {
   "cell_type": "code",
   "execution_count": 151,
   "id": "1c32725a",
   "metadata": {},
   "outputs": [
    {
     "data": {
      "text/html": [
       "<div>\n",
       "<style scoped>\n",
       "    .dataframe tbody tr th:only-of-type {\n",
       "        vertical-align: middle;\n",
       "    }\n",
       "\n",
       "    .dataframe tbody tr th {\n",
       "        vertical-align: top;\n",
       "    }\n",
       "\n",
       "    .dataframe thead th {\n",
       "        text-align: right;\n",
       "    }\n",
       "</style>\n",
       "<table border=\"1\" class=\"dataframe\">\n",
       "  <thead>\n",
       "    <tr style=\"text-align: right;\">\n",
       "      <th></th>\n",
       "      <th>song</th>\n",
       "      <th>artist(s)</th>\n",
       "      <th>streams(billions)</th>\n",
       "      <th>release date</th>\n",
       "    </tr>\n",
       "  </thead>\n",
       "  <tbody>\n",
       "    <tr>\n",
       "      <th>15</th>\n",
       "      <td>Dance Monkey</td>\n",
       "      <td>Tones  and  I</td>\n",
       "      <td>3.314</td>\n",
       "      <td>2019</td>\n",
       "    </tr>\n",
       "    <tr>\n",
       "      <th>52</th>\n",
       "      <td>Mr. Brightside</td>\n",
       "      <td>The Killers</td>\n",
       "      <td>2.761</td>\n",
       "      <td>2003</td>\n",
       "    </tr>\n",
       "    <tr>\n",
       "      <th>74</th>\n",
       "      <td>Smells Like Teen Spirit</td>\n",
       "      <td>Nirvana</td>\n",
       "      <td>2.544</td>\n",
       "      <td>1991</td>\n",
       "    </tr>\n",
       "    <tr>\n",
       "      <th>28</th>\n",
       "      <td>Cruel Summer</td>\n",
       "      <td>Taylor Swift</td>\n",
       "      <td>3.048</td>\n",
       "      <td>2019</td>\n",
       "    </tr>\n",
       "    <tr>\n",
       "      <th>35</th>\n",
       "      <td>Goosebumps</td>\n",
       "      <td>Travis Scott and Kendrick Lamar</td>\n",
       "      <td>2.924</td>\n",
       "      <td>2016</td>\n",
       "    </tr>\n",
       "    <tr>\n",
       "      <th>84</th>\n",
       "      <td>Happier</td>\n",
       "      <td>Marshmello and Bastille</td>\n",
       "      <td>2.465</td>\n",
       "      <td>2018</td>\n",
       "    </tr>\n",
       "    <tr>\n",
       "      <th>39</th>\n",
       "      <td>Just the Way You Are</td>\n",
       "      <td>Bruno Mars</td>\n",
       "      <td>2.882</td>\n",
       "      <td>2010</td>\n",
       "    </tr>\n",
       "    <tr>\n",
       "      <th>11</th>\n",
       "      <td>Heat Waves</td>\n",
       "      <td>Glass Animals</td>\n",
       "      <td>3.509</td>\n",
       "      <td>2020</td>\n",
       "    </tr>\n",
       "    <tr>\n",
       "      <th>55</th>\n",
       "      <td>Without Me</td>\n",
       "      <td>Eminem</td>\n",
       "      <td>2.752</td>\n",
       "      <td>2002</td>\n",
       "    </tr>\n",
       "    <tr>\n",
       "      <th>21</th>\n",
       "      <td>The Night We Met</td>\n",
       "      <td>Lord Huron</td>\n",
       "      <td>3.235</td>\n",
       "      <td>2015</td>\n",
       "    </tr>\n",
       "  </tbody>\n",
       "</table>\n",
       "</div>"
      ],
      "text/plain": [
       "                       song                        artist(s)  \\\n",
       "15             Dance Monkey                    Tones  and  I   \n",
       "52           Mr. Brightside                      The Killers   \n",
       "74  Smells Like Teen Spirit                          Nirvana   \n",
       "28             Cruel Summer                     Taylor Swift   \n",
       "35               Goosebumps  Travis Scott and Kendrick Lamar   \n",
       "84                  Happier          Marshmello and Bastille   \n",
       "39     Just the Way You Are                       Bruno Mars   \n",
       "11               Heat Waves                    Glass Animals   \n",
       "55               Without Me                           Eminem   \n",
       "21         The Night We Met                       Lord Huron   \n",
       "\n",
       "   streams(billions)  release date  \n",
       "15             3.314          2019  \n",
       "52             2.761          2003  \n",
       "74             2.544          1991  \n",
       "28             3.048          2019  \n",
       "35             2.924          2016  \n",
       "84             2.465          2018  \n",
       "39             2.882          2010  \n",
       "11             3.509          2020  \n",
       "55             2.752          2002  \n",
       "21             3.235          2015  "
      ]
     },
     "execution_count": 151,
     "metadata": {},
     "output_type": "execute_result"
    }
   ],
   "source": [
    "df = df_baking.copy()\n",
    "df.sample(10)"
   ]
  },
  {
   "cell_type": "markdown",
   "id": "c111f84d",
   "metadata": {},
   "source": [
    "### Visualization"
   ]
  },
  {
   "cell_type": "code",
   "execution_count": 67,
   "id": "76f4bfc4",
   "metadata": {},
   "outputs": [
    {
     "data": {
      "image/png": "iVBORw0KGgoAAAANSUhEUgAAA0kAAAGfCAYAAACKgZlbAAAAOnRFWHRTb2Z0d2FyZQBNYXRwbG90bGliIHZlcnNpb24zLjEwLjUsIGh0dHBzOi8vbWF0cGxvdGxpYi5vcmcvWftoOwAAAAlwSFlzAAAPYQAAD2EBqD+naQAAVKhJREFUeJzt3Xd4FGX79vFzk5CEVEIJvRchFGmiFAGVKiI8KkWlqqiAIiCKUaoPiKgoioiKShFFBJHHQhERRFQ62IAQqihNaqgBkuv9gx/77pKAxEw2ZP1+jmOPIzOzO+d9z+xm99qZuddlZiYAAAAAgCQpILsbAAAAAABXE4okAAAAAPBAkQQAAAAAHiiSAAAAAMADRRIAAAAAeKBIAgAAAAAPFEkAAAAA4IEiCQAAAAA8UCQBAAAAgAeKJAA53pIlS+RyuTRr1qzsbsoV2bdvn+666y7ly5dPLpdLY8eOze4m+dSOHTvkcrk0efLk7G7KPzJ58mS5XC6tXr36svcbNmyYXC6Xj1rlf0qVKqXbbrstu5sB4F+KIgnAFbnwwTA0NFR//vlnmuWNGzdWlSpVsqFlOU+/fv20YMECxcfH6/3331eLFi2yu0lAttiwYYOGDRumHTt2ZHdTAMALRRKADElOTtbzzz+f3c3I0b755hu1adNGAwYMUKdOnVSxYsXsbpJPlSxZUqdOnVLnzp2zuylZatCgQTp16lR2N+OqtmHDBg0fPpwiCcBVhyIJQIZUr15dEydO1O7du7O7KT534sQJR9azf/9+5cmTx5F15UQXjkgGBgZmWYaZZXuBEhQUpNDQ0Gxtw9XAqdfNvwHbCrh6UCQByJCnn35aKSkpf3s06XLXnbhcLg0bNsw9feHajc2bN6tTp06Kjo5WgQIFNHjwYJmZdu3apTZt2igqKkqFChXSmDFj0s1MSUnR008/rUKFCik8PFy33367du3aleZ+K1asUIsWLRQdHa2wsDA1atRI33//vdd9LrRpw4YNuueeexQTE6MGDRpcts/btm1Tu3btlDdvXoWFhemGG27Ql19+6V5+4ZRFM9P48ePlcrn+9pqVjz76SLVq1VJkZKSioqJUtWpVvfrqqxnKlf7/dVsff/yxRo4cqWLFiik0NFS33HKLtmzZkiZ3/PjxKlOmjHLnzq06derou+++U+PGjdW4cWOv+40bN06VK1dWWFiYYmJiVLt2bX344YeX7VN6z41u3bopIiJCf/75p9q2bauIiAgVKFBAAwYMUEpKymXXJ/3/61cWLFig2rVrK3fu3HrrrbckSZMmTdLNN9+s2NhYhYSEKC4uThMmTLjkOpYtW6Y6deooNDRUZcqU0dSpU/82//Dhw6pTp46KFSumhIQESelfk+RyufTII49ozpw5qlKlikJCQlS5cmXNnz8/zTqXLFmi2rVrKzQ0VGXLltVbb72VoeucZs6cqVq1ail37tzKnz+/OnXq5HWq7EsvvSSXy6WdO3emeWx8fLyCg4N1+PBh9zynXzeTJ09Wu3btJEk33XST+/WwZMkSr/tdyf44cuSI+vbtq+LFiyskJETlypXT6NGjlZqaetlt1LVrV+XPn19nz55Ns6xZs2a65pprvOZNmzbNvU3z5s2rjh07pvkf891336ldu3YqUaKEQkJCVLx4cfXr1y9N0X7hOb9161bdeuutioyM1L333itJSkxM1J133qlChQopNDRUxYoVU8eOHXX06NHL9geAcyiSAGRI6dKl1aVLlyw5mtShQwelpqbq+eef1/XXX68RI0Zo7Nixatq0qYoWLarRo0erXLlyGjBggJYuXZrm8SNHjtSXX36pgQMHqk+fPlq4cKGaNGni9eHkm2++UcOGDZWUlKShQ4fqueee05EjR3TzzTdr5cqVadbZrl07nTx5Us8995x69Ohxybbv27dP9erV04IFC9SrVy+NHDlSp0+f1u23365PP/1UktSwYUO9//77kqSmTZvq/fffd0+nZ+HChbr77rsVExOj0aNH6/nnn1fjxo29PpheSa6n559/Xp9++qkGDBig+Ph4LV++3P3B7IIJEybokUceUbFixfTCCy/oxhtvVNu2bfXHH3943W/ixInq06eP4uLiNHbsWA0fPlzVq1fXihUrLtmny0lJSVHz5s2VL18+vfTSS2rUqJHGjBmjt99++4oen5CQoLvvvltNmzbVq6++qurVq7v7U7JkST399NMaM2aMihcvrl69emn8+PFp1rFlyxbdddddatq0qcaMGaOYmBh169ZNv/322yVzDxw4oJtvvln79u3Tt99+m+aD9cWWLVumXr16qWPHjnrhhRd0+vRp3XnnnTp48KD7PuvWrVOLFi108OBBDR8+XPfff7+effZZzZkz54q2xeTJk9W+fXsFBgZq1KhR6tGjh2bPnq0GDRroyJEjkqT27du7C+eLffzxx2rWrJliYmIkZc3rpmHDhurTp4+k81++XHg9VKpUyX2fK9kfJ0+eVKNGjTRt2jR16dJFr732murXr6/4+Hj179//stupc+fOOnjwoBYsWOA1f+/evfrmm2/UqVMn97yRI0eqS5cuKl++vF5++WX17dtXixYtUsOGDd3bVDpfnJ48eVI9e/bUuHHj1Lx5c40bN05dunRJk3/u3Dk1b95csbGxeumll3TnnXfqzJkzat68uZYvX65HH31U48eP14MPPqht27Z55QDIYgYAV2DSpEkmyVatWmVbt261oKAg69Onj3t5o0aNrHLlyu7p7du3mySbNGlSmnVJsqFDh7qnhw4dapLswQcfdM87d+6cFStWzFwulz3//PPu+YcPH7bcuXNb165d3fMWL15skqxo0aKWlJTknv/xxx+bJHv11VfNzCw1NdXKly9vzZs3t9TUVPf9Tp48aaVLl7amTZumadPdd999Rdunb9++Jsm+++4797xjx45Z6dKlrVSpUpaSkuLV/969e//tOh977DGLioqyc+fOZTr3wjaqVKmSJScnu+/76quvmiT75ZdfzMwsOTnZ8uXLZ9ddd52dPXvWfb/JkyebJGvUqJF7Xps2bbz2+ZVK77nRtWtXk2TPPvus131r1KhhtWrV+tt1lixZ0iTZ/Pnz0yw7efJkmnnNmze3MmXKpLuOpUuXuuft37/fQkJC7PHHH3fP83wt7NmzxypXrmxlypSxHTt2eK3vwnPIkyQLDg62LVu2uOf99NNPJsnGjRvnnte6dWsLCwuzP//80z0vMTHRgoKC0qzzYmfOnLHY2FirUqWKnTp1yj3/iy++MEk2ZMgQ97y6deum2b4rV640STZ16lQzy9rXzcyZM02SLV68OM2yK90f//3vfy08PNw2b97s9finnnrKAgMD7ffff79kfkpKihUrVsw6dOjgNf/ll182l8tl27ZtMzOzHTt2WGBgoI0cOdLrfr/88osFBQV5zU/v+TZq1ChzuVy2c+dO97wLz/mnnnrK677r1q0zSTZz5sxLthtA1uNIEoAMK1OmjDp37qy3335be/bscWy9DzzwgPvvwMBA1a5dW2am+++/3z0/T548uuaaa7Rt27Y0j+/SpYsiIyPd03fddZcKFy6suXPnSpLWr1+vxMRE3XPPPTp48KAOHDigAwcO6MSJE7rlllu0dOnSNKfnPPzww1fU9rlz56pOnTpepxZFRETowQcf1I4dO7Rhw4Yr2wge8uTJoxMnTmjhwoWO5Xbv3l3BwcHu6RtvvFGS3Ntz9erVOnjwoHr06KGgoCD3/e699173UQXP9v3xxx9atWpVhvt2KRdv7xtvvDHdfZ2e0qVLq3nz5mnm586d2/330aNHdeDAATVq1Ejbtm1Lc/pSXFyce5tIUoECBS75fPvjjz/UqFEjnT17VkuXLlXJkiWvqJ1NmjRR2bJl3dPVqlVTVFSUOyMlJUVff/212rZtqyJFirjvV65cObVs2fJv17969Wrt379fvXr18romqlWrVqpYsaLXqZgdOnTQmjVrtHXrVve8GTNmKCQkRG3atJGUta+bv3Ml+2PmzJm68cYbFRMT427bgQMH1KRJE6WkpKR71PmCgIAA3Xvvvfrss8907Ngx9/wPPvhA9erVU+nSpSVJs2fPVmpqqtq3b++VUahQIZUvX16LFy92P9bz+XbixAkdOHBA9erVk5lp3bp1adrQs2dPr+no6GhJ0oIFC3Ty5Mkr3VQAHEaRBOAfGTRokM6dO+foSHclSpTwmo6OjlZoaKjy58+fZr7ntRIXlC9f3mva5XKpXLly7pGzEhMTJZ2/DqFAgQJet3feeUfJyclpPjRf+JD0d3bu3JnuaVYXTh1K77qPv9OrVy9VqFBBLVu2VLFixXTfffeluXYlo7kXb+MLhc+F7Xnh/uXKlfO6X1BQkEqVKuU1b+DAgYqIiFCdOnVUvnx59e7dO801KhkRGhqqAgUKpGlfevs6PZfaV99//72aNGmi8PBw5cmTRwUKFNDTTz8tSWn298Xb53Jt6Ny5s/bv369vv/1WRYsWvaI2XknG/v37derUqTT7QEq7X9JzYR+m97yoWLGi13OiXbt2CggI0IwZMySdH/Bi5syZatmypaKioiRl7evm71zJ/khMTNT8+fPTtK1JkyaSzm/Py+nSpYtOnTrlPj01ISFBa9as8Rp9MTExUWam8uXLp8nZuHGjV8bvv/+ubt26KW/evO5r6xo1aiQp7fMtKChIxYoV85pXunRp9e/fX++8847y58+v5s2ba/z48VyPBPhY0N/fBQDSKlOmjDp16qS3335bTz31VJrll7q4/HIX4ac32tmlRkAzsyts6f934dvuF1980X29ysUiIiK8pj2/Ffa12NhYrV+/XgsWLNC8efM0b948TZo0SV26dNGUKVP+0Tqd3J6VKlVSQkKCvvjiC82fP1+ffPKJ3njjDQ0ZMkTDhw93rG1XKr19tXXrVt1yyy2qWLGiXn75ZRUvXlzBwcGaO3euXnnllTRHQDKyfe644w5NnTpVr776qkaNGnXF7XRyH2RWkSJFdOONN+rjjz/W008/reXLl+v333/X6NGj3ffJztfNlWyr1NRUNW3aVE8++WS6961QocJlM+Li4lSrVi33NU3Tpk1TcHCw2rdv75Xhcrk0b968dNt0of8pKSlq2rSpDh06pIEDB6pixYoKDw/Xn3/+qW7duqV5voWEhCggIO331WPGjFG3bt30v//9T1999ZX69OmjUaNGafny5WmKKgBZgyIJwD82aNAgTZs2zesD1QUXjlBcfKHxPzmicqUufON9gZlpy5YtqlatmiS5T3GKiopyf8vslJIlS7pHNfO0adMm9/J/Ijg4WK1bt1br1q2VmpqqXr166a233tLgwYNVrlw5x3Mv3H/Lli266aab3PPPnTunHTt2uLflBeHh4erQoYM6dOigM2fO6I477tDIkSMVHx9/VQx//fnnnys5OVmfffaZ11EJz9Oj/qlHH31U5cqV05AhQxQdHZ3ulwX/RGxsrEJDQ9MddTC9eRe7sA8TEhJ08803ey1LSEhI85zo0KGDevXqpYSEBM2YMUNhYWFq3bq1e3lWvm6udKS+yylbtqyOHz+eqbZ16dJF/fv31549e/Thhx+qVatWXqeXli1bVmam0qVLX7bo+uWXX7R582ZNmTLFa6CGy50yeylVq1ZV1apVNWjQIP3www+qX7++3nzzTY0YMSLD6wKQcZxuB+AfK1u2rDp16qS33npLe/fu9VoWFRWl/Pnzp7ke4I033siy9kydOtXruoJZs2Zpz5497us4atWqpbJly+qll17S8ePH0zz+r7/++sfZt956q1auXKkff/zRPe/EiRN6++23VapUKcXFxWV4nZ6jnUnnr5+4UKQkJydnSW7t2rWVL18+TZw4UefOnXPP/+CDD9KccnZx+4KDgxUXFyczS3dI5exw4Vt/zyMPR48e1aRJkxxZ/+DBg90jBaY3rPg/ERgYqCZNmmjOnDleI0hu2bJF8+bN+9vH165dW7GxsXrzzTfdzxNJmjdvnjZu3KhWrVp53f/OO+9UYGCgpk+frpkzZ+q2225TeHi4e3lWvm4u5GRm1Lb27dvrxx9/TDNC3YX1ej6PL+Xuu++Wy+XSY489pm3btnmNaiedP2oYGBio4cOHpzniZ2bu10J6zzczSzNs/+UkJSWlaXPVqlUVEBDgtT8BZC2OJAHIlGeeeUbvv/++EhISVLlyZa9lDzzwgJ5//nk98MADql27tpYuXarNmzdnWVvy5s2rBg0aqHv37tq3b5/Gjh2rcuXKuYcgDggI0DvvvKOWLVuqcuXK6t69u4oWLao///xTixcvVlRUlD7//PN/lP3UU09p+vTpatmypfr06aO8efNqypQp2r59uz755JN0T6n5Ow888IAOHTqkm2++WcWKFdPOnTs1btw4Va9e3X3NkdO5wcHBGjZsmB599FHdfPPNat++vXbs2KHJkyerbNmyXt/8N2vWTIUKFVL9+vVVsGBBbdy4Ua+//rpatWrlNYBGdmrWrJn7aNxDDz2k48ePa+LEiYqNjXVs0JEXX3xRR48eVe/evRUZGZnmA/Y/MWzYMH311VeqX7++evbsqZSUFL3++uuqUqWK1q9ff9nH5sqVS6NHj1b37t3VqFEj3X333dq3b59effVVlSpVSv369fO6f2xsrG666Sa9/PLLOnbsmDp06OC1PCtfN9WrV1dgYKBGjx6to0ePKiQkxP2bVlfqiSee0GeffabbbrtN3bp1U61atXTixAn98ssvmjVrlnbs2JHmusaLFShQQC1atNDMmTOVJ0+eNIVk2bJlNWLECMXHx2vHjh1q27atIiMjtX37dn366ad68MEHNWDAAFWsWFFly5bVgAED9OeffyoqKkqffPLJFV9XJ50fbv2RRx5Ru3btVKFCBZ07d07vv/++AgMDdeedd17xegBkks/H0wOQI3kOe3yxC0PZXjwc9MmTJ+3++++36Ohoi4yMtPbt29v+/fsvOQT4X3/9lWa94eHhafIuHm78wvDW06dPt/j4eIuNjbXcuXNbq1atvIbcvWDdunV2xx13WL58+SwkJMRKlixp7du3t0WLFv1tmy5n69atdtddd1mePHksNDTU6tSpY1988UWa++kKhwCfNWuWNWvWzGJjYy04ONhKlChhDz30kO3ZsyfDuRe20cXDCl9qqPbXXnvNSpYsaSEhIVanTh37/vvvrVatWtaiRQv3fd566y1r2LChezuWLVvWnnjiCTt69Ohl+3WpIcDT29fpDaOdnpIlS1qrVq3SXfbZZ59ZtWrVLDQ01EqVKmWjR4+29957zyTZ9u3b/3YdjRo18hr6PL3XQkpKit19990WFBRkc+bMuWTbL7XvS5Ys6TWsvZnZokWLrEaNGhYcHGxly5a1d955xx5//HELDQ39u81hZmYzZsywGjVqWEhIiOXNm9fuvfde++OPP9K978SJE02SRUZGeg0b7imrXjcTJ060MmXKWGBgoNdw4Fe6P8zOD3sfHx9v5cqVs+DgYMufP7/Vq1fPXnrpJTtz5swVtePCTwZ4/hTBxT755BNr0KCBhYeHW3h4uFWsWNF69+5tCQkJ7vts2LDBmjRpYhEREZY/f37r0aOHe5j3K3nOb9u2ze677z4rW7ashYaGWt68ee2mm26yr7/++or6AcAZLrNsuFIUAJCjpKamqkCBArrjjjs0ceLE7G7Ov1bbtm3122+/pbn+Dpn3v//9T23bttXSpUu9hh0H8O/ENUkAAC+nT59Oc93F1KlTdejQITVu3Dh7GvUvdOrUKa/pxMREzZ07l32QRSZOnKgyZcp4/eYYgH8vrkkCAHhZvny5+vXrp3bt2ilfvnxau3at3n33XVWpUkXt2rXL7ub9a5QpU0bdunVTmTJltHPnTk2YMEHBwcGXHOoa/8xHH32kn3/+WV9++aVeffVVR0bcA5DzcbodAMDLjh071KdPH61cuVKHDh1S3rx5deutt+r555/P0AX1yJzu3btr8eLF2rt3r0JCQlS3bl0999xzqlmzZnY3za+4XC5FRESoQ4cOevPNNxUUxPfHACiSAAAAAMAL1yQBAAAAgAeKJAAAAADw4Pcn3qampmr37t2KjIzkYkwAAADgX8zMdOzYMRUpUuSyP7ju90XS7t27Vbx48exuBgAAAICrxK5du1SsWLFLLvf7IikyMlLS+Q0RFRWVza0BAAAAkF2SkpJUvHhxd41wKX5fJF04xS4qKooiCQAAAMDfXobDwA0AAAAA4IEiCQAAAAA8UCQBAAAAgAeKJAAAAADwQJEEAAAAAB4okgAAAADAA0USAAAAAHigSAIAAAAADxRJAAAAAOCBIgkAAAAAPFAkAQAAAIAHiiQAAAAA8BCU3Q0AAADA34vpF+P4Og+/ctjxdQL+gCNJAAAAAOCBIgkAAAAAPFAkAQAAAIAHiiQAAAAA8ECRBAAAAAAeKJIAAAAAwANFEgAAAAB4oEgCAAAAAA8USQAAAADggSIJAAAAADxQJAEAAACAB4okAAAAAPBAkQQAAAAAHiiSAAAAAMADRRIAAAAAeKBIAgAAAAAPFEkAAAAA4CFbi6SlS5eqdevWKlKkiFwul+bMmeNedvbsWQ0cOFBVq1ZVeHi4ihQpoi5dumj37t3Z12AAAAAAfi9bi6QTJ07o2muv1fjx49MsO3nypNauXavBgwdr7dq1mj17thISEnT77bdnQ0sBAAAA/FsEZWd4y5Yt1bJly3SXRUdHa+HChV7zXn/9ddWpU0e///67SpQo4YsmAgAAAPiXydYiKaOOHj0ql8ulPHnyXPI+ycnJSk5Odk8nJSX5oGUAAAAA/EWOGbjh9OnTGjhwoO6++25FRUVd8n6jRo1SdHS0+1a8eHEfthIAAABATpcjiqSzZ8+qffv2MjNNmDDhsveNj4/X0aNH3bddu3b5qJUAAAAA/MFVf7rdhQJp586d+uabby57FEmSQkJCFBIS4qPWAQAAAPA3V3WRdKFASkxM1OLFi5UvX77sbhIAAAAAP5etRdLx48e1ZcsW9/T27du1fv165c2bV4ULF9Zdd92ltWvX6osvvlBKSor27t0rScqbN6+Cg4Ozq9kAAAAA/Fi2FkmrV6/WTTfd5J7u37+/JKlr164aNmyYPvvsM0lS9erVvR63ePFiNW7c2FfNBAAAAPAvkq1FUuPGjWVml1x+uWUAAAAAkBVyxOh2AAAAAOArFEkAAAAA4IEiCQAAAAA8UCQBAAAAgAeKJAAAAADwQJEEAAAAAB4okgAAAADAA0USAAAAAHigSAIAAAAADxRJAAAAAOCBIgkAAAAAPFAkAQAAAIAHiiQAAAAA8ECRBAAAAAAeKJIAAAAAwANFEgAAAAB4CMruBgAAAODqEtMvxvF1Hn7lsOPrBLIKR5IAAAAAwANFEgAAAAB4oEgCAAAAAA8USQAAAADggSIJAAAAADxQJAEAAACAB4okAAAAAPBAkQQAAAAAHiiSAAAAAMADRRIAAAAAeKBIAgAAAAAPFEkAAAAA4IEiCQAAAAA8UCQBAAAAgAeKJAAAAADwQJEEAAAAAB4okgAAAADAQ7YWSUuXLlXr1q1VpEgRuVwuzZkzx2u5mWnIkCEqXLiwcufOrSZNmigxMTF7GgsAAADgXyFbi6QTJ07o2muv1fjx49Nd/sILL+i1117Tm2++qRUrVig8PFzNmzfX6dOnfdxSAAAAAP8WQdkZ3rJlS7Vs2TLdZWamsWPHatCgQWrTpo0kaerUqSpYsKDmzJmjjh07+rKpAAAAAP4lrtprkrZv3669e/eqSZMm7nnR0dG6/vrr9eOPP2ZjywAAAAD4s2w9knQ5e/fulSQVLFjQa37BggXdy9KTnJys5ORk93RSUlLWNBAAAACAX7pqjyT9U6NGjVJ0dLT7Vrx48exuEgAAAIAc5KotkgoVKiRJ2rdvn9f8ffv2uZelJz4+XkePHnXfdu3alaXtBAAAAOBfrtoiqXTp0ipUqJAWLVrknpeUlKQVK1aobt26l3xcSEiIoqKivG4AAAAAcKWy9Zqk48ePa8uWLe7p7du3a/369cqbN69KlCihvn37asSIESpfvrxKly6twYMHq0iRImrbtm32NRoAAACAX8vWImn16tW66aab3NP9+/eXJHXt2lWTJ0/Wk08+qRMnTujBBx/UkSNH1KBBA82fP1+hoaHZ1WQAAAAAfs5lZpbdjchKSUlJio6O1tGjRzn1DgAA5Fgx/WIcX+fhVw5nexbgS1daG1y11yQBAAAAQHagSAIAAAAADxRJAAAAAOCBIgkAAAAAPFAkAQAAAIAHiiQAAAAA8ECRBAAAAAAeKJIAAAAAwANFEgAAAAB4oEgCAAAAAA8USQAAAADggSIJAAAAADxQJAEAAACAB4okAAAAAPBAkQQAAAAAHiiSAAAAAMBDUHY3AAAAIKeK6Rfj+DoPv3LY8XVerbJi+0n/rm2IrMGRJAAAAADwQJEEAAAAAB4okgAAAADAA0USAAAAAHigSAIAAAAADxRJAAAAAOCBIgkAAAAAPFAkAQAAAIAHiiQAAAAA8ECRBAAAAAAeKJIAAAAAwANFEgAAAAB4oEgCAAAAAA8ZLpLWrl2rX375xT39v//9T23bttXTTz+tM2fOONo4AAAAAPC1DBdJDz30kDZv3ixJ2rZtmzp27KiwsDDNnDlTTz75pOMNBAAAAABfynCRtHnzZlWvXl2SNHPmTDVs2FAffvihJk+erE8++cTp9gEAAACAT2W4SDIzpaamSpK+/vpr3XrrrZKk4sWL68CBA862DgAAAAB8LMNFUu3atTVixAi9//77+vbbb9WqVStJ0vbt21WwYEFHG5eSkqLBgwerdOnSyp07t8qWLav//ve/MjNHcwAAAADggqCMPmDs2LG69957NWfOHD3zzDMqV66cJGnWrFmqV6+eo40bPXq0JkyYoClTpqhy5cpavXq1unfvrujoaPXp08fRLAAAAACQ/kGRVK1aNa/R7S548cUXFRgY6EijLvjhhx/Upk0b99GqUqVKafr06Vq5cqWjOQAAAABwgWO/kxQaGqpcuXI5tTpJUr169bRo0SL3aHo//fSTli1bppYtWzqaAwAAAAAXZPhIUkxMjFwuV5r5LpdLoaGhKleunLp166bu3btnunFPPfWUkpKSVLFiRQUGBiolJUUjR47Uvffee8nHJCcnKzk52T2dlJSU6XYAAAAA+PfIcJE0ZMgQjRw5Ui1btlSdOnUkSStXrtT8+fPVu3dvbd++XT179tS5c+fUo0ePTDXu448/1gcffKAPP/xQlStX1vr169W3b18VKVJEXbt2Tfcxo0aN0vDhwzOVCwAAAODfK8NF0rJlyzRixAg9/PDDXvPfeustffXVV/rkk09UrVo1vfbaa5kukp544gk99dRT6tixoySpatWq2rlzp0aNGnXJIik+Pl79+/d3TyclJal48eKZagcAAACAf48MX5O0YMECNWnSJM38W265RQsWLJAk3Xrrrdq2bVumG3fy5EkFBHg3MTAw0P07TekJCQlRVFSU1w0AAAAArlSGi6S8efPq888/TzP/888/V968eSVJJ06cUGRkZKYb17p1a40cOVJffvmlduzYoU8//VQvv/yy/vOf/2R63QAAAACQngyfbjd48GD17NlTixcvdl+TtGrVKs2dO1dvvvmmJGnhwoVq1KhRphs3btw4DR48WL169dL+/ftVpEgRPfTQQxoyZEim1w0AAAAA6clwkdSjRw/FxcXp9ddf1+zZsyVJ11xzjb799lv3j8k+/vjjjjQuMjJSY8eO1dixYx1ZHwAAAAD8nQwXSZJUv3591a9f3+m2AAAAAEC2+0dFUmpqqrZs2aL9+/enGUShYcOGjjQMAAAAALJDhouk5cuX65577tHOnTtlZl7LXC6XUlJSHGscAAAAAPhahoukhx9+WLVr19aXX36pwoULy+VyZUW7AAAAACBbZLhISkxM1KxZs1SuXLmsaA8AAAAAZKsM/07S9ddfry1btmRFWwAAAAAg22X4SNKjjz6qxx9/XHv37lXVqlWVK1cur+XVqlVzrHEAAAAA4GsZLpLuvPNOSdJ9993nnudyuWRmDNwAAAAAIMfLcJG0ffv2rGgHAAAAAFwVMlwklSxZMivaAQAAAABXhX/0Y7Jbt27V2LFjtXHjRklSXFycHnvsMZUtW9bRxgEAAACAr2V4dLsFCxYoLi5OK1euVLVq1VStWjWtWLFClStX1sKFC7OijQAAAADgMxk+kvTUU0+pX79+ev7559PMHzhwoJo2bepY4wAAAADA1zJ8JGnjxo26//7708y/7777tGHDBkcaBQAAAADZJcNFUoECBbR+/fo089evX6/Y2Fgn2gQAAAAA2SbDp9v16NFDDz74oLZt26Z69epJkr7//nuNHj1a/fv3d7yBAAAAAOBLGS6SBg8erMjISI0ZM0bx8fGSpCJFimjYsGHq06eP4w0EAABZJ6ZfjOPrPPzKYcfXCQC+lOEiyeVyqV+/furXr5+OHTsmSYqMjHS8YQAAAACQHTJ8TdKpU6d08uRJSeeLo0OHDmns2LH66quvHG8cAAAAAPhahoukNm3aaOrUqZKkI0eOqE6dOhozZozatGmjCRMmON5AAAAAAPClDBdJa9eu1Y033ihJmjVrlgoVKqSdO3dq6tSpeu211xxvIAAAAAD4UoaLpJMnT7qvQfrqq690xx13KCAgQDfccIN27tzpeAMBAAAAwJcyXCSVK1dOc+bM0a5du7RgwQI1a9ZMkrR//35FRUU53kAAAAAA8KUMF0lDhgzRgAEDVKpUKV1//fWqW7eupPNHlWrUqOF4AwEAAADAlzI8BPhdd92lBg0aaM+ePbr22mvd82+55Rb95z//cbRxAAAAAOBrGS6SJKlQoUIqVKiQ17w6deo40iAAAAAAyE4ZPt0OAAAAAPwZRRIAAAAAeKBIAgAAAAAPV1Qk1axZU4cPH5YkPfvsszp58mSWNgoAAAAAsssVFUkbN27UiRMnJEnDhw/X8ePHs7RRAAAAAJBdrmh0u+rVq6t79+5q0KCBzEwvvfSSIiIi0r3vkCFDHG0gAAAAAPjSFRVJkydP1tChQ/XFF1/I5XJp3rx5CgpK+1CXy0WRBAAAACBHu6Ii6ZprrtFHH30kSQoICNCiRYsUGxubpQ0DAAAAgOyQ4dHtUlNTfVog/fnnn+rUqZPy5cun3Llzq2rVqlq9erXP8gEAAAD8u1zRkaSLbd26VWPHjtXGjRslSXFxcXrsscdUtmxZRxt3+PBh1a9fXzfddJPmzZunAgUKKDExUTExMY7mAAAAAMAFGS6SFixYoNtvv13Vq1dX/fr1JUnff/+9KleurM8//1xNmzZ1rHGjR49W8eLFNWnSJPe80qVLO7Z+AAAAALhYhk+3e+qpp9SvXz+tWLFCL7/8sl5++WWtWLFCffv21cCBAx1t3GeffabatWurXbt2io2NVY0aNTRx4kRHMwAAAADAU4aLpI0bN+r+++9PM/++++7Thg0bHGnUBdu2bdOECRNUvnx5LViwQD179lSfPn00ZcqUSz4mOTlZSUlJXjcAAAAAuFIZPt2uQIECWr9+vcqXL+81f/369Y4P6JCamqratWvrueeekyTVqFFDv/76q95880117do13ceMGjVKw4cPd7QdAAD4Uky/rLn29vArh7NkvVcbth+AzMpwkdSjRw89+OCD2rZtm+rVqyfp/DVJo0ePVv/+/R1tXOHChRUXF+c1r1KlSvrkk08u+Zj4+HivdiQlJal48eKOtgsAAACA/8pwkTR48GBFRkZqzJgxio+PlyQVKVJEw4YNU58+fRxtXP369ZWQkOA1b/PmzSpZsuQlHxMSEqKQkBBH2wEAAADg3yPDRZLL5VK/fv3Ur18/HTt2TJIUGRnpeMMkqV+/fqpXr56ee+45tW/fXitXrtTbb7+tt99+O0vyAAAAACDDAzd4ioyMzLICSZKuu+46ffrpp5o+fbqqVKmi//73vxo7dqzuvffeLMsEAAAA8O/2j35M1pduu+023XbbbdndDAAAAAD/Epk6kgQAAAAA/oYiCQAAAAA8UCQBAAAAgId/VCQ98sgjOnTokNNtAQAAAIBsd8VF0h9//OH++8MPP9Tx48clSVWrVtWuXbucbxkAAAAAZIMrHt2uYsWKypcvn+rXr6/Tp09r165dKlGihHbs2KGzZ89mZRsBAAAAwGeu+EjSkSNHNHPmTNWqVUupqam69dZbVaFCBSUnJ2vBggXat29fVrYTAAAAAHziiouks2fPqk6dOnr88ceVO3durVu3TpMmTVJgYKDee+89lS5dWtdcc01WthUAAAAAstwVn26XJ08eVa9eXfXr19eZM2d06tQp1a9fX0FBQZoxY4aKFi2qVatWZWVbAQAAACDLXfGRpD///FODBg1SSEiIzp07p1q1aunGG2/UmTNntHbtWrlcLjVo0CAr2woAAAAAWe6Ki6T8+fOrdevWGjVqlMLCwrRq1So9+uijcrlcGjBggKKjo9WoUaOsbCsAAAAAZLl//GOy0dHRat++vXLlyqVvvvlG27dvV69evZxsGwAAAAD43BVfk+Tp559/VtGiRSVJJUuWVK5cuVSoUCF16NDB0cYBAAAAgK/9oyKpePHi7r9//fVXxxoDAAAAANntH59uBwAAAAD+iCIJAAAAADxQJAEAAACAB4okAAAAAPBAkQQAAAAAHiiSAAAAAMADRRIAAAAAeKBIAgAAAAAPFEkAAAAA4IEiCQAAAAA8UCQBAAAAgAeKJAAAAADwQJEEAAAAAB4okgAAAADAA0USAAAAAHigSAIAAAAADxRJAAAAAOCBIgkAAAAAPFAkAQAAAIAHiiQAAAAA8ECRBAAAAAAeclSR9Pzzz8vlcqlv377Z3RQAAAAAfirHFEmrVq3SW2+9pWrVqmV3UwAAAAD4sRxRJB0/flz33nuvJk6cqJiYmOxuDgAAAAA/liOKpN69e6tVq1Zq0qTJ3943OTlZSUlJXjcAAAAAuFJB2d2Av/PRRx9p7dq1WrVq1RXdf9SoURo+fHgWtwoAAGRUTD/nzwY5/Mphx9cJZBbP9cy5GrbfVX0kadeuXXrsscf0wQcfKDQ09IoeEx8fr6NHj7pvu3btyuJWAgAAAPAnV/WRpDVr1mj//v2qWbOme15KSoqWLl2q119/XcnJyQoMDPR6TEhIiEJCQnzdVAAAAAB+4qoukm655Rb98ssvXvO6d++uihUrauDAgWkKJAAAAADIrKu6SIqMjFSVKlW85oWHhytfvnxp5gMAAACAE67qa5IAAAAAwNeu6iNJ6VmyZEl2NwEAAACAH+NIEgAAAAB4oEgCAAAAAA8USQAAAADggSIJAAAAADxQJAEAAACAB4okAAAAAPBAkQQAAAAAHiiSAAAAAMADRRIAAAAAeKBIAgAAAAAPFEkAAAAA4IEiCQAAAAA8UCQBAAAAgAeKJAAAAADwQJEEAAAAAB4okgAAAADAQ1B2NwAArkYx/WIcX+fhVw47vk4AwJXh/zoygiNJAAAAAOCBIgkAAAAAPFAkAQAAAIAHiiQAAAAA8ECRBAAAAAAeKJIAAAAAwANFEgAAAAB4oEgCAAAAAA8USQAAAADggSIJAAAAADxQJAEAAACAB4okAAAAAPBAkQQAAAAAHiiSAAAAAMADRRIAAAAAeKBIAgAAAAAPFEkAAAAA4OGqLpJGjRql6667TpGRkYqNjVXbtm2VkJCQ3c0CAAAA4Meu6iLp22+/Ve/evbV8+XItXLhQZ8+eVbNmzXTixInsbhoAAAAAPxWU3Q24nPnz53tNT548WbGxsVqzZo0aNmyYTa0CAAAA4M+u6iLpYkePHpUk5c2b95L3SU5OVnJysns6KSkpy9sFAAAAwH/kmCIpNTVVffv2Vf369VWlSpVL3m/UqFEaPny4D1sGwFdi+sU4vs7Drxx2fJ0Z5a/9AgBkrax4/5DSfw/xZdbV4Kq+JslT79699euvv+qjjz667P3i4+N19OhR923Xrl0+aiEAAAAAf5AjjiQ98sgj+uKLL7R06VIVK1bssvcNCQlRSEiIj1oGAAAAwN9c1UWSmenRRx/Vp59+qiVLlqh06dLZ3SQAAAAAfu6qLpJ69+6tDz/8UP/73/8UGRmpvXv3SpKio6OVO3fubG4dAAAAAH90VV+TNGHCBB09elSNGzdW4cKF3bcZM2Zkd9MAAAAA+Kmr+kiSmWV3EwAAAAD8y1zVR5IAAAAAwNcokgAAAADAA0USAAAAAHigSAIAAAAADxRJAAAAAOCBIgkAAAAAPFAkAQAAAIAHiiQAAAAA8ECRBAAAAAAeKJIAAAAAwANFEgAAAAB4oEgCAAAAAA8USQAAAADggSIJAAAAADxQJAEAAACAB4okAAAAAPAQlN0N8LWYfjGOr/PwK4d9kuPLrPRyfJmV07efL7P+TfsKmcNzPXNZPNcB4N+DI0kAAAAA4IEiCQAAAAA8UCQBAAAAgAeKJAAAAADwQJEEAAAAAB4okgAAAADAA0USAAAAAHigSAIAAAAADxRJAAAAAOCBIgkAAAAAPFAkAQAAAIAHiiQAAAAA8ECRBAAAAAAeKJIAAAAAwANFEgAAAAB4oEgCAAAAAA8USQAAAADgIUcUSePHj1epUqUUGhqq66+/XitXrszuJgEAAADwU1d9kTRjxgz1799fQ4cO1dq1a3XttdeqefPm2r9/f3Y3DQAAAIAfuuqLpJdfflk9evRQ9+7dFRcXpzfffFNhYWF67733srtpAAAAAPxQUHY34HLOnDmjNWvWKD4+3j0vICBATZo00Y8//pjuY5KTk5WcnOyePnr0qCQpKSlJkmTJ5ng7L6zbU1bk+DIrvRxfZuX07efLLPaV8zn+msW+ylxWTt9+vsxiXzmf469Z7KvMZeX07efLrAs57prALp/hsr+7RzbavXu3ihYtqh9++EF169Z1z3/yySf17bffasWKFWkeM2zYMA0fPtyXzQQAAACQg+zatUvFihW75PKr+kjSPxEfH6/+/fu7p1NTU3Xo0CHly5dPLpfritaRlJSk4sWLa9euXYqKisqqpvptlj/2yV+z/LFP/prlj33yZZY/9slfs/yxT77M8sc++WuWP/YpJ2SZmY4dO6YiRYpc9n5XdZGUP39+BQYGat++fV7z9+3bp0KFCqX7mJCQEIWEhHjNy5Mnzz/Kj4qKyvKd689Z/tgnf83yxz75a5Y/9smXWf7YJ3/N8sc++TLLH/vkr1n+2KerPSs6Ovpv73NVD9wQHBysWrVqadGiRe55qampWrRokdfpdwAAAADglKv6SJIk9e/fX127dlXt2rVVp04djR07VidOnFD37t2zu2kAAAAA/NBVXyR16NBBf/31l4YMGaK9e/eqevXqmj9/vgoWLJhlmSEhIRo6dGia0/bIurpyyMo5OWTlnBx/zfLHPvlrlj/2yZdZ/tgnf83yxz75U9ZVPbodAAAAAPjaVX1NEgAAAAD4GkUSAAAAAHigSAIAAAAADxRJAAAAAOCBIgkAAAAAPFAkAfArycnJSk5Ozu5mIAP27dunvXv3Zsm6jx49qoSEBCUkJOjo0aNZkvFvYmZKSUnJ8pzJkyf73f5KTEzUokWLtGXLluxuSqZcvP9Xrlyp5cuXZ9n/3d9//10rVqzQqlWrdPDgwSzJ8MR7SM6zZMkSnTp1yvH1UiRdxtmzZ7Ns3SdOnNDSpUs1Y8YMzZw5U2vWrFFOH4394n+cK1as0NKlS7N0O17QvXt37d69O8tz/NHZs2eVmJiYoz+QLFy4ULfeeqtiYmIUFhamsLAwxcTE6NZbb9XXX3/taNZPP/2kESNG6I033tCBAwe8liUlJem+++5zJOedd95R165dNWnSJEnSjBkzVKlSJZUpU0ZDhw51JEOSqlatqv/+97/atWuXY+u8lEOHDumuu+5SiRIl1LNnT6WkpOiBBx5Q4cKFVbRoUdWrV0979uxxJOudd95RXFyc8ubNq7i4OK+/3333XUcyrsRPP/2kwMBAx9Y3d+5cPfDAA3ryySe1adMmr2WHDx/WzTff7EjOuXPnNGjQIDVq1Mj9fHvxxRcVERGhsLAwde3aVWfOnHEkKz0PPvig4//TV65c6fU+9cUXX6hRo0YqWrSoateuralTpzqWNWrUKC1atEjS+f3SpEkTXXPNNWratKmuueYatWzZUkeOHMl0TmRkpO6//3798MMPmV7X39m5c6dq166tkJAQtWzZUklJSWratKluuOEG1atXT3Fxcdq8ebNjeW+88YZKliyp0qVLq169errhhhsUGxurBg0aaM2aNY7lSL59D7mUjRs3qkyZMo6tz1fvVZLv3q8upVmzZtqxY4fzKzbYjBkzLDk52T09btw4K1GihAUEBFi+fPls+PDhjmWlpKTYE088YWFhYRYQEGABAQHmcrnM5XJZyZIl7bPPPnMs63KOHz9u3377rSPr2r17t9WvX98CAwOtYcOGdujQIWvVqpW7XxUqVLDdu3c7kvXTTz+le8uVK5d9+umn7mkn7Nu3zxYtWmRHjhwxM7O9e/fa6NGjbdSoUfbzzz87knElnNxXo0ePtpMnT5qZ2blz5+zxxx+34OBgCwgIsKCgIOvevbudOXPGkSwz32zDyZMnW1BQkHXs2NEmTZpkc+fOtblz59qkSZPs7rvvtly5ctnUqVMdyVqwYIEFBwdb5cqVrUSJEpYvXz775ptv3Mv37t1rAQEBmc555ZVXLDw83O644w4rXLiwjRgxwvLly2cjRoyw4cOHW1RUlL311luZzjEzc7lcli9fPgsMDLTmzZvbrFmz7OzZs46s+2L33XefValSxcaNG2eNGjWyNm3aWLVq1WzZsmX2ww8/2HXXXWddunTJdM4LL7xgYWFh9tRTT9nixYttw4YNtmHDBlu8eLHFx8dbeHi4vfjiiw706O+tX7/eXC6XI+v64IMPLDAw0Fq1amUNGjSw0NBQmzZtmnu5U88/M7NBgwZZwYIFrX///hYXF2cPP/ywFS9e3KZNm2ZTpkyxokWL2ujRozOdExMTk+7N5XJZdHS0e9oJAQEBtm/fPjMz++yzzywgIMC6dOli48ePtwceeMCCgoJs9uzZjmQVK1bM1q5da2ZmDzzwgNWoUcPWrl1rp06dsvXr19sNN9xg999/f6ZzXC6XVa5c2Vwul1WsWNFeeukl279/f6bXm54777zTGjVqZJ9//rm1b9/e6tevb40bN7Y//vjDdu/ebc2bN7e2bds6kvXiiy9akSJFbNy4cTZx4kSrVKmSPfvsszZv3jzr3LmzhYWF2apVqxzJ8uV7yOWsX7/esdevr96rzHz7flWjRo10by6XyypVquSedgpFknn/43zvvfcsNDTUhgwZYl9++aWNGDHCwsPDbeLEiY5kDRw40CpVqmSff/65LVy40Bo2bGijR4+2jRs32uDBgy0kJMQWLFjgSNblOPli7Ny5s9WrV88+++wz69Chg9WrV89uvPFG++OPP2znzp1Wv3596927tyNZLpfLq7D0vF2Y70S/Fi9ebOHh4eZyuaxQoUK2fv16K1asmJUvX96uueYan+0nM2f3ledz/cUXX7SYmBh777337LfffrNp06ZZbGysIx98zHy3DcuXL2+vv/76JZePHz/eypUrl+kcM7O6deva008/bWZmqampNnr0aIuIiLB58+aZmXNvPBUrVrQPPvjAzMzWrl1rQUFB9s4777iXv/POO1arVq1M55idf039+eef9umnn1rr1q0tKCjIChQoYI8//rht2LDBkYwLChcubN9//72Znd9WLpfLvvrqK/fyZcuWWdGiRTOdU6JECZsxY8Yll3/00UdWvHjxTOeYmf3nP/+57O3mm2927PVbvXp1e/XVV93TM2bMsPDwcPdzw8kPPmXKlLHPP//czMwSExMtICDAPvroI6/sKlWqZDonIiLCWrVqZZMnT3bfJk2aZIGBgTZy5Ej3PCe4XC73/78GDRrYU0895bV85MiRdsMNNziSFRISYjt27DAzs1KlSqX5omv16tVWuHDhTOdc6NP69evtkUcesbx581pwcLDdcccdNnfuXEtNTc10xgUFChSwdevWmZnZkSNHzOVy2XfffedevmbNGitYsKAjWaVKlbK5c+e6pxMSEixfvnzuL3D69OljTZs2dSTLV+8h/fr1u+ytU6dOjr1+ffVeZebb96ugoCBr0aKFDRs2zH0bOnSoBQQEWK9evdzznEKRZN7/OOvUqWMvvPCC1/I33njDscq0cOHCtnTpUvf0H3/8YREREXb69GkzM3v22Wetbt26jmRdjpMfvAsXLmw//vijmZkdPHjQXC6Xff311+7lixYtsjJlyjiSde2111qrVq1s48aNtmPHDtuxY4dt377dgoKCbOHChe55mdWgQQPr3bu3HTt2zF588UUrWrSoV6E3YMAAq1evXqZzroST+8rzuV6jRo003+5MmzbNKleu7EiWr7ZhSEiIbdq06ZLLN23aZKGhoZnOMTOLioqyLVu2eM374IMPLDw83D7//HPH3nhy585tO3fudE+HhITYr7/+6p5OTEy0PHnyZDrHzPs5YXb+yPBzzz1n5cuXt4CAAKtbt669++67jmSFhYV5vT5z5cplv/zyi3t627ZtFh4enumc0NDQyxZ4v/32m+XOnTvTOWbn37Rbtmxp3bp1S/d2++23O/b6DQ8Pt23btnnN++abbywiIsImTJjg6Aef0NBQ+/33372mN27c6J7etm2bRUZGZjonMTHRfQTx2LFj7vlBQUH222+/ZXr9njyf67GxsbZ69Wqv5Zs2bXLsdVWhQgX74osvzMysdOnS7i8HLli3bp1FRUVlOufi1+/p06ftww8/tFtuucUCAgKsWLFiNnjw4EznmJlFRka6n38pKSkWFBRk69evdy9PTEx05Dlhdv5/xfbt293TqampFhQU5D4rZf369RYREeFIlq/eQwICAqxmzZrWuHHjdG+1a9d27PXrq/cqM9++Xy1btszKli1rQ4YMsZSUFPf8rPh/YUaRZGbn/8lcODydP39+rxe9mdmWLVsce+FHRkba1q1b3dMX/tHs2bPHzM6/eYeFhWU651KnMFy4RUVFZdmbaXh4uCUmJrqnd+7c6dgHkuTkZHvssccsLi7OfSqDmfMvEM9/MGfPnrWgoCD3N2hmZps3b7bo6GhHsny5rzyf6/ny5fP6gGp2/oOPE88/M99tw5o1a9oTTzxxyeVPPvmk1axZM9M5Zue/Sb34g5WZ2fTp0y0sLMwmTJjgyL7Kly+f14f8YsWKeRUXiYmJjn1A8Dy6eLHFixdbp06dHClczM5/yXHhG9u5c+daZGSkjRkzxr18woQJjhyduPHGG61Lly7pnjZ47tw569KlizVs2DDTOWZmVatW9frW9GLr1q3Lki+kPC1ZssQiIiLsmWeecSyrYMGCXqfE1qtXz/744w/39MaNGx35kG92/v/Dk08+aWXLlrVly5aZWdYVSYsXL7affvrJSpYsaStXrvRavmnTJsdeVy+++KJVqlTJEhMTbcyYMVa3bl33/8Nt27ZZ48aN7a677sp0zuVev9u3b7dBgwY5dtT0hhtusEGDBpnZ+bNuChYs6HU07tlnn3XsiEH16tXt7bffdk8vWrTIwsLC3EfGNm3a5NjnMl+9h1SoUMHef//9Sy538n+Fr96rzHz7fmV2/ihmx44d7frrr3e/prKqSApy/iqnnGn+/PmKjo5WaGioTp486bXs9OnTcrlcjuRUrVpV06dP1zPPPCNJ+vjjjxUREaFChQpJklJTUxUSEpLpnOTkZPXs2VNVq1ZNd/nOnTs1fPjwTOdIUmxsrPbs2aPixYtLkh555BHlzZvXvfzw4cMKDw93JCs4OFhjx47VvHnzdPvtt6tXr14aOHCgI+u+OOf06dOSpDNnzig1NdU9LUmnTp1Srly5HMny5b6SpIkTJyoiIkLBwcE6dOiQ17Jjx4458vyTfLcNx4wZo9tuu03z589XkyZNVLBgQUnnR0xbtGiRtm3bpi+//DLTOZJUvXp1LV68WLVq1fKa37FjR5mZunbt6khOxYoV9fPPP6tSpUqSlGZQhU2bNqlUqVKOZNllBoxp3LixGjdurKSkJEeynnjiCXXt2lVjx47Vrl27NG3aND322GNasWKFAgICNHv2bL388suZznn99dfVvHlzFSpUSA0bNvR6TixdulTBwcH66quvMp0jSbVq1dLatWt1//33p7s8JCREJUqUcCSrTp06mjdvnm644Qav+Y0aNdLnn3+u2267zZEcSYqLi9PatWvd/5e+//57r+W//PKLypcv70hWUFCQRo8erebNm+uee+7Rvffe69h77sVuueUW93P++++/13XXXedetm7dOsf21YABA/T7778rLi5OZcuW1Y4dO1ShQgUFBQXp3LlzqlmzpqZPn57pnMu9fkuVKqX//ve/evbZZzOdI0nDhg1T27Zt9cILLyggIEALFixQjx499M033yggIECrVq3Shx9+6EhWfHy8OnXqpK+//lqhoaGaPXu2+vTp435eLFmyRFWqVHEky1fvIbVr19aaNWvUqVOndJe7XC7HBvDy1XuV5Nv3K0mKjo7W9OnTNWnSJDVo0EDDhw/Psv8XHEkyS3Nty4gRI7yWv/POO46dbvf1119bSEiI1alTxxo2bGhBQUH2yiuvuJe/+OKLdvPNN2c6p169ejZ27NhLLnfyFK7bb7/9slmvv/66I3262N69e61ly5Z24403Ov4tQps2bey2226zZcuW2YMPPmi1a9e2Vq1a2fHjx+3EiRN21113WYsWLRzJ8uW+KlmypJUqVcp983zumZmNHTvWsXPyfbkNt2/fbk8++aQ1bNjQKlSoYBUqVLCGDRvawIEDvU7ZyKzZs2db3759L7n8gw8+sMaNG2c6Z9myZV5H3S42fvx4GzduXKZzzMy6detmSUlJjqzrSixbtsxeeukl9+lHv/32m3Xu3NnuvPNOx649MTNLSkqyN954w7p06WLNmjWzZs2aWZcuXWzChAl29OhRx3JOnz5tJ06ccGx9l7NkyRJ77rnnLrn8m2++sW7dujmSlZCQkObUPk8ffPDBZa/7+qcOHDhg//nPfyxPnjyXPQXqn7hwOvaF24EDB7yWT5kyxaZMmeJo5oYNG+yFF16whx9+2B588EEbOnSoffXVV45dKzRs2DCfPf/Mzv+vnTVrlvv/6t69e23w4MH2+OOPew0M4IS5c+faPffcY3feeafXUSWz88+Ti/dfZvjiPWTPnj2OXA5wJXz1XmXm2/eri23evNmuu+46c7lcWXIkyWWWw8ed9oEvvvhCuXLlUvPmzR1Z308//aSPP/5YycnJat68uZo2berIej0999xzOnv27CWHXty1a5eGDBniHq4xK61cuVJhYWGOfetzsddee02LFy/WuHHjVKxYMUfWmZiYqFatWmnLli2qWLGiFi5cqF69emnu3LmSpJiYGM2fP181a9bMdNbVtK+WL1+ukJAQ1ahRI9Pr8uU2BAAA/z6pqak6duyYoqKiHD+iRJEEXMbBgweVL18+9/SiRYt06tQp1a1b12s+Ls1X2/DcuXP67bff3D9KWrhwYVWqVMmx0yIvl1WoUCHFxcU5nuWrHH/OSs/Zs2e1Z88ex06tupxz585p9+7dZF3lOb7O8tVz0F+3ny+z8C/m+LGpHGjWrFk+O1ztyyxfWr9+vb377rvuQSl+/fVX69mzpz300EM2f/78HJvlrxYtWmTDhw+3hx9+2Hr16mUvvfSSbd68Obub9Y+kpKTYM888Y3ny5Elz6myePHls0KBBXqPg5IQsf+yTr7Mux8lTWMnyjxx/zfLHPmVF1vjx4+2WW26xdu3aeY3Oa2b2119/WenSpXNUDlnOoEiy89ckRUVFWY8ePWz58uV+k+WrYuKTTz6xwMBAy5cvn0VERNjChQstT5481qRJE2vevLkFBga6x9DPSVm+LsZ8Ubjs27fP6tSp4/7x2ICAAKtVq5YVKlTIAgMDLzvCzz+V1f164oknrECBAvbmm2/a9u3b7eTJk3by5Enbvn27vfXWWxYbG2tPPvlkjsryxz75OutycvKHuX9blj/2yZdZ/tgnp7NeffVVCwsLs969e1unTp0sODjY69o/p4bL9lUOWc49BymS7Hzh8uyzz7p/tbdy5cr2yiuvOHpRoK+zfFlM1KxZ0z3YxfTp0y1Pnjz27LPPupe/9NJLVr169RyV5cvt58vCpUOHDta2bVs7evSonT592h555BHr0qWLmZ0vZvLly3fZQSQywlf9Kliw4GWL1vnz51tsbGyOyvLHPvky61K/yn7hVrFiRcfeSMnKGTn+muWPffJ1VlxcnNf7+ffff28FChRw/76UUx+8fZVDlnNFEtckSQoICNDevXsVGxurNWvW6N1339X06dN16tQp3X777erRo4djgyv4KqtWrVq644479Mwzz+ijjz5Sz5491b9/fw0ePFjS+SEvp02bpnXr1mU6KyIiQr/++qtKlSolM1NISIjWrFnjHjp227Ztuvbaa3Xs2LEck+XL7dexY0clJydrypQpCgkJ0YABA5SUlKQpU6bom2++Ufv27TV48GA99thjmc6Kjo7WDz/8oMqVK0uSTpw4oZiYGB04cEBRUVGaNm2aRowYoU2bNmU6y1f9Cg8P1/Llyy85hPrPP/+sevXq6fjx45nK8WWWP/bJl1mhoaHq2LGjSpcune7yPXv2aOLEiUpJSclUDlmZz/LHPvkyyx/75OussLAwbdiwwWuY6l9//VVNmjRR9+7d1bdvXxUpUiTTWb7KIcuZLElck2SW9herzcxOnTplU6dOtcaNG1tAQICVKlUqR2WFh4e7h61MTU21XLlyef0w4NatWx37ca9ChQq5f7Ts0KFD7h/su2DlypVWqFChHJXly+0XFRXl9evUx48ft1y5crmHKX7//fftmmuucSSrQIECXsNknjx50gICAuzgwYNmdr5fISEhjmT5ql+33nqrNWvWzP766680y/766y9r0aKFtWrVKtM5vszyxz75MqtWrVr2xhtvXHK5kz/aSFbOyPHXLH/sk6+zihcvbkuXLk0z/7fffrOCBQtaly5dHMnyVQ5Zzh1JCnCm1MrZ0hsyMDQ0VJ07d9bixYuVkJCge+65J0dlRUZG6uDBg5KkI0eO6Ny5c+5p6fyIYxEREZnOkaQmTZqod+/e+uCDD9S1a1c1a9ZM8fHx2rRpkxISEvTEE0+oQYMGOSrLl9svJCTE63kREBCglJQUnTt3TpJUr1497dixw5GsBg0aaMiQITpx4oTOnj2rp59+WmXKlHH/+O9ff/2lmJgYR7J81a8333xTu3fvVuHChVWzZk21bNlSLVu2VM2aNVW4cGHt3r1bEyZMyHSOL7P8sU++zKpfv74SEhIuuTwyMlINGzbMdA5Zmc/yxz75Mssf++TrrAYNGmj27Nlp5sfFxWnRokWaN29ejsohyzmcbifvU+D8Jatz585KTEzUo48+qhkzZujMmTM6evSoJk2aJJfLpYceekgFChTQzJkzM521b98+de7cWT/++KPq16+vGTNmaNCgQRo/frxcLpfKli2refPmqWzZsjkmy5fb74477lBAQICmTJmi4OBgPfnkk/riiy+UmJgoSVqxYoXatm2rPXv2ZDpr27ZtatasmXbu3CmXy6Xw8HDNnDlTTZo0kSRNnjxZCQkJGjVqVKazfNmv1NRULViwQMuXL/caVrpu3bpq1qyZAgKc+z7IV1n+2CdfZwHA3/n555+1Zs0ade/ePd3lv/76qz755JNL/pbh1ZZDljNZEkWSJGnnzp0qUaKE4z9ClZ1ZvixcLmXbtm06efKkKlasqKCgoCzLyYosX24/XxYuknTy5EktW7ZMZ86c0Q033KD8+fM7st6L+bpfAAAATqFI+pfxZeHij7Jq+/mqcPE1X/Zr5cqV+vHHH72OTtSrV0/XXXddjs3yxz75Miu9nLp166pOnTqO5pCVc3L8Ncsf++SvWf7YJ7/Ncuzqphzu5MmT9u6771r37t2tRYsWduutt9ojjzyS5oeqclqWr7D9cg5/23779u2zBg0amMvlspIlS1qdOnWsTp06VrJkSXO5XNagQYM0g6Vc7Vn+2CdfZvljn/w1yx/75Mssf+xTdmTVr1/fJ/vKFzlkOZNlxu8kmZlZYmKilSxZ0mJjY6148eLmcrmsVatWdv3111tgYKC1a9fOzp49m+OyfPVhmO2Xc7J8uf3MfNOvO++80+rWrWubNm1Ks2zTpk1Wr149u+uuu3JUlj/2yZdZ/tgnf83yxz75Mssf++SvWf7YJ3/OMqNIMjOzli1b2kMPPWSpqalmZvb8889by5Ytzcxs8+bNVqpUKRs6dGiOyvLlh2G2X87J8uW+8lW/IiIibO3atZdcvnr1aseGa/dVlj/2yZdZ/tgnf83yxz75Mssf++SvWf7YJ3/OMmMIcEnSt99+q8cff9w9mEK/fv309ddf6+DBgypfvrzGjh2rKVOm5KisPn36qEWLFtq7d69+//13jRo1SqmpqVq+fLk2btyoVatWacSIEZnOkdh+OSnLl/vKV/0KCQlRUlLSJZcfO3ZMISEhmc7xZZY/9smXWf7YJ3/N8sc++TLLH/vkr1n+2Cd/zpLENUlmZkWKFLE1a9a4pw8fPmwul8uSkpLMzGzbtm2O/cCmr7LCwsJs8+bN7unk5GTLlSuXHThwwMzM5syZ49gP5LL9ck6WL/eVr/rVq1cvK1mypM2ePdv9Q7VmZkePHrXZs2dbqVKl7JFHHsl0ji+z/LFPvszyxz75a5Y/9smXWf7YJ3/N8sc++XOWGafbmZlZ165drVGjRrZx40bbtm2bdejQwWrUqOFevmTJEitevHiOyvLlh2G2X87J8uW+8lW/Tp8+bQ8//LAFBwdbQECAhYaGWmhoqAUEBFhwcLD17NnTTp8+nekcX2b5Y598meWPffLXLH/sky+z/LFP/prlj33y5ywzM4YAl7R//361adNGK1askMvlUvHixfXpp5+qRo0akqRZs2Zpz549evTRR3NMVrdu3bRjxw69+eabCgkJUXx8vDZv3qy1a9dKOn/aVefOnfX777/nmD75MsuX289f95Uv+yVJSUlJWrNmjdeQoLVq1VJUVJQj68+OLH/sky+z/LFP/prlj33yZZY/9slfs/yxT/6aRZHkITExUcnJyT75DaGszvLlh+EL2H5Xf9YFvthX2dEvAAAARzh2TMqP/f7779a9e/ccmbV582b75ZdfHB3WOaPYfldf1qVkxb7yRb9Onjxp3333nf32229plp06dcqmTJmS47L8sU++zPLHPvlrlj/2yZdZ/tgnf83yxz75cxZF0hVYv369BQQE+FWWLwsXtl/OyfLlvnKqXwkJCe4fkgsICLCGDRvan3/+6V6+d+9ex/rkqyx/7JMvs/yxT/6a5Y998mWWP/bJX7P8sU/+nGXGEOCSpM8+++yyt8WLF+fIrMs5dOiQY0M9s/1yTtbVsv0k5/o1cOBAValSRfv371dCQoIiIyPVoEEDx651yo4sf+yTL7P8sU/+muWPffJllj/2yV+z/LFP/pwlidPtzMxdkbpcrkvenKpMfZX1v//977K3V155Jcf1yZdZvtx+/rqvfNWv2NhY+/nnn93Tqamp9vDDD1uJEiVs69atjn6z5Kssf+yTL7P8sU/+muWPffJllj/2yV+z/LFP/pxlxul2ZnZ+qOI5c+Zccvm6desc2+i+yvLlh2G2X87J8uW+8lW/IiMjbcOGDWnm9+7d24oVK2ZLly51rE++yvLHPvkyyx/75K9Z/tgnX2b5Y5/8Ncsf++TPWWYUSWZm1rp1axs8ePAll69fv95cLleOyvLlh2G2X87J8uW+8lW/rrvuOps6dWq6y3r37m158uRxbPv5Kssf++TLLH/sk79m+WOffJnlj33y1yx/7JM/Z5lRJJmZ2dKlS23evHmXXH78+HFbsmRJjsry5Ydhtl/OyfLlvvJVv5577jlr2bLlJZf37NnTse3nqyx/7JMvs/yxT/6a5Y998mWWP/bJX7P8sU/+nGXGj8n6re+++04nTpxQixYt0l1+4sQJrV69Wo0aNfJxy3IGX24/f91X/tovAADg/yiSAAAAAMADQ4ADAAAAgAeKJAAAAADwQJEEAAAAAB4okgAAfqFbt25q27ZtdjcDAOAHgrK7AQAA/B2Xy3XZ5UOHDtWrr74qxiICADiBIgkAcNXbs2eP++8ZM2ZoyJAhSkhIcM+LiIhQREREdjQNAOCHON0OAHDVK1SokPsWHR0tl8vlNS8iIiLN6XaNGzfWo48+qr59+yomJkYFCxbUxIkTdeLECXXv3l2RkZEqV66c5s2b55X166+/qmXLloqIiFDBggXVuXNnHThwwMc9BgBkJ4okAIDfmjJlivLnz6+VK1fq0UcfVc+ePdWuXTvVq1dPa9euVbNmzdS5c2edPHlSknTkyBHdfPPNqlGjhlavXq358+dr3759at++fTb3BADgSxRJAAC/de2112rQoEEqX7684uPjFRoaqvz586tHjx4qX768hgwZooMHD+rnn3+WJL3++uuqUaOGnnvuOVWsWFE1atTQe++9p8WLF2vz5s3Z3BsAgK9wTRIAwG9Vq1bN/XdgYKDy5cunqlWruucVLFhQkrR//35J0k8//aTFixene33T1q1bVaFChSxuMQDgakCRBADwW7ly5fKadrlcXvMujJqXmpoqSTp+/Lhat26t0aNHp1lX4cKFs7ClAICrCUUSAAD/p2bNmvrkk09UqlQpBQXxFgkA/1ZckwQAwP/p3bu3Dh06pLvvvlurVq3S1q1btWDBAnXv3l0pKSnZ3TwAgI9QJAEA8H+KFCmi77//XikpKWrWrJmqVq2qvn37Kk+ePAoI4C0TAP4tXMbPkwMAAACAG1+LAQAAAIAHiiQAAAAA8ECRBAAAAAAeKJIAAAAAwANFEgAAAAB4oEgCAAAAAA8USQAAAADggSIJAAAAADxQJAEAAACAB4okAAAAAPBAkQQAAAAAHiiSAAAAAMDD/wMrPesyyy/gfAAAAABJRU5ErkJggg==",
      "text/plain": [
       "<Figure size 1000x400 with 1 Axes>"
      ]
     },
     "metadata": {},
     "output_type": "display_data"
    }
   ],
   "source": [
    "plt.figure(figsize=(10, 4))\n",
    "sns.countplot(data=df, x='release date', color='g')\n",
    "plt.xticks(rotation=90)\n",
    "plt.title('Number of songs in ranking over the years')\n",
    "plt.xlabel('Time')\n",
    "plt.ylabel('# of songs')\n",
    "plt.show()"
   ]
  },
  {
   "cell_type": "code",
   "execution_count": 136,
   "id": "5f2c7c9e",
   "metadata": {},
   "outputs": [
    {
     "data": {
      "image/png": "iVBORw0KGgoAAAANSUhEUgAAA8MAAAGJCAYAAACuKeEVAAAAOnRFWHRTb2Z0d2FyZQBNYXRwbG90bGliIHZlcnNpb24zLjEwLjUsIGh0dHBzOi8vbWF0cGxvdGxpYi5vcmcvWftoOwAAAAlwSFlzAAAPYQAAD2EBqD+naQAAcsdJREFUeJzt3Xl4TOf///HnEJlEJoslBI3EEsQudlERSxPaoFVKtcRWtbS1ttRebS2luqiltAkt1VI01ariI5bQWmMvGmInaklECZL5/eHnfDtNkBBS5vW4rrkuc5977vM+JxPty33OfUxWq9WKiIiIiIiIiB3JldMFiIiIiIiIiDxsCsMiIiIiIiJidxSGRURERERExO4oDIuIiIiIiIjdURgWERERERERu6MwLCIiIiIiInZHYVhERERERETsjsKwiIiIiIiI2B2FYREREREREbE7CsMiIiIiGYiMjMRkMhEfH5/TpchD5OvrS3h4uE3bwYMHeeqpp3B3d8dkMrFkyZIcqU1EspfCsIiI3DeTyZSpV3R09AOvZdq0abRp04bixYtjMpnS/U/tP128eJFXXnkFT09PXFxcCA4OZtu2bQ+8xuw2b948Pvroo2wb7+TJk4waNYrY2NhsG1Pkv2TDhg2MGjWKixcvZqp/p06d2LVrF++99x5fffUVNWrUeLAFishD4ZDTBYiIyKPvq6++snk/Z84cVqxYka7d39//gdcyfvx4Ll26RK1atTh16tRt+6WlpfH000+zY8cOBg0aRMGCBZk6dSoNGzZk69at+Pn5PfBas8u8efPYvXs3ffv2zZbxTp48yejRo/H19aVq1arZMqbIf8mGDRsYPXo04eHheHh42Gzbv38/uXL933zRlStX2LhxI0OHDqVPnz4PuVIReZAUhkVE5L699NJLNu9/++03VqxYka79YVizZo0xK2yxWG7bb+HChWzYsIEFCxbw/PPPA9C2bVvKlCnDyJEjmTdv3sMq+ZH3999/kzdv3pwuQyRbmM1mm/dnz54FSBeaReTRp8ukRUTkobh8+TIDBgzA29sbs9lM2bJlmThxIlar1aafyWSiT58+zJ07l7Jly+Lk5ET16tVZu3Ztpvbj4+ODyWS6a7+FCxdSuHBhnnvuOaPN09OTtm3b8sMPP5CSknLHz/v6+vLMM88QHR1NjRo1cHZ2plKlSsal4IsWLaJSpUpG/du3b083xv/+9z+efPJJXFxc8PDwoGXLluzbt8+mz6VLl+jbty++vr6YzWYKFSpE06ZNjcu5GzZsyE8//cSRI0eMy9F9fX3vWPuKFSuoX78+Hh4eWCwWypYty9tvvw1AdHQ0NWvWBKBz587GmJGRkcb+KlasyNatW2nQoAF58+Y1PpuSksLIkSMpXbo0ZrMZb29v3nzzzXTnMiIigkaNGlGoUCHMZjPly5dn2rRpD+Qc//HHHzz//PPkz58fJycnatSoQVRUVLp+e/bsoVGjRjg7O/PEE0/w7rvvkpaWdsfzeMvp06fp3LkzTzzxBGazmSJFitCyZct09xpPnTqVChUqYDabKVq0KL179053me6t87t3716Cg4PJmzcvxYoVY8KECen2e+TIEVq0aIGLiwuFChWiX79+LF++PN0tCQcPHqR169Z4eXnh5OTEE088Qbt27UhMTLzrsS1YsIDq1avj7OxMwYIFeemllzhx4oRNn/DwcCwWCydOnKBVq1ZYLBY8PT0ZOHAgqampd93Hli1bCAkJoWDBgjg7O1OiRAm6dOlibI+Pj8dkMjFx4kQmT56Mj48Pzs7OBAUFsXv37nTj3e33atSoUQwaNAiAEiVKGN/xWz+vf94zPGrUKHx8fAAYNGiQ8fs1cuRI8uTJYwTlf3rllVfw8PDg6tWrdz12EclZmhkWEZEHzmq10qJFC1avXk3Xrl2pWrUqy5cvZ9CgQZw4cYLJkyfb9F+zZg3ffvstr7/+OmazmalTpxIaGsqmTZuoWLFittS0fft2AgICbC6HBKhVqxaff/45Bw4coFKlSncc488//+TFF1+kR48evPTSS0ycOJGwsDCmT5/O22+/Ta9evQAYO3Ysbdu2tbn8cuXKlTRr1oySJUsyatQorly5wqeffkpgYCDbtm0zAu2rr77KwoUL6dOnD+XLl+fcuXOsX7+effv2ERAQwNChQ0lMTOT48ePGebzTjPiePXt45plnqFy5Mu+88w5ms5k///yTmJgY4Oal7O+88w4jRozglVde4cknnwSgXr16xhjnzp2jWbNmtGvXjpdeeonChQuTlpZGixYtWL9+Pa+88gr+/v7s2rWLyZMnc+DAAZsFh6ZNm0aFChVo0aIFDg4O/Pjjj/Tq1Yu0tDR69+6dbed4z549BAYGUqxYMQYPHoyLiwvfffcdrVq14vvvv+fZZ58FbobZ4OBgbty4YfT7/PPPcXZ2vuPP/5bWrVuzZ88eXnvtNXx9fUlISGDFihUcPXrU+DmOGjWK0aNH06RJE3r27Mn+/fuZNm0amzdvJiYmhjx58hjjXbhwgdDQUJ577jnatm3LwoULeeutt6hUqRLNmjUDbv7jUqNGjTh16hRvvPEGXl5ezJs3j9WrV9vUdu3aNUJCQkhJSeG1117Dy8uLEydOsHTpUi5evIi7u/ttjysyMpLOnTtTs2ZNxo4dy5kzZ/j444+JiYlh+/btNjOlqamphISEULt2bSZOnMjKlSuZNGkSpUqVomfPnrfdR0JCAk899RSenp4MHjwYDw8P4uPjWbRoUbq+c+bM4dKlS/Tu3ZurV6/y8ccf06hRI3bt2kXhwoWBzP1ePffccxw4cIBvvvmGyZMnU7BgQeDmP4b923PPPYeHhwf9+vWjffv2NG/eHIvFQsWKFXnnnXf49ttvbS6dvnbtGgsXLqR169Y4OTnd9rhF5D/CKiIiks169+5t/ed/YpYsWWIFrO+++65Nv+eff95qMpmsf/75p9EGWAHrli1bjLYjR45YnZycrM8++2yW6nBxcbF26tTpttu6dOmSrv2nn36yAtZffvnljmP7+PhYAeuGDRuMtuXLl1sBq7Ozs/XIkSNG+4wZM6yAdfXq1UZb1apVrYUKFbKeO3fOaNuxY4c1V65c1o4dOxpt7u7u1t69e9+xlqefftrq4+Nzxz63TJ482QpYz549e9s+mzdvtgLWiIiIdNuCgoKsgHX69Ok27V999ZU1V65c1nXr1tm0T58+3QpYY2JijLa///473bghISHWkiVL2rTd7zlu3LixtVKlStarV68abWlpadZ69epZ/fz8jLa+fftaAevvv/9utCUkJFjd3d2tgPXw4cPp6r3lwoULVsD6wQcf3LZPQkKC1dHR0frUU09ZU1NTjfYpU6ZYAeuXX35ptN06v3PmzDHaUlJSrF5eXtbWrVsbbZMmTbIC1iVLlhhtV65csZYrV87mPGzfvt0KWBcsWHDb+jJy7do1a6FChawVK1a0XrlyxWhfunSpFbCOGDHCaOvUqZMVsL7zzjs2Y1SrVs1avXr1O+5n8eLFVsC6efPm2/Y5fPiw8TM/fvy40f77779bAWu/fv2Mtsz+Xn3wwQe3/dn6+PjY/L1xa////hnXrVvXWrt2bZu2RYsWpfseish/ly6TFhGRB+7nn38md+7cvP766zbtAwYMwGq1smzZMpv2unXrUr16deN98eLFadmyJcuXL8/UZZeZceXKlXT3BgLGbM6VK1fuOkb58uWpW7eu8b527doANGrUiOLFi6drP3ToEACnTp0iNjaW8PBw8ufPb/SrXLkyTZs25eeffzbaPDw8+P333zl58mRWDu+2bs3m/fDDD5m+DPjfzGYznTt3tmlbsGAB/v7+lCtXjr/++st4NWrUCMBmxvKfM66JiYn89ddfBAUFcejQoXSX7t7rOT5//jz/+9//aNu2LZcuXTLqOXfuHCEhIRw8eNC43Pfnn3+mTp061KpVyxjP09OTDh063PVcODs74+joSHR0NBcuXMiwz8qVK7l27Rp9+/a1uRKhe/fuuLm58dNPP9n0t1gsNvfbOzo6UqtWLePYAH755ReKFStGixYtjDYnJye6d+9uM9atmd/ly5fz999/3/V4btmyZQsJCQn06tXLZobz6aefply5culqhptXMfzTk08+aVNzRm59H5cuXcr169fv2LdVq1YUK1bMeF+rVi1q165t/L5k5fcqO3Ts2JHff/+duLg4o23u3Ll4e3sTFBSUrfsSkQdDYVhERB64I0eOULRoUVxdXW3ab60ufeTIEZv2jFZyLlOmDH///XeG9+jdC2dn5wzvC751n19mLpH9ZxiD/wse3t7eGbbfCku3jrds2bLpxvT39+evv/7i8uXLAEyYMIHdu3fj7e1NrVq1GDVq1F0Dxp288MILBAYG0q1bNwoXLky7du347rvvshSMixUrhqOjo03bwYMH2bNnD56enjavMmXKADcvh70lJiaGJk2aGPd0enp6Gvcd/zsM3+s5/vPPP7FarQwfPjxdTSNHjrSp6ciRIxl+5zL6+fyb2Wxm/PjxLFu2jMKFC9OgQQMmTJjA6dOnjT63+3k7OjpSsmTJdN//J554It197/ny5bMJ20eOHKFUqVLp+pUuXdrmfYkSJejfvz+zZs2iYMGChISE8Nlnn931fuE7fUfLlSuXrmYnJ6d0lxn/u+aMBAUF0bp1a0aPHk3BggVp2bIlERERGf5u3u7vhVv3+mbl9yo7vPDCC5jNZubOnQvc/O4uXbqUDh06ZGrdAhHJeQrDIiJil4oUKZLho5dutRUtWvSuY+TOnTtL7dZ/LRaWGW3btuXQoUN8+umnFC1alA8++IAKFSqkm03PLGdnZ9auXcvKlSt5+eWX2blzJy+88AJNmzbN9Kx7Rv9QkJaWRqVKlVixYkWGr1v39sbFxdG4cWP++usvPvzwQ3766SdWrFhBv379jHH+6V7P8a1xBg4ceNua/h0c71Xfvn05cOAAY8eOxcnJieHDh+Pv75/hgl6ZkZ3fH4BJkyaxc+dO3n77ba5cucLrr79OhQoVOH78+D2Nl5Hb1Xw3JpOJhQsXsnHjRvr06cOJEyfo0qUL1atXJzk5OdvqexDy5cvHM888Y4ThhQsXkpKSkiOr6IvIvVEYFhGRB87Hx4eTJ09y6dIlm/Y//vjD2P5PBw8eTDfGgQMHyJs3b4aL3NyLqlWrsm3btnTh6/fffydv3rzGjOaDcOt49+/fn27bH3/8QcGCBXFxcTHaihQpQq9evViyZAmHDx+mQIECvPfee8b2rM5C5cqVi8aNG/Phhx+yd+9e3nvvPf73v/8ZlzLfy6xWqVKlOH/+PI0bN6ZJkybpXrdm63788UdSUlKIioqiR48eNG/enCZNmmR6sarMKlmyJAB58uTJsJ4mTZoYVyr4+Phk+J3L6OdzO6VKlWLAgAH8+uuv7N69m2vXrjFp0iRj/IzGu3btGocPH073/c8MHx8f4uLi0gXkP//8M8P+lSpVYtiwYaxdu5Z169Zx4sQJpk+ffsfxM6r5Vtu91HwnderU4b333mPLli3MnTuXPXv2MH/+fJs+t/t74dYiZVn5vcqumduOHTty4MABNm/ezNy5c6lWrRoVKlTIlrFF5MFTGBYRkQeuefPmpKamMmXKFJv2yZMnYzKZjBVyb9m4caPx6CCAY8eO8cMPP/DUU0/d8wzUvz3//POcOXPGZtXav/76iwULFhAWFpbh/cTZpUiRIlStWpXZs2fbPFpn9+7d/PrrrzRv3hy4uULvvy9nLVSoEEWLFrW5jNTFxSVTj8mBm/fS/lvVqlUBjDFvBYZ/P/bnTtq2bcuJEyeYOXNmum1XrlwxLk+99fP7Z4hLTEwkIiIi0/vKjEKFCtGwYUNmzJiR4RUA/7zcvnnz5vz2229s2rTJZvutGb87+fvvv9M9QqdUqVK4uroa57NJkyY4OjryySef2Bz3F198QWJiIk8//XSWjy8kJIQTJ07YPCbq6tWr6c5/UlISN27csGmrVKkSuXLluuPjw2rUqEGhQoWYPn26Tb9ly5axb9++e6o5IxcuXEgX6P/9fbxlyZIlNo912rRpE7///rvx90dmf6/g3r7jGWnWrBkFCxZk/PjxrFmzRrPCIo8YPVpJREQeuLCwMIKDgxk6dCjx8fFUqVKFX3/9lR9++IG+fftSqlQpm/4VK1YkJCTE5tFKAKNHj77rvn788Ud27NgBwPXr19m5cyfvvvsuAC1atKBy5crAzTBcp04dOnfuzN69eylYsCBTp04lNTU1U/u5Xx988AHNmjWjbt26dO3a1XgEjLu7O6NGjQJuPmP4iSee4Pnnn6dKlSpYLBZWrlzJ5s2bjVlHgOrVq/Ptt9/Sv39/atasicViISwsLMP9vvPOO6xdu5ann34aHx8fEhISmDp1Kk888QT169cHboY5Dw8Ppk+fjqurKy4uLtSuXZsSJUrc9nhefvllvvvuO1599VVWr15NYGAgqamp/PHHH3z33XcsX76cGjVq8NRTT+Ho6EhYWBg9evQgOTmZmTNnUqhQoQxD6/347LPPqF+/PpUqVaJ79+6ULFmSM2fOsHHjRo4fP258T958802++uorQkNDeeONN4xHK/n4+LBz58477uPAgQM0btyYtm3bUr58eRwcHFi8eDFnzpyhXbt2wM3FuIYMGcLo0aMJDQ2lRYsW7N+/n6lTp1KzZs17ClA9evRgypQptG/fnjfeeIMiRYowd+5cY7GrWzOf//vf/+jTpw9t2rShTJky3Lhxg6+++orcuXPTunXr246fJ08exo8fT+fOnQkKCqJ9+/bGo5V8fX2Ny9rv1+zZs5k6dSrPPvsspUqV4tKlS8ycORM3Nzeb8Ao374euX78+PXv2JCUlhY8++ogCBQrw5ptvGn0y83sFGAv0DR06lHbt2pEnTx7CwsJsrsjIjDx58tCuXTumTJlC7ty5ad++/b2fDBF5+HJsHWsREXls/fvRSlar1Xrp0iVrv379rEWLFrXmyZPH6ufnZ/3ggw+saWlpNv0Aa+/eva1ff/211c/Pz2o2m63VqlXL9KNKbj3mJaPXvx8VdP78eWvXrl2tBQoUsObNm9caFBR0x0e8/JOPj4/16aefTtd+q/5/ut2jWVauXGkNDAy0Ojs7W93c3KxhYWHWvXv3GttTUlKsgwYNslapUsXq6upqdXFxsVapUsU6depUm3GSk5OtL774otXDw8MK3PExS6tWrbK2bNnSWrRoUaujo6O1aNGi1vbt21sPHDhg0++HH36wli9f3urg4GBz7oKCgqwVKlTIcOxr165Zx48fb61QoYLVbDZb8+XLZ61evbp19OjR1sTERKNfVFSUtXLlylYnJyerr6+vdfz48dYvv/wy3aNusuMcx8XFWTt27Gj18vKy5smTx1qsWDHrM888Y124cKFNv507d1qDgoKsTk5O1mLFilnHjBlj/eKLL+76aKW//vrL2rt3b2u5cuWsLi4uVnd3d2vt2rWt3333Xbq+U6ZMsZYrV86aJ08ea+HCha09e/a0XrhwwabP7c5vp06d0v1cDx06ZH366aetzs7OVk9PT+uAAQOs33//vRWw/vbbb0afLl26WEuVKmV1cnKy5s+f3xocHGxduXLlbY/pn7799ltrtWrVrGaz2Zo/f35rhw4dbB5vdKs2FxeXdJ8dOXJkur8H/m3btm3W9u3bW4sXL241m83WQoUKWZ955hmbR6v982c7adIkq7e3t9VsNluffPJJ644dO9KNebffq1vGjBljLVasmDVXrlw2P+fMPlrplk2bNlkB61NPPXXHYxWR/x6T1XqPqzGIiIg8ACaTid69e6e7pFpE7u6jjz6iX79+HD9+3OYxRI+y+Ph4SpQowQcffMDAgQNzupx0duzYQdWqVZkzZw4vv/xyTpcjIlmge4ZFREREHkH/fhb21atXmTFjBn5+fo9NEH4UzJw5E4vFwnPPPZfTpYhIFumeYREREZFH0HPPPUfx4sWpWrUqiYmJfP311/zxxx+ZWvhL7t+PP/7I3r17+fzzz+nTp0+W7zcWkZynMCwiIiLyCAoJCWHWrFnMnTuX1NRUypcvz/z583nhhRdyujS78Nprr3HmzBmaN2/+UBbdE5Hsp3uGRURERERExO7onmERERERERGxOwrDIiIiIiIiYnd0z7A88tLS0jh58iSurq6YTKacLkdERERERHKI1Wrl0qVLFC1alFy57jz3qzAsj7yTJ0/i7e2d02WIiIiIiMh/xLFjx3jiiSfu2EdhWB55rq6uwM0vvJubWw5XIyIiIiIiOSUpKQlvb28jI9yJwrA88m5dGu3m5qYwLCIiIiIimbp9UmFYHhsNhn1DbrNzTpchIiIiImI3tn7QMadLuGdaTVpERERERETsjsKwiIiIiIiI2B2FYREREREREbE7CsMiIiIiIiJidxSGRURERERExO4oDIuIiIiIiIjdURjOovj4eEwmE7GxsQBER0djMpm4ePHifY0bHh5Oq1atjPcNGzakb9++9zXm/fr3sWZGZGQkHh4eD6wmERERERGR7KAw/A/h4eGYTCbjVaBAAUJDQ9m5c+dtP1OvXj1OnTqFu7t7ttayaNEixowZk61jZuROodvb25tTp05RsWLFbN3nv4O/iIiIiIjIw6Yw/C+hoaGcOnWKU6dOsWrVKhwcHHjmmWdu29/R0REvLy9MJlO21pE/f35cXV2zdcysyp07N15eXjg4OORoHSIiIiIiItlNYfhfzGYzXl5eeHl5UbVqVQYPHsyxY8c4e/Zshv3/fZn0rcuEly9fjr+/PxaLxQjYt6SmptK/f388PDwoUKAAb775Jlar1Wbcf8/Y+vr68v7779OlSxdcXV0pXrw4n3/+uc1nNmzYQNWqVXFycqJGjRosWbIky5c5/1NGl0lHRUXh5+eHk5MTwcHBzJ49O8PLxG93/KNGjWL27Nn88MMPxgx8dHQ0165do0+fPhQpUgQnJyd8fHwYO3bsPdUtIiIiIiJyNwrDd5CcnMzXX39N6dKlKVCgQKY/9/fffzNx4kS++uor1q5dy9GjRxk4cKCxfdKkSURGRvLll1+yfv16zp8/z+LFi+867qRJk6hRowbbt2+nV69e9OzZk/379wOQlJREWFgYlSpVYtu2bYwZM4a33nor6wd9B4cPH+b555+nVatW7Nixgx49ejB06NB0/e50/AMHDqRt27Y2M/D16tXjk08+ISoqiu+++479+/czd+5cfH19M6wjJSWFpKQkm5eIiIiIiEhW6PrXf1m6dCkWiwWAy5cvU6RIEZYuXUquXJn/d4Pr168zffp0SpUqBUCfPn145513jO0fffQRQ4YM4bnnngNg+vTpLF++/K7jNm/enF69egHw1ltvMXnyZFavXk3ZsmWZN28eJpOJmTNn4uTkRPny5Tlx4gTdu3fPdN13M2PGDMqWLcsHH3wAQNmyZdm9ezfvvfeeTb87Hb/FYsHZ2ZmUlBS8vLyMzxw9ehQ/Pz/q16+PyWTCx8fntnWMHTuW0aNHZ9txiYiIiIiI/dHM8L8EBwcTGxtLbGwsmzZtIiQkhGbNmnHkyJFMj5E3b14jCAIUKVKEhIQEABITEzl16hS1a9c2tjs4OFCjRo27jlu5cmXjzyaTCS8vL2Pc/fv3U7lyZZycnIw+tWrVynTNmbF//35q1qxp05bRPu50/LcTHh5ObGwsZcuW5fXXX+fXX3+9bd8hQ4aQmJhovI4dO5bFIxEREREREXunMPwvLi4ulC5dmtKlS1OzZk1mzZrF5cuXmTlzZqbHyJMnj817k8mU7p7ge5HRuGlpafc9bna7l+MPCAjg8OHDjBkzhitXrtC2bVuef/75DPuazWbc3NxsXiIiIiIiIlmhMHwXJpOJXLlyceXKlWwZz93dnSJFivD7778bbTdu3GDr1q33NW7ZsmXZtWsXKSkpRtvmzZvva8yM9rFlyxabtnvZh6OjI6mpqena3dzceOGFF5g5cybffvst33//PefPn7/nekVERERERG5H9wz/S0pKCqdPnwbgwoULTJkyheTkZMLCwrJtH2+88Qbjxo3Dz8+PcuXK8eGHH6ZbjTmrXnzxRYYOHcorr7zC4MGDOXr0KBMnTgS462Ofzp49m27F6SJFiqTr16NHDz788EPeeustunbtSmxsLJGRkZnaxz/5+vqyfPly9u/fT4ECBXB3d+fTTz+lSJEiVKtWjVy5crFgwQK8vLzw8PDI9LgiIiIiIiKZpZnhf/nll18oUqQIRYoUoXbt2mzevJkFCxbQsGHDbNvHgAEDePnll+nUqRN169bF1dWVZ5999r7GdHNz48cffyQ2NpaqVasydOhQRowYAWBzH3FG5s2bR7Vq1WxeGV0WXqJECRYuXMiiRYuoXLky06ZNM1aTNpvNma61e/fulC1blho1auDp6UlMTAyurq5MmDCBGjVqULNmTeLj4/n555+ztHCZiIiIiIhIZpms2XEzq/wnzZ07l86dO5OYmIizs/MD2cd7773H9OnTc3QRq6SkJNzd3any2nRymx/McYqIiIiISHpbP+iY0yXYuJUNEhMT77q2kC6TfozMmTOHkiVLUqxYMXbs2MFbb71F27ZtszUIT506lZo1a1KgQAFiYmL44IMP6NOnT7aNLyIiIiIi8jAoDD9GTp8+zYgRIzh9+jRFihShTZs26Z4BfL8OHjzIu+++y/nz5ylevDgDBgxgyJAh2boPERERERGRB02XScsjT5dJi4iIiIjkjEf5MmmtTiQiIiIiIiJ2R2FYRERERERE7I7uGZbHxtp329/1UggRERERERHQzLCIiIiIiIjYIYVhERERERERsTsKwyIiIiIiImJ3FIZFRERERETE7igMi4iIiIiIiN1RGBYRERERERG7o0cryWPj2Lg6uDrlzukyREREROQxVXzErpwuQbKRZoZFRERERETE7igMi4iIiIiIiN1RGBYRERERERG7ozAsIiIiIiIidkdhWEREREREROyOwrCIiIiIiIjYHYXhh8BkMrFkyZKcLuOeLVmyhNKlS5M7d2769u2b0+WIiIiIiIjcN4Xh+3T27Fl69uxJ8eLFMZvNeHl5ERISQkxMTE6Xlm169OjB888/z7FjxxgzZozNtr/++gsvLy/ef//9dJ9r27YtderUITU19WGVKiIiIiIikikOOV3Ao65169Zcu3aN2bNnU7JkSc6cOcOqVas4d+5cTpeWLZKTk0lISCAkJISiRYum216wYEE+//xz2rRpQ1hYGJUqVQJgwYIFLF26lO3bt5M7d+6HXbaIiIiIiMgdaWb4Ply8eJF169Yxfvx4goOD8fHxoVatWgwZMoQWLVrY9P3rr7949tlnyZs3L35+fkRFRRnbUlNT6dq1KyVKlMDZ2ZmyZcvy8ccf23w+PDycVq1aMXr0aDw9PXFzc+PVV1/l2rVrRp+0tDTGjh1rjFOlShUWLlx4x2O4cOECHTt2JF++fOTNm5dmzZpx8OBBAKKjo3F1dQWgUaNGmEwmoqOj043RokULXnzxRTp16sT169c5e/YsvXv3Zty4cZQtW5Zp06ZRqlQpHB0dKVu2LF999ZXx2fj4eEwmE7GxsTbn9Xb7EhERERERyQ4Kw/fBYrFgsVhYsmQJKSkpd+w7evRo2rZty86dO2nevDkdOnTg/PnzwM0Q+8QTT7BgwQL27t3LiBEjePvtt/nuu+9sxli1ahX79u0jOjqab775hkWLFjF69Ghj+9ixY5kzZw7Tp09nz5499OvXj5deeok1a9bctq7w8HC2bNlCVFQUGzduxGq10rx5c65fv069evXYv38/AN9//z2nTp2iXr16GY7z8ccfc+7cOcaMGUOvXr2oWLEir732GosXL+aNN95gwIAB7N69mx49etC5c2dWr16dqXOckZSUFJKSkmxeIiIiIiIiWWGyWq3WnC7iUfb999/TvXt3rly5QkBAAEFBQbRr147KlSsbfUwmE8OGDTPut718+TIWi4Vly5YRGhqa4bh9+vTh9OnTxsxueHg4P/74I8eOHSNv3rwATJ8+nUGDBpGYmMj169fJnz8/K1eupG7dusY43bp14++//2bevHnp9nHw4EHKlClDTEyMEXLPnTuHt7c3s2fPpk2bNly8eJF8+fKxevVqGjZseMdz8b///Y+nnnoKFxcXdu7ciY+PD4GBgVSoUIHPP//c6Ne2bVsuX77MTz/9RHx8PCVKlGD79u1UrVoV4K77HDVqlM0/Atyye4g/rk66JFtEREREHoziI3bldAlyF0lJSbi7u5OYmIibm9sd+2pm+D61bt2akydPEhUVRWhoKNHR0QQEBBAZGWnT75/h2MXFBTc3NxISEoy2zz77jOrVq+Pp6YnFYuHzzz/n6NGjNmNUqVLFCMIAdevWJTk5mWPHjvHnn3/y999/07RpU2PG2mKxMGfOHOLi4jKsfd++fTg4OFC7dm2jrUCBApQtW5Z9+/Zl+Vw0atSIOnXq8PLLL+Pj42PsIzAw0KZfYGDgPY1/y5AhQ0hMTDRex44du+exRERERETEPmkBrWzg5ORE06ZNadq0KcOHD6dbt26MHDmS8PBwo0+ePHlsPmMymUhLSwNg/vz5DBw4kEmTJlG3bl1cXV354IMP+P333zNdQ3JyMgA//fQTxYoVs9lmNpvv8ciyzsHBAQeHzH+tcuW6+e8x/7xA4fr163f8jNlsfqjHJCIiIiIijx/NDD8A5cuX5/Lly5nuf+sy5V69elGtWjVKly6d4Wzujh07uHLlivH+t99+w2Kx4O3tTfny5TGbzRw9epTSpUvbvLy9vTPcr7+/Pzdu3LAJ3efOnWP//v2UL18+C0d8e/7+/ukeMxUTE2OM7+npCcCpU6eM7f9cTEtERERERORB0MzwfTh37hxt2rShS5cuVK5cGVdXV7Zs2cKECRNo2bJlpsfx8/Njzpw5LF++nBIlSvDVV1+xefNmSpQoYdPv2rVrdO3alWHDhhEfH8/IkSPp06cPuXLlwtXVlYEDB9KvXz/S0tKoX78+iYmJxMTE4ObmRqdOnTLcb8uWLenevTszZszA1dWVwYMHU6xYsSzVfyeDBg2ibdu2VKtWjSZNmvDjjz+yaNEiVq5cCYCzszN16tRh3LhxlChRgoSEBIYNG5Yt+xYREREREbkdheH7YLFYqF27NpMnTyYuLo7r16/j7e1N9+7defvttzM9To8ePdi+fTsvvPACJpOJ9u3b06tXL5YtW2bTr3Hjxvj5+dGgQQNSUlJo3749o0aNMraPGTMGT09Pxo4dy6FDh/Dw8CAgIOCOtURERPDGG2/wzDPPcO3aNRo0aMDPP/+c7rLue9WqVSs+/vhjJk6cyBtvvEGJEiWIiIiwWRjryy+/pGvXrlSvXp2yZcsyYcIEnnrqqWzZv4iIiIiISEa0mvQjIjw8nIsXL7JkyZKcLuU/59aKcVpNWkREREQeJK0m/d+n1aRFRERERERE7kBhWEREREREROyO7hl+RPz7ucUiIiIiIiJy7zQzLCIiIiIiInZHYVhERERERETsji6TlseG9+Df7rpinIiIiIiICGhmWEREREREROyQwrCIiIiIiIjYHYVhERERERERsTsKwyIiIiIiImJ3FIZFRERERETE7mg1aXlsNJ3eFAdnfaVFREREskPMazE5XYLIA6WZYREREREREbE7CsMiIiIiIiJidxSGRURERERExO4oDIuIiIiIiIjdURgWERERERERu6MwLCIiIiIiInZHYVhERERERETsjsKw3LP4+HhMJhOxsbE5XYqIiIiIiEiWKAw/Zs6ePUvPnj0pXrw4ZrMZLy8vQkJCiIm5+dB0k8nEkiVLcrZIERERERGRHOaQ0wVI9mrdujXXrl1j9uzZlCxZkjNnzrBq1SrOnTuXrfu5du1ato4nIiIiIiLyMGlm+DFy8eJF1q1bx/jx4wkODsbHx4datWoxZMgQWrRoga+vLwDPPvssJpPJeB8XF0fLli0pXLgwFouFmjVrsnLlSpuxfX19GTNmDB07dsTNzY1XXnnF2PbHH39Qr149nJycqFixImvWrLH57Jo1a6hVqxZms5kiRYowePBgbty4AcCcOXMoUKAAKSkpNp9p1aoVL7/8cjafIRERERERkZsUhh8jFosFi8XCkiVL0oVLgM2bNwMQERHBqVOnjPfJyck0b96cVatWsX37dkJDQwkLC+Po0aM2n584cSJVqlRh+/btDB8+3GgfNGgQAwYMYPv27dStW5ewsDBjJvrEiRM0b96cmjVrsmPHDqZNm8YXX3zBu+++C0CbNm1ITU0lKirKGC8hIYGffvqJLl26ZHicKSkpJCUl2bxERERERESyQmH4MeLg4EBkZCSzZ8/Gw8ODwMBA3n77bXbu3AmAp6cnAB4eHnh5eRnvq1SpQo8ePahYsSJ+fn6MGTOGUqVK2QRUgEaNGjFgwABKlSpFqVKljPY+ffrQunVr/P39mTZtGu7u7nzxxRcATJ06FW9vb6ZMmUK5cuVo1aoVo0ePZtKkSaSlpeHs7MyLL75IRESEMd7XX39N8eLFadiwYYbHOXbsWNzd3Y2Xt7d3tp1DERERERGxDwrDj5nWrVtz8uRJoqKiCA0NJTo6moCAACIjI2/7meTkZAYOHIi/vz8eHh5YLBb27duXbma4Ro0aGX6+bt26xp8dHByoUaMG+/btA2Dfvn3UrVsXk8lk9AkMDCQ5OZnjx48D0L17d3799VdOnDgBQGRkJOHh4Taf+achQ4aQmJhovI4dO3b3EyMiIiIiIvIPCsOPIScnJ5o2bcrw4cPZsGED4eHhjBw58rb9Bw4cyOLFi3n//fdZt24dsbGxVKpUKd0iWS4uLg+k3mrVqlGlShXmzJnD1q1b2bNnD+Hh4bftbzabcXNzs3mJiIiIiIhkhcKwHShfvjyXL18GIE+ePKSmptpsj4mJITw8nGeffZZKlSrh5eVFfHx8psf/7bffjD/fuHGDrVu34u/vD4C/vz8bN27EarXa7M/V1ZUnnnjCaOvWrRuRkZFERETQpEkTXfosIiIiIiIPlMLwY+TcuXM0atSIr7/+mp07d3L48GEWLFjAhAkTaNmyJXBzVehVq1Zx+vRpLly4AICfnx+LFi0iNjaWHTt28OKLL5KWlpbp/X722WcsXryYP/74g969e3PhwgVj8atevXpx7NgxXnvtNf744w9++OEHRo4cSf/+/cmV6/++fi+++CLHjx9n5syZt104S0REREREJLsoDD9GLBYLtWvXZvLkyTRo0ICKFSsyfPhwunfvzpQpUwCYNGkSK1aswNvbm2rVqgHw4Ycfki9fPurVq0dYWBghISEEBARker/jxo1j3LhxVKlShfXr1xMVFUXBggUBKFasGD///DObNm2iSpUqvPrqq3Tt2pVhw4bZjOHu7k7r1q2xWCy0atUqe06IiIiIiIjIbZis/7x+VSQHNW7cmAoVKvDJJ59k6XNJSUm4u7tTa3wtHJwdHlB1IiIiIvYl5rWYnC5BJMtuZYPExMS7ri2k5CA57sKFC0RHRxMdHc3UqVNzuhwREREREbEDCsOS46pVq8aFCxcYP348ZcuWzelyRERERETEDigMS47LysrVIiIiIiIi2UELaImIiIiIiIjdURgWERERERERu6PLpOWxseLVFXddMU5ERERERAQ0MywiIiIiIiJ2SGFYRERERERE7I7CsIiIiIiIiNgdhWERERERERGxOwrDIiIiIiIiYne0mrQ8NtaHNsPFQV9pERERkXsRtHZNTpcg8lBpZlhERERERETsjsKwiIiIiIiI2B2FYREREREREbE7CsMiIiIiIiJidxSGRURERERExO4oDIuIiIiIiIjdURgWERERERERu6MwLP9Jo0aNomrVqjldhoiIiIiIPKZyNAyfPXuWnj17Urx4ccxmM15eXoSEhBATE5OTZeWYr776ChcXF/7880+b9pMnT5IvXz6mTJmS7fuMj4/HZDIRGxub7WOLiIiIiIj8Vznk5M5bt27NtWvXmD17NiVLluTMmTOsWrWKc+fO5WRZOebll19m8eLFhIeHs3btWnLluvlvFd27d6d69er07t07hysUERERERF5POTYzPDFixdZt24d48ePJzg4GB8fH2rVqsWQIUNo0aKF0e/o0aO0bNkSi8WCm5sbbdu25cyZM8b2W5fTfvnllxQvXhyLxUKvXr1ITU1lwoQJeHl5UahQId577710++/WrRuenp64ubnRqFEjduzYYdNn2rRplCpVCkdHR8qWLctXX31ls91kMjFr1iyeffZZ8ubNi5+fH1FRUTZ9du/eTbNmzbBYLBQuXJiXX36Zv/7667bnZcaMGRw4cIAPP/wQgMjISGJiYoiIiODixYt07NiRfPnykTdvXpo1a8bBgwfTnYt/+uijj/D19b39D+IuUlJSeP311ylUqBBOTk7Ur1+fzZs3A5CWlsYTTzzBtGnTbD6zfft2cuXKxZEjR4DMnetx48ZRuHBhXF1d6dq1K1evXr3nmkVERERERO4mx8KwxWLBYrGwZMkSUlJSMuyTlpZGy5YtOX/+PGvWrGHFihUcOnSIF154waZfXFwcy5Yt45dffuGbb77hiy++4Omnn+b48eOsWbOG8ePHM2zYMH7//XfjM23atCEhIYFly5axdetWAgICaNy4MefPnwdg8eLFvPHGGwwYMIDdu3fTo0cPOnfuzOrVq232PXr0aNq2bcvOnTtp3rw5HTp0MMa4ePEijRo1olq1amzZsoVffvmFM2fO0LZt29ueF09PTz7//HOGDx/OihUr6NevHx9//DHe3t6Eh4ezZcsWoqKi2LhxI1arlebNm3P9+vV7+hlkxptvvsn333/P7Nmz2bZtG6VLlyYkJITz58+TK1cu2rdvz7x582w+M3fuXAIDA/Hx8QHufq6/++47Ro0axfvvv8+WLVsoUqQIU6dOvW1NKSkpJCUl2bxERERERESywmS1Wq05tfPvv/+e7t27c+XKFQICAggKCqJdu3ZUrlwZgBUrVtCsWTMOHz6Mt7c3AHv37qVChQps2rSJmjVrMmrUKD744ANOnz6Nq6srAKGhoezfv5+4uDjjUuNy5coRHh7O4MGDWb9+PU8//TQJCQmYzWajntKlS/Pmm2/yyiuvEBgYSIUKFfj888+N7W3btuXy5cv89NNPwM2Z4WHDhjFmzBgALl++jMViYdmyZYSGhvLuu++ybt06li9fboxx/PhxvL292b9/P2XKlLntuenUqRNff/01YWFhLFmyhIMHD1KmTBliYmKoV68eAOfOncPb25vZs2fTpk0bRo0axZIlS2zu//3oo4/46KOPiI+Pz3A/8fHxlChRgu3bt6ebVb58+TL58uUjMjKSF198EYDr16/j6+tL3759GTRoELGxsQQEBBAfH0/x4sVJS0ujePHiDBs2jFdffTVT57pevXpUq1aNzz77zNhep04drl69muG9zKNGjWL06NHp2n+qWw8Xhxy98l9ERETkkRW0dk1OlyBy35KSknB3dycxMRE3N7c79s3RBbRat27NyZMniYqKIjQ0lOjoaAICAoiMjARg3759eHt7G0EYoHz58nh4eLBv3z6jzdfX1wjCAIULF6Z8+fJGEL7VlpCQAMCOHTtITk6mQIECxgy1xWLh8OHDxMXFGfsODAy0qTcwMNBmv4AR3AFcXFxwc3Oz2c/q1att9lGuXDkAYz+3M3z4cNLS0hg2bJhRj4ODA7Vr1zb6FChQgLJly6arKbvExcVx/fp1m/OQJ08eatWqZeyzatWq+Pv7G7PDa9asISEhgTZt2gCZP9f/PC6AunXr3rauIUOGkJiYaLyOHTuWrcctIiIiIiKPvxyfRnNycqJp06Y0bdqU4cOH061bN0aOHEl4eHimx8iTJ4/Ne5PJlGFbWloaAMnJyRQpUoTo6Oh0Y3l4eGSp/rvtJywsjPHjx6f7XJEiRe44rsP/n+F0yMJMZ65cufj3RP+DvIT6lg4dOjBv3jwGDx7MvHnzCA0NpUCBAkD2nutbzGazzSyziIiIiIhIVv3nnjNcvnx5Ll++DIC/vz/Hjh2zmfnbu3cvFy9epHz58ve8j4CAAE6fPo2DgwOlS5e2eRUsWNDY978f8RQTE5Ol/QYEBLBnzx58fX3T7cfFxSVLNfv7+3Pjxg2b+57PnTvH/v37jZo8PT05ffq0TSC+n0cm3Vo87J/n4fr162zevNnmPLz44ovs3r2brVu3snDhQjp06GBsy+y5/udxAfz222/3XLeIiIiIiMjd5FgYPnfuHI0aNeLrr79m586dHD58mAULFjBhwgRatmwJQJMmTahUqRIdOnRg27ZtbNq0iY4dOxIUFESNGjXued9NmjShbt26tGrVil9//ZX4+Hg2bNjA0KFD2bJlCwCDBg0iMjKSadOmcfDgQT788EMWLVrEwIEDM72f3r17c/78edq3b8/mzZuJi4tj+fLldO7cmdTU1CzV7OfnR8uWLenevTvr169nx44dvPTSSxQrVsw4Xw0bNuTs2bNMmDCBuLg4PvvsM5YtW5ap8ffv309sbKzNy9HRkZ49ezJo0CB++eUX9u7dS/fu3fn777/p2rWr8VlfX1/q1atH165dSU1NtVkNPDPn+o033uDLL78kIiKCAwcOMHLkSPbs2ZOl8yMiIiIiIpIVObqadO3atZk8eTINGjSgYsWKDB8+nO7duzNlyhTg5iXHP/zwA/ny5aNBgwY0adKEkiVL8u23397Xvk0mEz///DMNGjSgc+fOlClThnbt2nHkyBEKFy4MQKtWrfj444+ZOHEiFSpUYMaMGURERNCwYcNM76do0aLExMSQmprKU089RaVKlejbty8eHh429zNnVkREBNWrV+eZZ56hbt26WK1Wfv75Z+NSbX9/f6ZOncpnn31GlSpV2LRpU6bDe7t27ahWrZrN68yZM4wbN47WrVvz8ssvExAQwJ9//sny5cvJly+fzec7dOjAjh07ePbZZ3F2djbaM3OuX3jhBYYPH86bb75J9erVOXLkCD179szy+REREREREcmsHF1NWiQ73FoxTqtJi4iIiNw7rSYtj4NHZjVpERERERERkZygMCwiIiIiIiJ2R2FYRERERERE7I7CsIiIiIiIiNgdhWERERERERGxO1p6Vx4b9X9ZdtcV40REREREREAzwyIiIiIiImKHFIZFRERERETE7igMi4iIiIiIiN1RGBYRERERERG7ozAsIiIiIiIidkerSctjY8bby3A2583pMkREREQeKX0mheV0CSI5QjPDIiIiIiIiYncUhkVERERERMTuKAyLiIiIiIiI3VEYFhEREREREbujMCwiIiIiIiJ2R2FYRERERERE7I7CsIiIiIiIiNgdheFHzMaNG8mdOzdPP/30fY8VHh5Oq1atjPcNGzakb9++d/zM4MGDKVeunE3bH3/8gclkIjw83KY9MjISs9nMlStX7rtWERERERGR7KQw/Ij54osveO2111i7di0nT5586PsPDg5m//79nD592mhbvXo13t7eREdH2/RdvXo1derUwdnZ+SFXKSIiIiIicmcKw4+Q5ORkvv32W3r27MnTTz9NZGSkzfYLFy7QoUMHPD09cXZ2xs/Pj4iIiEyNHR4ezpo1a/j4448xmUyYTCbi4+PT9atfvz558uSxCb7R0dH07t2b8+fP23wmOjqa4OBgAD788EMqVaqEi4sL3t7e9OrVi+TkZKPvkSNHCAsLI1++fLi4uFChQgV+/vnnTJ8bERERERGRrFAYfoR89913lCtXjrJly/LSSy/x5ZdfYrVaje3Dhw9n7969LFu2jH379jFt2jQKFiyYqbE//vhj6tatS/fu3Tl16hSnTp3C29s7XT8XFxdq1qzJ6tWrjbbo6GgaN25MYGCg0X7o0CGOHj1qhOFcuXLxySefsGfPHmbPns3//vc/3nzzTWOM3r17k5KSwtq1a9m1axfjx4/HYrFkWGtKSgpJSUk2LxERERERkaxwyOkCJPO++OILXnrpJQBCQ0NJTExkzZo1NGzYEICjR49SrVo1atSoAYCvr2+mx3Z3d8fR0ZG8efPi5eV1x77BwcEsWLAAgL1793L16lWqVatGgwYNiI6OpnPnzkRHR+Pk5ESdOnUAbO5F9vX15d133+XVV19l6tSpRu2tW7emUqVKAJQsWfK2+x87diyjR4/O9LGJiIiIiIj8m2aGHxH79+9n06ZNtG/fHgAHBwdeeOEFvvjiC6NPz549mT9/PlWrVuXNN99kw4YND6SWhg0bcuDAAU6dOkV0dDT169cnd+7cBAUFGZdPR0dHU69ePcxmMwArV66kcePGFCtWDFdXV15++WXOnTvH33//DcDrr7/Ou+++S2BgICNHjmTnzp233f+QIUNITEw0XseOHXsgxykiIiIiIo+ve5oZ7t+/f4btJpMJJycnSpcuTcuWLcmfP/99FSf/54svvuDGjRsULVrUaLNarZjNZqZMmYK7uzvNmjXjyJEj/Pzzz6xYsYLGjRvTu3dvJk6cmK21BAYG4ujoyOrVq1m9ejVBQUEA1KxZk7/++otDhw4RHR1Njx49AIiPj+eZZ56hZ8+evPfee+TPn5/169fTtWtXrl27Rt68eenWrRshISH89NNP/Prrr4wdO5ZJkybx2muvpdu/2Ww2QraIiIiIiMi9uKcwvH37drZt20Zqaiply5YF4MCBA+TOnZty5coxdepUBgwYwPr16ylfvny2FmyPbty4wZw5c5g0aRJPPfWUzbZWrVrxzTff8OqrrwLg6elJp06d6NSpE08++SSDBg3KdBh2dHQkNTX1rv2cnZ2pXbs20dHRrFmzhkGDBgGQJ08e6tSpwxdffMGxY8eM+4W3bt1KWloakyZNIleumxcjfPfdd+nG9fb25tVXX+XVV19lyJAhzJw5M8MwLCIiIiIicr/uKQzfmvWNiIjAzc0NgMTERLp160b9+vXp3r07L774Iv369WP58uXZWrA9Wrp0KRcuXKBr1664u7vbbGvdujVffPEFr776KiNGjKB69epUqFCBlJQUli5dir+/f6b34+vry++//058fDwWi4X8+fMb4fXfgoODmTx5MgABAQFGe1BQEBMnTjQW2gIoXbo0169f59NPPyUsLIyYmBimT59uM17fvn1p1qwZZcqU4cKFC6xevTpLtYuIiIiIiGTFPd0z/MEHHzBmzBgjCMPNBZhGjRrFhAkTyJs3LyNGjGDr1q3ZVqg9++KLL2jSpEm6IAw3w/CWLVvYuXMnjo6ODBkyhMqVK9OgQQNy587N/PnzM72fgQMHkjt3bsqXL4+npydHjx69bd/g4GAuXbpEYGAgDg7/928qQUFBXLp0yXgEE0CVKlX48MMPGT9+PBUrVmTu3LmMHTvWZrzU1FR69+6Nv78/oaGhlClTxlhcS0REREREJLuZrP98Nk8mWSwWli5daqxifEt0dDRhYWFcunSJQ4cOUbVqVT32Rh64pKQk3N3dmdB7Ps7mvDldjoiIiMgjpc+ksJwuQSTb3MoGiYmJNpO3GbmnmeGWLVvSpUsXFi9ezPHjxzl+/DiLFy+ma9eutGrVCoBNmzZRpkyZexleRERERERE5IG6p3uGZ8yYQb9+/WjXrh03bty4OZCDA506dTLuIy1XrhyzZs3KvkpFREREREREssk9hWGLxcLMmTOZPHkyhw4dAqBkyZJYLBajT9WqVbOlQBEREREREZHsdk9h+BaLxULlypWzqxYRERERERGRh+KewvDly5cZN24cq1atIiEhgbS0NJvtt2aLRURERERERP6L7ikMd+vWjTVr1vDyyy9TpEgRTCZTdtclIiIiIiIi8sDc06OVPDw8+OmnnwgMDHwQNYlkSVaWTxcRERERkcfXA3+0Ur58+cifP/89FSciIiIiIiKS0+4pDI8ZM4YRI0bw999/Z3c9IiIiIiIiIg/cPd0zPGnSJOLi4ihcuDC+vr7kyZPHZvu2bduypTgRERERERGRB+GewnCrVq2yuQwRERERERGRh+eeFtAS+S/RAloiIiIiIgJZywb3NDN8y9atW9m3bx8AFSpUoFq1avcznMh9+aD7yzj965J9EREREfk/Q79emNMliPxn3FMYTkhIoF27dkRHR+Ph4QHAxYsXCQ4OZv78+Xh6emZnjSIiIiIiIiLZ6p5Wk37ttde4dOkSe/bs4fz585w/f57du3eTlJTE66+/nt01ioiIiIiIiGSre5oZ/uWXX1i5ciX+/v5GW/ny5fnss8946qmnsq04ERERERERkQfhnmaG09LS0j1OCSBPnjykpaXdd1EiIiIiIiIiD9I9heFGjRrxxhtvcPLkSaPtxIkT9OvXj8aNG2dbcSIiIiIiIiIPwj2F4SlTppCUlISvry+lSpWiVKlS+Pr6kpSUxKeffprdNYqIiIiIiIhkq3u6Z9jb25tt27axcuVK/vjjD+DmPcOaFbZvDRs2pGrVqnz00Uc5XYqIiIiIiMgdZWlmeOPGjSxduhQAk8lE06ZNcXNzY9KkSbRv355XXnmFlJSUB1Lo3Zw9e5aePXtSvHhxzGYzXl5ehISEEBMTkyP1AIwaNYqqVas+kLGTk5PJkycP8+fPt2lv164dJpOJ+Ph4m3ZfX1+GDx+eLfuOjo7GZDJx8eLFbBlPRERERETkYctSGH7nnXfYs2eP8X7Xrl10796dpk2bMnjwYH788UfGjh2b7UVmRuvWrdm+fTuzZ8/mwIEDREVF0bBhQ86dO5cj9WSna9eupWuzWCzUqFGD6Ohom/bo6Gi8vb1t2g8fPsyRI0do1KjRA640+2V07CIiIiIiIvcrS2E4NjbW5lLo+fPnU6tWLWbOnEn//v355JNP+O6777K9yLu5ePEi69atY/z48QQHB+Pj40OtWrUYMmQILVq0AGDgwIE888wzxmc++ugjTCYTv/zyi9FWunRpZs2aZbyfNWsW/v7+ODk5Ua5cOaZOnWqz37feeosyZcqQN29eSpYsyfDhw7l+/ToAkZGRjB49mh07dmAymTCZTERGRhr1duvWDU9PT9zc3GjUqBE7duwwxr01ozxr1ixKlCiBk5NThscdHBxsE3r37dvH1atX6dmzp017dHQ0ZrOZunXrArB+/XqefPJJnJ2d8fb25vXXX+fy5ctG/6+++ooaNWrg6uqKl5cXL774IgkJCQDEx8cTHBwMQL58+TCZTISHhxufTUtL48033yR//vx4eXkxatSodD+r7Dh2ERERERGR+5GlMHzhwgUKFy5svF+zZg3NmjUz3tesWZNjx45lX3WZZLFYsFgsLFmy5LaXaQcFBbF+/XpSU1OBm7UXLFjQCI0nTpwgLi6Ohg0bAjB37lxGjBjBe++9x759+3j//fcZPnw4s2fPNsZ0dXUlMjKSvXv38vHHHzNz5kwmT54MwAsvvMCAAQOoUKECp06d4tSpU7zwwgsAtGnThoSEBJYtW8bWrVsJCAigcePGnD9/3hj7zz//5Pvvv2fRokXExsZmeEzBwcHs37+fU6dOAbB69Wrq169Po0aNbMLw6tWrqVu3Lk5OTsTFxREaGkrr1q3ZuXMn3377LevXr6dPnz5G/+vXrzNmzBh27NjBkiVLiI+PNwKvt7c333//PYCx748//tj47OzZs3FxceH3339nwoQJvPPOO6xYscLYnh3HnpKSQlJSks1LREREREQkK7IUhgsXLszhw4eBm5evbtu2jTp16hjbL126lOHzhx80BwcHIiMjmT17Nh4eHgQGBvL222+zc+dOo8+TTz7JpUuX2L59O1arlbVr1zJgwAAjNEZHR1OsWDFKly4NwMiRI5k0aRLPPfccJUqU4LnnnqNfv37MmDHDGHPYsGHUq1cPX19fwsLCGDhwoDEz7uzsjMViwcHBAS8vL7y8vHB2dmb9+vVs2rSJBQsWUKNGDfz8/Jg4cSIeHh4sXLjQGPvatWvMmTOHatWqUbly5QyPOzAwEEdHR5tjCAoKonr16vz111/Gz2rNmjXGbO7YsWPp0KEDffv2xc/Pj3r16vHJJ58wZ84crl69CkCXLl1o1qwZJUuWpE6dOnzyyScsW7aM5ORkcufOTf78+QEoVKgQXl5euLu7GzVVrlyZkSNH4ufnR8eOHalRowarVq0CyLZjHzt2LO7u7sbL29v7bl8RERERERERG1kKw82bN2fw4MGsW7eOIUOGkDdvXp588klj+86dOylVqlS2F5kZrVu35uTJk0RFRREaGkp0dDQBAQHGpckeHh5UqVKF6Ohodu3ahaOjI6+88grbt28nOTmZNWvWEBQUBMDly5eJi4uja9euxqyzxWLh3XffJS4uztjnt99+S2BgIF5eXlgsFoYNG8bRo0fvWOeOHTtITk6mQIECNmMfPnzYZmwfHx88PT3vOFbevHmpWbOmEYbXrFlDw4YNcXBwoF69ekRHR3Po0CGOHj1qhOEdO3YQGRlps++QkBDS0tKM8Lx161bCwsIoXrw4rq6uxnm527EB6cJrkSJFjEuss+vYhwwZQmJiovHKiasRRERERETk0ZalRyuNGTOG5557jqCgICwWC7Nnz8bR0dHY/uWXX/LUU09le5GZ5eTkRNOmTWnatCnDhw+nW7dujBw50rjEt2HDhsb9s0FBQeTPnx9/f3/Wr1/PmjVrGDBgAHBzpWaAmTNnUrt2bZt95M6dG7i5snaHDh0YPXo0ISEhuLu7M3/+fCZNmnTHGpOTkylSpEi6ha/gZmC/xcXFJVPHHBwczLfffsuePXu4cuUKAQEBwM3LwlevXk1aWhp58+Y1jiM5OZkePXrw+uuvpxurePHiXL58mZCQEEJCQpg7dy6enp4cPXqUkJCQTC1m9e8rA0wmE2lpadl67GazGbPZfNdaREREREREbidLYbhgwYKsXbuWxMRELBaLEQxvWbBgARaLJVsLvB/ly5dnyZIlxvugoCC+/PJLHBwcCA0NBW4G5G+++YYDBw4Y9wsXLlyYokWLcujQITp06JDh2Bs2bMDHx4ehQ4cabUeOHLHp4+joaNyjfEtAQACnT5/GwcEBX1/f+z7G4OBg3n33XebNm0f9+vWNn0mDBg34/PPPsVqtxuXUt/a/d+9e43Lwf9u1axfnzp1j3LhxxuXHW7ZsSXdcQLpju5vsPnYREREREZF7laXLpG9xd3dPF4QB8ufPbzNT/LCcO3eORo0a8fXXX7Nz504OHz7MggULmDBhAi1btjT6NWjQgEuXLrF06VIj+DZs2JC5c+dSpEgRypQpY/QdPXo0Y8eO5ZNPPuHAgQPs2rWLiIgIPvzwQwD8/Pw4evQo8+fPJy4ujk8++YTFixfb1OXr68vhw4eJjY3lr7/+IiUlhSZNmlC3bl1atWrFr7/+Snx8PBs2bGDo0KHpQmdm1KtXD7PZzKeffmpczgxQq1YtEhIS+OGHH4xLpOHmCtgbNmygT58+xMbGcvDgQX744QdjAa3ixYvj6OjIp59+yqFDh4iKimLMmDE2+/Tx8cFkMrF06VLOnj1rzKTfTXYfu4iIiIiIyL26pzD8X2OxWKhduzaTJ0+mQYMGVKxYkeHDh9O9e3emTJli9MuXLx+VKlXC09OTcuXKATcDclpamk2QBOjWrRuzZs0iIiKCSpUqERQURGRkJCVKlACgRYsW9OvXjz59+lC1alU2bNjA8OHDbcZo3bo1oaGhBAcH4+npyTfffIPJZOLnn3+mQYMGdO7cmTJlytCuXTuOHDlis1J3Zjk5OVGnTh0uXbpkBHy4eSnxrfZ/huHKlSuzZs0aDhw4wJNPPkm1atUYMWIERYsWBcDT05PIyEgWLFhA+fLlGTduHBMnTrTZZ7FixRg9ejSDBw+mcOHCNitR30l2H7uIiIiIiMi9MlmtVmtOFyFyP5KSknB3d2dY2xY45cBq5iIiIiKPiqFfL7x7J5FH2K1skJiYiJub2x37PhYzwyIiIiIiIiJZoTAsIiIiIiIidkdhWEREREREROyOwrCIiIiIiIjYHYVhERERERERsTtaTVoeeVlZMU5ERERERB5fWk1aRERERERE5A4UhkVERERERMTuKAyLiIiIiIiI3VEYFhEREREREbujMCwiIiIiIiJ2R2FYRERERERE7I5DThcgkl32f7AGi5NLTpchIiIikmP8hzbK6RJEHhmaGRYRERERERG7ozAsIiIiIiIidkdhWEREREREROyOwrCIiIiIiIjYHYVhERERERERsTsKwyIiIiIiImJ3FIbt2Oeff463tze5cuXio48+YtSoUVStWjWnyxIREREREXngFIb/g86ePUvPnj0pXrw4ZrMZLy8vQkJCiImJybZ9JCUl0adPH9566y1OnDjBK6+8km1ji4iIiIiI/Nc55HQBkl7r1q25du0as2fPpmTJkpw5c4ZVq1Zx7ty5bNvH0aNHuX79Ok8//TRFihTJtnGzk9VqJTU1FQcHfU1FRERERCR7aWb4P+bixYusW7eO8ePHExwcjI+PD7Vq1WLIkCG0aNGC+Ph4TCYTsbGxNp8xmUxER0cDEB0djclkYtWqVdSoUYO8efNSr1499u/fD0BkZCSVKlUCoGTJkphMJuLj49PVkpaWxjvvvMMTTzyB2WymatWq/PLLL8b2559/nj59+hjv+/bti8lk4o8//gDg2rVruLi4sHLlSmO8sWPHUqJECZydnalSpQoLFy40Pn+r7mXLllG9enXMZjPr16/PlvMqIiIiIiLyTwrD/zEWiwWLxcKSJUtISUm5r7GGDh3KpEmT2LJlCw4ODnTp0gWAF154wQiomzZt4tSpU3h7e6f7/Mcff8ykSZOYOHEiO3fuJCQkhBYtWnDw4EEAgoKCjAAOsGbNGgoWLGi0bd68mevXr1OvXj0Axo4dy5w5c5g+fTp79uyhX79+vPTSS6xZs8Zmv4MHD2bcuHHs27ePypUrp6srJSWFpKQkm5eIiIiIiEhWKAz/xzg4OBAZGcns2bPx8PAgMDCQt99+m507d2Z5rPfee4+goCDKly/P4MGD2bBhA1evXsXZ2ZkCBQoA4OnpiZeXF7lz5073+YkTJ/LWW2/Rrl07ypYty/jx46latSofffQRAA0bNmTv3r2cPXuWCxcusHfvXt544w2bGeqaNWuSN29eUlJSeP/99/nyyy8JCQmhZMmShIeH89JLLzFjxgyb/b7zzjs0bdqUUqVKkT9//nR1jR07Fnd3d+OVUZAXERERERG5E4Xh/6DWrVtz8uRJoqKiCA0NJTo6moCAACIjI7M0zj9nVW/dF5yQkJCpzyYlJXHy5EkCAwNt2gMDA9m3bx8AFStWJH/+/KxZs4Z169ZRrVo1nnnmGWOmd82aNTRs2BCAP//8k7///pumTZsas98Wi4U5c+YQFxdns48aNWrcsbYhQ4aQmJhovI4dO5apYxIREREREblFKxP9Rzk5OdG0aVOaNm3K8OHD6datGyNHjmTdunXAzcWlbrl+/XqGY+TJk8f4s8lkAm7et5tdTCYTDRo0IDo6GrPZTMOGDalcuTIpKSns3r2bDRs2MHDgQACSk5MB+OmnnyhWrJjNOGaz2ea9i4vLHfdrNpvTfUZERERERCQrNDP8iChfvjyXL1/G09MTgFOnThnb/rmYVnZxc3OjaNGi6R7nFBMTQ/ny5Y33t+4bjo6OpmHDhuTKlYsGDRrwwQcfkJKSYswsly9fHrPZzNGjRyldurTNS5c5i4iIiIjIw6aZ4f+Yc+fO0aZNG7p06ULlypVxdXVly5YtTJgwgZYtW+Ls7EydOnUYN24cJUqUICEhgWHDhj2QWgYNGsTIkSMpVaoUVatWJSIigtjYWObOnWv0adiwIf369cPR0ZH69esbbQMHDqRmzZrGLK+rqysDBw6kX79+pKWlUb9+fRITE4mJicHNzY1OnTo9kGMQERERERHJiMLwf4zFYqF27dpMnjyZuLg4rl+/jre3N927d+ftt98G4Msvv6Rr165Ur16dsmXLMmHCBJ566qlsr+X1118nMTGRAQMGkJCQQPny5YmKisLPz8/oU6lSJTw8PChTpgwWiwW4GYZTU1ON+4VvGTNmDJ6enowdO5ZDhw7h4eFBQECAcVwiIiIiIiIPi8n6z5tPRR5BSUlJuLu7s2lYFBanO99vLCIiIvI48x/aKKdLEMlRt7JBYmIibm5ud+yre4ZFRERERETE7igMi4iIiIiIiN1RGBYRERERERG7ozAsIiIiIiIidkdhWEREREREROyOHq0kj42yg4LuumKciIiIiIgIaGZYRERERERE7JDCsIiIiIiIiNgdhWERERERERGxOwrDIiIiIiIiYncUhkVERERERMTuaDVpeWyMHTsWs9mc02WIiIiIZGjUqFE5XYKI/INmhkVERERERMTuKAyLiIiIiIiI3VEYFhEREREREbujMCwiIiIiIiJ2R2FYRERERERE7I7CsIiIiIiIiNgdhWERERERERGxOwrDIiIiIiIiYncUhnPIsWPH6NKlC0WLFsXR0REfHx/eeOMNzp0798D3HR8fj8lkMl6urq5UqFCB3r17c/DgwQe+fxERERERkZymMJwDDh06RI0aNTh48CDffPMNf/75J9OnT2fVqlXUrVuX8+fPP5Q6Vq5cyalTp9ixYwfvv/8++/bto0qVKqxateqh7F9ERERERCSnKAzngN69e+Po6Mivv/5KUFAQxYsXp1mzZqxcuZITJ04wdOhQo6+vry/vv/8+Xbp0wdXVleLFi/P555/bjHfs2DHatm2Lh4cH+fPnp2XLlsTHx9+1jgIFCuDl5UXJkiVp2bIlK1eupHbt2nTt2pXU1FQA4uLiaNmyJYULF8ZisVCzZk1WrlxpM05majx+/Djt27cnf/78uLi4UKNGDX7//Xdj+w8//EBAQABOTk6ULFmS0aNHc+PGjayeWhERERERkUxRGH7Izp8/z/Lly+nVqxfOzs4227y8vOjQoQPffvstVqvVaJ80aRI1atRg+/bt9OrVi549e7J//34Arl+/TkhICK6urqxbt46YmBgsFguhoaFcu3YtS7XlypWLN954gyNHjrB161YAkpOTad68OatWrWL79u2EhoYSFhbG0aNHbT57pxqTk5MJCgrixIkTREVFsWPHDt58803S0tIAWLduHR07duSNN95g7969zJgxg8jISN57770M60xJSSEpKcnmJSIiIiIikhUKww/ZwYMHsVqt+Pv7Z7jd39+fCxcucPbsWaOtefPm9OrVi9KlS/PWW29RsGBBVq9eDcC3335LWloas2bNolKlSvj7+xMREcHRo0eJjo7Ocn3lypUDMGaWq1SpQo8ePahYsSJ+fn6MGTOGUqVKERUVZfO5O9U4b948zp49y5IlS6hfvz6lS5embdu21K1bF4DRo0czePBgOnXqRMmSJWnatCljxoxhxowZGdY4duxY3N3djZe3t3eWj1NEREREROybQ04XYK/+OfN7N5UrVzb+bDKZ8PLyIiEhAYAdO3bw559/4urqavOZq1evEhcXd891mUwm4Oas7qhRo/jpp584deoUN27c4MqVK+lmhu9UY2xsLNWqVSN//vwZ7nPHjh3ExMTYzASnpqZy9epV/v77b/LmzWvTf8iQIfTv3994n5SUpEAsIiIiIiJZojD8kJUuXRqTycS+fft49tln023ft28f+fLlw9PT02jLkyePTR+TyWRcYpycnEz16tWZO3duurH+OUZm7du3D4ASJUoAMHDgQFasWMHEiRMpXbo0zs7OPP/88+kuwb5Tjf++HPzfkpOTGT16NM8991y6bU5OTunazGYzZrM58wclIiIiIiLyLwrDD1mBAgVo2rQpU6dOpV+/fjZB8fTp08ydO5eOHTsaM7N3ExAQwLfffkuhQoVwc3O7r9rS0tL45JNPKFGiBNWqVQMgJiaG8PBwI7gnJydnanGuf6pcuTKzZs3i/PnzGc4OBwQEsH//fkqXLn1f9YuIiIiIiGSW7hnOAVOmTCElJYWQkBDWrl3LsWPH+OWXX2jatCnFihW77cJRGenQoQMFCxakZcuWrFu3jsOHDxMdHc3rr7/O8ePH7/jZc+fOcfr0aQ4dOkRUVBRNmjRh06ZNfPHFF+TOnRsAPz8/Fi1aRGxsLDt27ODFF180Znwzq3379nh5edGqVStiYmI4dOgQ33//PRs3bgRgxIgRzJkzh9GjR7Nnzx727dvH/PnzGTZsWJb2IyIiIiIiklkKwznAz8+PLVu2ULJkSdq2bUupUqV45ZVXCA4OZuPGjbe9tzYjefPmZe3atRQvXpznnnsOf39/unbtytWrV+86U9ykSROKFClCpUqVGDx4MP7+/uzcuZPg4GCjz4cffki+fPmoV68eYWFhhISEEBAQkKXjvfUYqUKFCtG8eXMqVarEuHHjjMAdEhLC0qVL+fXXX6lZsyZ16tRh8uTJ+Pj4ZGk/IiIiIiIimWWyZmUlJ5H/oKSkJNzd3Rk8eLDuJRYREZH/rFGjRuV0CSKPvVvZIDEx8a6Tg5oZFhEREREREbujMCwiIiIiIiJ2R2FYRERERERE7I7CsIiIiIiIiNgdhWERERERERGxO1pNWh55WVkxTkREREREHl9aTVpERERERETkDhSGRURERERExO4oDIuIiIiIiIjdURgWERERERERu6MwLCIiIiIiInbHIacLEMkuixYHkzdv7pwuQ0RERB5DbdtsyukSRCSbaWZYRERERERE7I7CsIiIiIiIiNgdhWERERERERGxOwrDIiIiIiIiYncUhkVERERERMTuKAyLiIiIiIiI3VEYFhEREREREbujMCwiIiIiIiJ2R2FYMu3s2bP07NmT4sWLYzab8fLyIiQkhJiYGABMJhNLlizJ2SJFREREREQywSGnC5BHR+vWrbl27RqzZ8+mZMmSnDlzhlWrVnHu3LmcLk1ERERERCRLNDMsmXLx4kXWrVvH+PHjCQ4OxsfHh1q1ajFkyBBatGiBr68vAM8++ywmk8l4HxcXR8uWLSlcuDAWi4WaNWuycuVKY9x33nmHihUrpttf1apVGT58+MM4NBERERERsUMKw5IpFosFi8XCkiVLSElJSbd98+bNAERERHDq1CnjfXJyMs2bN2fVqlVs376d0NBQwsLCOHr0KABdunRh3759Rn+A7du3s3PnTjp37pxhLSkpKSQlJdm8REREREREskJhWDLFwcGByMhIZs+ejYeHB4GBgbz99tvs3LkTAE9PTwA8PDzw8vIy3lepUoUePXpQsWJF/Pz8GDNmDKVKlSIqKgqAJ554gpCQECIiIox9RUREEBQURMmSJTOsZezYsbi7uxsvb2/vB3noIiIiIiLyGFIYlkxr3bo1J0+eJCoqitDQUKKjowkICCAyMvK2n0lOTmbgwIH4+/vj4eGBxWJh3759xswwQPfu3fnmm2+4evUq165dY968eXTp0uW2Yw4ZMoTExETjdezYsew8TBERERERsQNaQEuyxMnJiaZNm9K0aVOGDx9Ot27dGDlyJOHh4Rn2HzhwICtWrGDixImULl0aZ2dnnn/+ea5du2b0CQsLw2w2s3jxYhwdHbl+/TrPP//8bWswm82YzebsPjQREREREbEjCsNyX8qXL288TilPnjykpqbabI+JiSE8PJxnn30WuDlTHB8fb9PHwcGBTp06ERERgaOjI+3atcPZ2flhlC8iIiIiInZKYVgy5dy5c7Rp04YuXbpQuXJlXF1d2bJlCxMmTKBly5YA+Pr6smrVKgIDAzGbzeTLlw8/Pz8WLVpEWFgYJpOJ4cOHk5aWlm78bt264e/vD2A8t1hERERERORBURiWTLFYLNSuXZvJkycTFxfH9evX8fb2pnv37rz99tsATJo0if79+zNz5kyKFStGfHw8H374IV26dKFevXoULFiQt956K8PVn/38/KhXrx7nz5+ndu3aD/vwRERERETEzpisVqs1p4sQsVqt+Pn50atXL/r375+lzyYlJeHu7k5EZAB58+Z+QBWKiIiIPWvbZlNOlyAimXArGyQmJuLm5nbHvpoZlhx39uxZ5s+fz+nTp2/7bGEREREREZHspDAsOa5QoUIULFiQzz//nHz58uV0OSIiIiIiYgcUhiXH6Up9ERERERF52HLldAEiIiIiIiIiD5vCsIiIiIiIiNgdXSYtj43nnl191xXjREREREREQDPDIiIiIiIiYocUhkVERERERMTuKAyLiIiIiIiI3VEYFhEREREREbujMCwiIiIiIiJ2R6tJy2Oj3pKV5M7rktNliIiIyCNox/MhOV2CiDxkmhkWERERERERu6MwLCIiIiIiInZHYVhERERERETsjsKwiIiIiIiI2B2FYREREREREbE7CsMiIiIiIiJidxSG5Z6NGjWKwoULYzKZWLJkSU6XIyIiIiIikmkKw3YgPDwck8mEyWTC0dGR0qVL884773Djxo17HnPfvn2MHj2aGTNmcOrUKZo1a3bfdY4aNYqqVave9zgiIiIiIiJ345DTBcjDERoaSkREBCkpKfz888/07t2bPHnyMGTIkCyNk5qaislkIi4uDoCWLVtiMpkeRMkiIiIiIiIPjGaG7YTZbMbLywsfHx969uxJkyZNiIqKIiUlhYEDB1KsWDFcXFyoXbs20dHRxuciIyPx8PAgKiqK8uXLYzab6dKlC2FhYQDkypXLJgzPmjULf39/nJycKFeuHFOnTrWp4/jx47Rv3578+fPj4uJCjRo1+P3334mMjGT06NHs2LHDmMWOjIx8GKdGRERERETskGaG7ZSzszPnzp2jT58+7N27l/nz51O0aFEWL15MaGgou3btws/PD4C///6b8ePHM2vWLAoUKECRIkVo2LAhnTt35tSpU8aYc+fOZcSIEUyZMoVq1aqxfft2unfvjouLC506dSI5OZmgoCCKFStGVFQUXl5ebNu2jbS0NF544QV2797NL7/8wsqVKwFwd3fPsPaUlBRSUlKM90lJSQ/wTImIiIiIyONIYdjOWK1WVq1axfLly2nfvj0REREcPXqUokWLAjBw4EB++eUXIiIieP/99wG4fv06U6dOpUqVKsY4Hh4eAHh5eRltI0eOZNKkSTz33HMAlChRgr179zJjxgw6derEvHnzOHv2LJs3byZ//vwAlC5d2vi8xWLBwcHBZsyMjB07ltGjR9//yRAREREREbulMGwnli5disVi4fr166SlpfHiiy/y/PPPExkZSZkyZWz6pqSkUKBAAeO9o6MjlStXvuP4ly9fJi4ujq5du9K9e3ej/caNG8YMb2xsLNWqVTOC8L0aMmQI/fv3N94nJSXh7e19X2OKiIiIiIh9URi2E8HBwUybNg1HR0eKFi2Kg4MD3377Lblz52br1q3kzp3bpr/FYjH+7OzsfNdFspKTkwGYOXMmtWvXttl2a2xnZ+fsOBTMZjNmszlbxhIREREREfukMGwnXFxcbC5JBqhWrRqpqakkJCTw5JNP3tf4hQsXpmjRohw6dIgOHTpk2Kdy5crMmjWL8+fPZzg77OjoSGpq6n3VISIiIiIikhlaTdqOlSlThg4dOtCxY0cWLVrE4cOH2bRpE2PHjuWnn37K8nijR49m7NixfPLJJxw4cIBdu3YRERHBhx9+CED79u3x8vKiVatWxMTEcOjQIb7//ns2btwIgK+vL4cPHyY2Npa//vrLZpEsERERERGR7KQwbOciIiLo2LEjAwYMoGzZsrRq1YrNmzdTvHjxLI/VrVs3Zs2aRUREBJUqVSIoKIjIyEhKlCgB3Jz5/fXXXylUqBDNmzenUqVKjBs3zriMunXr1oSGhhIcHIynpyfffPNNth6riIiIiIjILSar1WrN6SJE7kdSUhLu7u5UmP09ufO65HQ5IiIi8gja8XxITpcgItngVjZITEzEzc3tjn01MywiIiIiIiJ2R2FYRERERERE7I7CsIiIiIiIiNgdhWERERERERGxOwrDIiIiIiIiYncUhkVERERERMTuOOR0ASLZZUOrJnddPl1ERERERAQ0MywiIiIiIiJ2SDPD8sizWq3AzQdsi4iIiIiI/bqVCW5lhDtRGJZH3rlz5wDw9vbO4UpEREREROS/4NKlS7i7u9+xj8KwPPLy588PwNGjR+/6hRe5m6SkJLy9vTl27JjuQZf7pu+TZBd9lyQ76fsk2eW/+F2yWq1cunSJokWL3rWvwrA88nLlunnru7u7+3/ml1AefW5ubvo+SbbR90myi75Lkp30fZLs8l/7LmV2gkwLaImIiIiIiIjdURgWERERERERu6MwLI88s9nMyJEjMZvNOV2KPAb0fZLspO+TZBd9lyQ76fsk2eVR/y6ZrJlZc1pERERERETkMaKZYREREREREbE7CsMiIiIiIiJidxSGRURERERExO4oDIuIiIiIiIjdURiWR95nn32Gr68vTk5O1K5dm02bNuV0SfIIWrt2LWFhYRQtWhSTycSSJUtyuiR5RI0dO5aaNWvi6upKoUKFaNWqFfv378/psuQRNW3aNCpXroybmxtubm7UrVuXZcuW5XRZ8hgYN24cJpOJvn375nQp8ggaNWoUJpPJ5lWuXLmcLivLFIblkfbtt9/Sv39/Ro4cybZt26hSpQohISEkJCTkdGnyiLl8+TJVqlThs88+y+lS5BG3Zs0aevfuzW+//caKFSu4fv06Tz31FJcvX87p0uQR9MQTTzBu3Di2bt3Kli1baNSoES1btmTPnj05XZo8wjZv3syMGTOoXLlyTpcij7AKFSpw6tQp47V+/fqcLinL9GgleaTVrl2bmjVrMmXKFADS0tLw9vbmtddeY/DgwTlcnTyqTCYTixcvplWrVjldijwGzp49S6FChVizZg0NGjTI6XLkMZA/f34++OADunbtmtOlyCMoOTmZgIAApk6dyrvvvkvVqlX56KOPcrosecSMGjWKJUuWEBsbm9Ol3BfNDMsj69q1a2zdupUmTZoYbbly5aJJkyZs3LgxBysTEfk/iYmJwM0AI3I/UlNTmT9/PpcvX6Zu3bo5XY48onr37s3TTz9t8/9PIvfi4MGDFC1alJIlS9KhQweOHj2a0yVlmUNOFyByr/766y9SU1MpXLiwTXvhwoX5448/cqgqEZH/k5aWRt++fQkMDKRixYo5XY48onbt2kXdunW5evUqFouFxYsXU758+ZwuSx5B8+fPZ9u2bWzevDmnS5FHXO3atYmMjKRs2bKcOnWK0aNH8+STT7J7925cXV1zurxMUxgWERF5QHr37s3u3bsfyfuo5L+jbNmyxMbGkpiYyMKFC+nUqRNr1qxRIJYsOXbsGG+88QYrVqzAyckpp8uRR1yzZs2MP1euXJnatWvj4+PDd99990jdwqEwLI+sggULkjt3bs6cOWPTfubMGby8vHKoKhGRm/r06cPSpUtZu3YtTzzxRE6XI48wR0dHSpcuDUD16tXZvHkzH3/8MTNmzMjhyuRRsnXrVhISEggICDDaUlNTWbt2LVOmTCElJYXcuXPnYIXyKPPw8KBMmTL8+eefOV1KluieYXlkOTo6Ur16dVatWmW0paWlsWrVKt1LJSI5xmq10qdPHxYvXsz//vc/SpQokdMlyWMmLS2NlJSUnC5DHjGNGzdm165dxMbGGq8aNWrQoUMHYmNjFYTlviQnJxMXF0eRIkVyupQs0cywPNL69+9Pp06dqFGjBrVq1eKjjz7i8uXLdO7cOadLk0dMcnKyzb9mHj58mNjYWPLnz0/x4sVzsDJ51PTu3Zt58+bxww8/4OrqyunTpwFwd3fH2dk5h6uTR82QIUNo1qwZxYsX59KlS8ybN4/o6GiWL1+e06XJI8bV1TXd2gUuLi4UKFBAaxpIlg0cOJCwsDB8fHw4efIkI0eOJHfu3LRv3z6nS8sShWF5pL3wwgucPXuWESNGcPr0aapWrcovv/ySblEtkbvZsmULwcHBxvv+/fsD0KlTJyIjI3OoKnkUTZs2DYCGDRvatEdERBAeHv7wC5JHWkJCAh07duTUqVO4u7tTuXJlli9fTtOmTXO6NBGxY8ePH6d9+/acO3cOT09P6tevz2+//Yanp2dOl5Yles6wiIiIiIiI2B3dMywiIiIiIiJ2R2FYRERERERE7I7CsIiIiIiIiNgdhWERERERERGxOwrDIiIiIiIiYncUhkVERERERMTuKAyLiIiIiIiI3VEYFhEREREREbujMCwiIiKPpf379+Pl5cWlS5ey9LmGDRvSt29f472vry8fffSR8d5kMrFkyRIA4uPjMZlMxMbG3n/BmVSnTh2+//77h7Y/EZHHlcKwiIjIY+zs2bP07NmT4sWLYzab8fLyIiQkhJiYGKPPP8Pd42TIkCG89tpruLq6AhAdHY3JZDJezs7OVKhQgc8//9zmc4sWLWLMmDGZ2oe3tzenTp2iYsWK2V7/7QwbNozBgweTlpb20PYpIvI4UhgWERF5jLVu3Zrt27cze/ZsDhw4QFRUFA0bNuTcuXNZGufatWsPqMIH4+jRoyxdupTw8PB02/bv38+pU6fYu3cvPXr0oGfPnqxatcrYnj9/fiNA303u3Lnx8vLCwcEhu0q/q2bNmnHp0iWWLVv20PYpIvI4UhgWERF5TF28eJF169Yxfvx4goOD8fHxoVatWgwZMoQWLVoANy8BBnj22WcxmUzG+1GjRlG1alVmzZpFiRIlcHJyMsbs1q0bnp6euLm50ahRI3bs2GHsMy4ujpYtW1K4cGEsFgs1a9Zk5cqVNnX5+vry7rvv0rFjRywWCz4+PkRFRXH27FlatmyJxWKhcuXKbNmyxfjMkSNHCAsLI1++fLi4uFChQgV+/vnn2x77d999R5UqVShWrFi6bYUKFcLLy4sSJUrw+uuvU6JECbZt22Zs//dl0neS0WXSa9asoVatWpjNZooUKcLgwYO5ceOGzfivv/46b775Jvnz58fLy4tRo0YZ261WK6NGjTJm84sWLcrrr79ubM+dOzfNmzdn/vz5mapRREQypjAsIiLymLJYLFgsFpYsWUJKSkqGfTZv3gxAREQEp06dMt4D/Pnnn3z//fcsWrTICHtt2rQhISGBZcuWsXXrVgICAmjcuDHnz58HIDk5mebNm7Nq1Sq2b99OaGgoYWFhHD161Ga/kydPJjAwkO3bt/P000/z8ssv07FjR1566SW2bdtGqVKl6NixI1arFYDevXuTkpLC2rVr2bVrF+PHj8disdz22NetW0eNGjXueH6sViu//PILR48epXbt2nc+mZl04sQJmjdvTs2aNdmxYwfTpk3jiy++4N1337XpN3v2bFxcXPj999+ZMGEC77zzDitWrADg+++/Z/LkycyYMYODBw+yZMkSKlWqZPP5WrVqsW7dumypWUTEXj28a3pERETkoXJwcCAyMpLu3bszffp0AgICCAoKol27dlSuXBkAT09PADw8PPDy8rL5/LVr15gzZ47RZ/369WzatImEhATMZjMAEydOZMmSJSxcuJBXXnmFKlWqUKVKFWOMMWPGsHjxYqKioujTp4/R3rx5c3r06AHAiBEjmDZtGjVr1qRNmzYAvPXWW9StW5czZ87g5eXF0aNHad26tREKS5YsecdjP3LkyG3D8BNPPAFASkoKaWlpvPPOOzRo0CATZ/Tupk6dire3N1OmTMFkMlGuXDlOnjzJW2+9xYgRI8iV6+Y8ROXKlRk5ciQAfn5+TJkyhVWrVtG0aVOOHj2Kl5cXTZo0IU+ePBQvXpxatWrZ7Kdo0aIcO3aMtLQ0Y0wREcka/e0pIiLyGGvdujUnT54kKiqK0NBQoqOjCQgIIDIy8q6f9fHxMYIwwI4dO0hOTqZAgQLGrLPFYuHw4cPExcUBN2eGBw4ciL+/Px4eHlgsFvbt25duZvhWGAcoXLgwgM3s5622hIQEAF5//XXeffddAgMDGTlyJDt37rxj7VeuXDEu7f63devWERsbS2xsLLNmzeL9999n2rRpdz0fmbFv3z7q1q2LyWQy2gIDA0lOTub48eNG2z+PH6BIkSLGsbZp04YrV65QsmRJunfvzuLFi20uswZwdnYmLS3ttjP+IiJydwrDIiIijzknJyeaNm3K8OHD2bBhA+Hh4cas5J24uLjYvE9OTqZIkSJGkLz12r9/P4MGDQJg4MCBLF68mPfff98InZUqVUq3AFeePHmMP98Kjhm13VoxuVu3bhw6dIiXX36ZXbt2UaNGDT799NPb1l6wYEEuXLiQ4bYSJUpQunRpKlSoQOfOnXn55Zd577337no+stM/jxVuHu+tY/X29mb//v1MnToVZ2dnevXqRYMGDbh+/brR//z587i4uODs7PxQ6xYReZwoDIuIiNiZ8uXLc/nyZeN9njx5SE1NvevnAgICOH36NA4ODpQuXdrmVbBgQQBiYmIIDw/n2WefpVKlSnh5eREfH58tdXt7e/Pqq6+yaNEiBgwYwMyZM2/bt1q1auzduzdT4+bOnZsrV65kS43+/v5s3LjRuNcZbp4TV1dX4/LszHB2diYsLIxPPvmE6OhoNm7cyK5du4ztu3fvplq1atlSs4iIvVIYFhEReUydO3eORo0a8fXXX7Nz504OHz7MggULmDBhAi1btjT6+fr6smrVKk6fPn3b2VSAJk2aULduXVq1asWvv/5KfHw8GzZsYOjQocbKz35+fsaCWzt27ODFF1/Mlufh9u3bl+XLl3P48GG2bdvG6tWr8ff3v23/kJAQNm7cmGHIT0hI4PTp0xw5coQFCxbw1Vdf2ZyP+9GrVy+OHTvGa6+9xh9//MEPP/zAyJEj6d+/f6bv7Y2MjOSLL75g9+7dHDp0iK+//hpnZ2d8fHyMPuvWreOpp57KlppFROyVFtASERF5TFksFmrXrs3kyZOJi4vj+vXreHt70717d95++22j36RJk+jfvz8zZ86kWLFit53JNZlM/PzzzwwdOpTOnTtz9uxZvLy8aNCggXGP74cffkiXLl2oV68eBQsW5K233iIpKem+jyU1NZXevXtz/Phx3NzcCA0NZfLkybft36xZMxwcHFi5ciUhISE228qWLQvcXGDM29ubHj162Dza6H4UK1aMn3/+mUGDBlGlShXy589P165dGTZsWKbH8PDwYNy4cfTv35/U1FQqVarEjz/+SIECBYCbK1Zv2LCBr7/+OltqFhGxVybrP6/jEREREXlMfPbZZ0RFRbF8+fKcLiVbvfXWW1y4cIHPP/88p0sREXmkaWZYREREHks9evTg4sWLXLp0CVdX15wuJ9sUKlSI/v3753QZIiKPPM0Mi4iIiIiIiN3RAloiIiIiIiJidxSGRURERERExO4oDIuIiIiIiIjdURgWERERERERu6MwLCIiIiIiInZHYVhERERERETsjsKwiIiIiIiI2B2FYREREREREbE7CsMiIiIiIiJid/4fl5RTNl4wBFMAAAAASUVORK5CYII=",
      "text/plain": [
       "<Figure size 1000x400 with 1 Axes>"
      ]
     },
     "metadata": {},
     "output_type": "display_data"
    }
   ],
   "source": [
    "# Streams vs songs\n",
    "plt.figure(figsize=(10, 4))\n",
    "sns.barplot(\n",
    "    data=df.sort_values(by='streams(billions)', ascending=False)[:10], \n",
    "    x='streams(billions)', \n",
    "    y='song',\n",
    "    hue='song'\n",
    ")\n",
    "plt.xlabel('Streams (Billions)')\n",
    "plt.ylabel('Song')\n",
    "plt.title('Top 10 most streamed songs on spotify')\n",
    "plt.show()"
   ]
  },
  {
   "cell_type": "code",
   "execution_count": 135,
   "id": "e6bf30fa",
   "metadata": {},
   "outputs": [
    {
     "data": {
      "image/png": "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",
      "text/plain": [
       "<Figure size 1000x400 with 1 Axes>"
      ]
     },
     "metadata": {},
     "output_type": "display_data"
    }
   ],
   "source": [
    "# Artists vs songs in ranking\n",
    "top10 = df[\"artist(s)\"].value_counts().nlargest(10)\n",
    "\n",
    "plt.figure(figsize=(10, 4))\n",
    "sns.barplot(x=top10.values, y=top10.index.tolist(), orient=\"h\", hue=top10.index.tolist())\n",
    "plt.title(\"Top 10 Artists by Number of Songs\")\n",
    "plt.xlabel(\"# of Songs in Ranking\")\n",
    "plt.ylabel(\"Artist\")\n",
    "plt.show()"
   ]
  },
  {
   "cell_type": "markdown",
   "id": "7452e947",
   "metadata": {},
   "source": [
    "### Insights\n",
    "- Mid/late 2010 were the peak years for songs breaking into the ranking.\n",
    "- 'Blinding lights' and 'Shape of you' dominate all-time streams, outpacing other songs. \n",
    "- 'Bruno Mars', 'The Weeknd' and 'Ed Sheeran' show sustained success throughout their career, by having 4 solo songs in the ranking."
   ]
  }
 ],
 "metadata": {
  "kernelspec": {
   "display_name": ".venv (3.12.1)",
   "language": "python",
   "name": "python3"
  },
  "language_info": {
   "codemirror_mode": {
    "name": "ipython",
    "version": 3
   },
   "file_extension": ".py",
   "mimetype": "text/x-python",
   "name": "python",
   "nbconvert_exporter": "python",
   "pygments_lexer": "ipython3",
   "version": "3.12.1"
  }
 },
 "nbformat": 4,
 "nbformat_minor": 5
}
