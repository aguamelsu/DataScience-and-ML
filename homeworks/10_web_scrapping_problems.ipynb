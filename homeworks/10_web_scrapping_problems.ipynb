{
 "cells": [
  {
   "cell_type": "markdown",
   "id": "b04ae1d3",
   "metadata": {},
   "source": [
    "# Spotify Web Scrapping w Python"
   ]
  },
  {
   "cell_type": "markdown",
   "id": "9025f90b",
   "metadata": {},
   "source": [
    "### Scrapping from wikipedia"
   ]
  },
  {
   "cell_type": "code",
   "execution_count": 139,
   "id": "184f207b",
   "metadata": {},
   "outputs": [],
   "source": [
    "# Import libraries\n",
    "import requests\n",
    "from bs4 import BeautifulSoup\n",
    "import pandas as pd\n",
    "import matplotlib.pyplot as plt\n",
    "import seaborn as sns"
   ]
  },
  {
   "cell_type": "code",
   "execution_count": 140,
   "id": "efa9a354",
   "metadata": {},
   "outputs": [],
   "source": [
    "# Access HTML\n",
    "url = 'https://en.wikipedia.org/wiki/List_of_most-streamed_songs_on_Spotify'\n",
    "headers = {'User-Agent': 'MyWebScrapper/1.0'}\n",
    "response = requests.get(url, headers=headers)\n",
    "soup = BeautifulSoup(response.content, 'html.parser')"
   ]
  },
  {
   "cell_type": "code",
   "execution_count": 141,
   "id": "cf6c1bac",
   "metadata": {},
   "outputs": [
    {
     "data": {
      "text/plain": [
       "[<th>Rank\n",
       " </th>,\n",
       " <th>Song\n",
       " </th>,\n",
       " <th>Artist(s)\n",
       " </th>,\n",
       " <th>Streams<br/>(billions)\n",
       " </th>,\n",
       " <th>Release date\n",
       " </th>]"
      ]
     },
     "execution_count": 141,
     "metadata": {},
     "output_type": "execute_result"
    }
   ],
   "source": [
    "# Subset desired most streamed songs table\n",
    "tables = soup.find_all('table', class_='wikitable')\n",
    "most_streamed_songs = tables[0]\n",
    "most_streamed_songs.find_all('th')[:5]"
   ]
  },
  {
   "cell_type": "code",
   "execution_count": 142,
   "id": "97ec2c04",
   "metadata": {},
   "outputs": [
    {
     "data": {
      "text/plain": [
       "['Rank', 'Song', 'Artist(s)', 'Streams(billions)', 'Release date', 'Ref.']"
      ]
     },
     "execution_count": 142,
     "metadata": {},
     "output_type": "execute_result"
    }
   ],
   "source": [
    "# Extract table headers into table_headers\n",
    "header_cells = most_streamed_songs.find_all('tr')[0]\n",
    "table_headers = [cell.get_text(strip=True) for cell in header_cells if cell.get_text(strip=False) != '\\n']\n",
    "table_headers"
   ]
  },
  {
   "cell_type": "code",
   "execution_count": 143,
   "id": "ccdda788",
   "metadata": {},
   "outputs": [
    {
     "data": {
      "text/plain": [
       "[['1', 'Blinding Lights', 'The Weeknd', '5.000', '29 November 2019', '[1]'],\n",
       " ['2', 'Shape of You', 'Ed Sheeran', '4.528', '6 January 2017', '[2]'],\n",
       " ['3',\n",
       "  'Starboy',\n",
       "  'The WeekndandDaft Punk',\n",
       "  '4.063',\n",
       "  '21 September 2016',\n",
       "  '[3]'],\n",
       " ['4',\n",
       "  'Someone You Loved',\n",
       "  'Lewis Capaldi',\n",
       "  '4.032',\n",
       "  '8 November 2018',\n",
       "  '[4]'],\n",
       " ['5', 'As It Was', 'Harry Styles', '4.021', '1 April 2022', '[5]']]"
      ]
     },
     "execution_count": 143,
     "metadata": {},
     "output_type": "execute_result"
    }
   ],
   "source": [
    "# Extract table rows into a table_data\n",
    "rows = most_streamed_songs.find_all('tr')[1:]\n",
    "\n",
    "table_data = []\n",
    "for row in rows:\n",
    "    song_name = row.find('th').get_text(strip=True).replace('\"', '')\n",
    "    cells = row.find_all('td')\n",
    "\n",
    "    tmp_content = [cell.get_text(strip=True) for cell in cells]\n",
    "    tmp_content.insert(1, song_name)\n",
    "\n",
    "    table_data.append(tmp_content)\n",
    "    \n",
    "table_data[:5]"
   ]
  },
  {
   "cell_type": "code",
   "execution_count": 144,
   "id": "e281c5ca",
   "metadata": {},
   "outputs": [
    {
     "data": {
      "text/html": [
       "<div>\n",
       "<style scoped>\n",
       "    .dataframe tbody tr th:only-of-type {\n",
       "        vertical-align: middle;\n",
       "    }\n",
       "\n",
       "    .dataframe tbody tr th {\n",
       "        vertical-align: top;\n",
       "    }\n",
       "\n",
       "    .dataframe thead th {\n",
       "        text-align: right;\n",
       "    }\n",
       "</style>\n",
       "<table border=\"1\" class=\"dataframe\">\n",
       "  <thead>\n",
       "    <tr style=\"text-align: right;\">\n",
       "      <th></th>\n",
       "      <th>Rank</th>\n",
       "      <th>Song</th>\n",
       "      <th>Artist(s)</th>\n",
       "      <th>Streams(billions)</th>\n",
       "      <th>Release date</th>\n",
       "      <th>Ref.</th>\n",
       "    </tr>\n",
       "  </thead>\n",
       "  <tbody>\n",
       "    <tr>\n",
       "      <th>0</th>\n",
       "      <td>1</td>\n",
       "      <td>Blinding Lights</td>\n",
       "      <td>The Weeknd</td>\n",
       "      <td>5.000</td>\n",
       "      <td>29 November 2019</td>\n",
       "      <td>[1]</td>\n",
       "    </tr>\n",
       "    <tr>\n",
       "      <th>1</th>\n",
       "      <td>2</td>\n",
       "      <td>Shape of You</td>\n",
       "      <td>Ed Sheeran</td>\n",
       "      <td>4.528</td>\n",
       "      <td>6 January 2017</td>\n",
       "      <td>[2]</td>\n",
       "    </tr>\n",
       "    <tr>\n",
       "      <th>2</th>\n",
       "      <td>3</td>\n",
       "      <td>Starboy</td>\n",
       "      <td>The WeekndandDaft Punk</td>\n",
       "      <td>4.063</td>\n",
       "      <td>21 September 2016</td>\n",
       "      <td>[3]</td>\n",
       "    </tr>\n",
       "    <tr>\n",
       "      <th>3</th>\n",
       "      <td>4</td>\n",
       "      <td>Someone You Loved</td>\n",
       "      <td>Lewis Capaldi</td>\n",
       "      <td>4.032</td>\n",
       "      <td>8 November 2018</td>\n",
       "      <td>[4]</td>\n",
       "    </tr>\n",
       "    <tr>\n",
       "      <th>4</th>\n",
       "      <td>5</td>\n",
       "      <td>As It Was</td>\n",
       "      <td>Harry Styles</td>\n",
       "      <td>4.021</td>\n",
       "      <td>1 April 2022</td>\n",
       "      <td>[5]</td>\n",
       "    </tr>\n",
       "  </tbody>\n",
       "</table>\n",
       "</div>"
      ],
      "text/plain": [
       "  Rank               Song               Artist(s) Streams(billions)  \\\n",
       "0    1    Blinding Lights              The Weeknd             5.000   \n",
       "1    2       Shape of You              Ed Sheeran             4.528   \n",
       "2    3            Starboy  The WeekndandDaft Punk             4.063   \n",
       "3    4  Someone You Loved           Lewis Capaldi             4.032   \n",
       "4    5          As It Was            Harry Styles             4.021   \n",
       "\n",
       "        Release date Ref.  \n",
       "0   29 November 2019  [1]  \n",
       "1     6 January 2017  [2]  \n",
       "2  21 September 2016  [3]  \n",
       "3    8 November 2018  [4]  \n",
       "4       1 April 2022  [5]  "
      ]
     },
     "execution_count": 144,
     "metadata": {},
     "output_type": "execute_result"
    }
   ],
   "source": [
    "df_raw = pd.DataFrame(data=table_data, columns=table_headers)\n",
    "df_raw.head()"
   ]
  },
  {
   "cell_type": "markdown",
   "id": "7e073a8d",
   "metadata": {},
   "source": [
    "### Data preprocessing and analysis"
   ]
  },
  {
   "cell_type": "code",
   "execution_count": 145,
   "id": "9ca5b05f",
   "metadata": {},
   "outputs": [
    {
     "name": "stdout",
     "output_type": "stream",
     "text": [
      "<class 'pandas.core.frame.DataFrame'>\n",
      "RangeIndex: 101 entries, 0 to 100\n",
      "Data columns (total 6 columns):\n",
      " #   Column             Non-Null Count  Dtype \n",
      "---  ------             --------------  ----- \n",
      " 0   Rank               101 non-null    object\n",
      " 1   Song               100 non-null    object\n",
      " 2   Artist(s)          100 non-null    object\n",
      " 3   Streams(billions)  100 non-null    object\n",
      " 4   Release date       100 non-null    object\n",
      " 5   Ref.               100 non-null    object\n",
      "dtypes: object(6)\n",
      "memory usage: 4.9+ KB\n"
     ]
    }
   ],
   "source": [
    "df_baking = df_raw.copy()\n",
    "df_baking.info()"
   ]
  },
  {
   "cell_type": "code",
   "execution_count": 146,
   "id": "b84deace",
   "metadata": {},
   "outputs": [
    {
     "data": {
      "text/html": [
       "<div>\n",
       "<style scoped>\n",
       "    .dataframe tbody tr th:only-of-type {\n",
       "        vertical-align: middle;\n",
       "    }\n",
       "\n",
       "    .dataframe tbody tr th {\n",
       "        vertical-align: top;\n",
       "    }\n",
       "\n",
       "    .dataframe thead th {\n",
       "        text-align: right;\n",
       "    }\n",
       "</style>\n",
       "<table border=\"1\" class=\"dataframe\">\n",
       "  <thead>\n",
       "    <tr style=\"text-align: right;\">\n",
       "      <th></th>\n",
       "      <th>Rank</th>\n",
       "      <th>Song</th>\n",
       "      <th>Artist(s)</th>\n",
       "      <th>Streams(billions)</th>\n",
       "      <th>Release date</th>\n",
       "      <th>Ref.</th>\n",
       "    </tr>\n",
       "  </thead>\n",
       "  <tbody>\n",
       "    <tr>\n",
       "      <th>100</th>\n",
       "      <td>As of 31 August 2025</td>\n",
       "      <td>None</td>\n",
       "      <td>None</td>\n",
       "      <td>None</td>\n",
       "      <td>None</td>\n",
       "      <td>None</td>\n",
       "    </tr>\n",
       "  </tbody>\n",
       "</table>\n",
       "</div>"
      ],
      "text/plain": [
       "                     Rank  Song Artist(s) Streams(billions) Release date  Ref.\n",
       "100  As of 31 August 2025  None      None              None         None  None"
      ]
     },
     "metadata": {},
     "output_type": "display_data"
    }
   ],
   "source": [
    "display(df_baking[df_baking.isna().any(axis=1)]) # This is the last line of the wikipedia table, thus will be dropped\n",
    "df_baking = df_baking.dropna()"
   ]
  },
  {
   "cell_type": "code",
   "execution_count": 147,
   "id": "7e3a92d5",
   "metadata": {},
   "outputs": [],
   "source": [
    "df_baking.columns = df_baking.columns.str.lower()"
   ]
  },
  {
   "cell_type": "markdown",
   "id": "edf1962f",
   "metadata": {},
   "source": [
    "### Cleaning and dtypes\n",
    "\n",
    "- Rank column can be dropped, since the rank can be implicitly known by sorting the values by # of streams\n",
    "- Songs $\\rightarrow$ str\n",
    "- Artists $\\rightarrow$ category (Only a finite number of artist for different songs)\n",
    "- Release date $\\rightarrow$ datetime (extract year)\n",
    "- Ref column can be dropped, since they refer to an external link inside wikipedia, which is not useful for analysis"
   ]
  },
  {
   "cell_type": "code",
   "execution_count": 148,
   "id": "66a9a98f",
   "metadata": {},
   "outputs": [],
   "source": [
    "# Drop unnecesary columns\n",
    "df_baking = df_baking.drop(columns=['rank', 'ref.'])"
   ]
  },
  {
   "cell_type": "code",
   "execution_count": 149,
   "id": "a9e8fb87",
   "metadata": {},
   "outputs": [],
   "source": [
    "# Converting str columns\n",
    "df_baking['song'] = df_baking['song'].astype('str')\n",
    "\n",
    "# Cleaning artist names \n",
    "df_baking[\"artist(s)\"] = df_baking[\"artist(s)\"].str.replace(\"and\", \" and \", regex=False)\n",
    "df_baking[\"artist(s)\"] = df_baking[\"artist(s)\"].str.replace(\"with\", \" with \", regex=False)\n",
    "df_baking['artist(s)'] = df_baking['artist(s)'].astype('category')"
   ]
  },
  {
   "cell_type": "code",
   "execution_count": 150,
   "id": "7dd7d945",
   "metadata": {},
   "outputs": [
    {
     "data": {
      "text/plain": [
       "0     2019\n",
       "1     2017\n",
       "2     2016\n",
       "3     2018\n",
       "4     2022\n",
       "      ... \n",
       "95    2020\n",
       "96    2003\n",
       "97    2017\n",
       "98    2017\n",
       "99    1988\n",
       "Name: release date, Length: 100, dtype: int32"
      ]
     },
     "execution_count": 150,
     "metadata": {},
     "output_type": "execute_result"
    }
   ],
   "source": [
    "# Converting release into date dtype\n",
    "df_baking['release date'] = pd.to_datetime(df_baking['release date']).dt.year\n",
    "df_baking['release date']"
   ]
  },
  {
   "cell_type": "code",
   "execution_count": 151,
   "id": "1c32725a",
   "metadata": {},
   "outputs": [
    {
     "data": {
      "text/html": [
       "<div>\n",
       "<style scoped>\n",
       "    .dataframe tbody tr th:only-of-type {\n",
       "        vertical-align: middle;\n",
       "    }\n",
       "\n",
       "    .dataframe tbody tr th {\n",
       "        vertical-align: top;\n",
       "    }\n",
       "\n",
       "    .dataframe thead th {\n",
       "        text-align: right;\n",
       "    }\n",
       "</style>\n",
       "<table border=\"1\" class=\"dataframe\">\n",
       "  <thead>\n",
       "    <tr style=\"text-align: right;\">\n",
       "      <th></th>\n",
       "      <th>song</th>\n",
       "      <th>artist(s)</th>\n",
       "      <th>streams(billions)</th>\n",
       "      <th>release date</th>\n",
       "    </tr>\n",
       "  </thead>\n",
       "  <tbody>\n",
       "    <tr>\n",
       "      <th>15</th>\n",
       "      <td>Dance Monkey</td>\n",
       "      <td>Tones  and  I</td>\n",
       "      <td>3.314</td>\n",
       "      <td>2019</td>\n",
       "    </tr>\n",
       "    <tr>\n",
       "      <th>52</th>\n",
       "      <td>Mr. Brightside</td>\n",
       "      <td>The Killers</td>\n",
       "      <td>2.761</td>\n",
       "      <td>2003</td>\n",
       "    </tr>\n",
       "    <tr>\n",
       "      <th>74</th>\n",
       "      <td>Smells Like Teen Spirit</td>\n",
       "      <td>Nirvana</td>\n",
       "      <td>2.544</td>\n",
       "      <td>1991</td>\n",
       "    </tr>\n",
       "    <tr>\n",
       "      <th>28</th>\n",
       "      <td>Cruel Summer</td>\n",
       "      <td>Taylor Swift</td>\n",
       "      <td>3.048</td>\n",
       "      <td>2019</td>\n",
       "    </tr>\n",
       "    <tr>\n",
       "      <th>35</th>\n",
       "      <td>Goosebumps</td>\n",
       "      <td>Travis Scott and Kendrick Lamar</td>\n",
       "      <td>2.924</td>\n",
       "      <td>2016</td>\n",
       "    </tr>\n",
       "    <tr>\n",
       "      <th>84</th>\n",
       "      <td>Happier</td>\n",
       "      <td>Marshmello and Bastille</td>\n",
       "      <td>2.465</td>\n",
       "      <td>2018</td>\n",
       "    </tr>\n",
       "    <tr>\n",
       "      <th>39</th>\n",
       "      <td>Just the Way You Are</td>\n",
       "      <td>Bruno Mars</td>\n",
       "      <td>2.882</td>\n",
       "      <td>2010</td>\n",
       "    </tr>\n",
       "    <tr>\n",
       "      <th>11</th>\n",
       "      <td>Heat Waves</td>\n",
       "      <td>Glass Animals</td>\n",
       "      <td>3.509</td>\n",
       "      <td>2020</td>\n",
       "    </tr>\n",
       "    <tr>\n",
       "      <th>55</th>\n",
       "      <td>Without Me</td>\n",
       "      <td>Eminem</td>\n",
       "      <td>2.752</td>\n",
       "      <td>2002</td>\n",
       "    </tr>\n",
       "    <tr>\n",
       "      <th>21</th>\n",
       "      <td>The Night We Met</td>\n",
       "      <td>Lord Huron</td>\n",
       "      <td>3.235</td>\n",
       "      <td>2015</td>\n",
       "    </tr>\n",
       "  </tbody>\n",
       "</table>\n",
       "</div>"
      ],
      "text/plain": [
       "                       song                        artist(s)  \\\n",
       "15             Dance Monkey                    Tones  and  I   \n",
       "52           Mr. Brightside                      The Killers   \n",
       "74  Smells Like Teen Spirit                          Nirvana   \n",
       "28             Cruel Summer                     Taylor Swift   \n",
       "35               Goosebumps  Travis Scott and Kendrick Lamar   \n",
       "84                  Happier          Marshmello and Bastille   \n",
       "39     Just the Way You Are                       Bruno Mars   \n",
       "11               Heat Waves                    Glass Animals   \n",
       "55               Without Me                           Eminem   \n",
       "21         The Night We Met                       Lord Huron   \n",
       "\n",
       "   streams(billions)  release date  \n",
       "15             3.314          2019  \n",
       "52             2.761          2003  \n",
       "74             2.544          1991  \n",
       "28             3.048          2019  \n",
       "35             2.924          2016  \n",
       "84             2.465          2018  \n",
       "39             2.882          2010  \n",
       "11             3.509          2020  \n",
       "55             2.752          2002  \n",
       "21             3.235          2015  "
      ]
     },
     "execution_count": 151,
     "metadata": {},
     "output_type": "execute_result"
    }
   ],
   "source": [
    "df = df_baking.copy()\n",
    "df.sample(10)"
   ]
  },
  {
   "cell_type": "markdown",
   "id": "c111f84d",
   "metadata": {},
   "source": [
    "### Visualization"
   ]
  }
 ],
 "metadata": {
  "kernelspec": {
   "display_name": ".venv (3.12.1)",
   "language": "python",
   "name": "python3"
  },
  "language_info": {
   "codemirror_mode": {
    "name": "ipython",
    "version": 3
   },
   "file_extension": ".py",
   "mimetype": "text/x-python",
   "name": "python",
   "nbconvert_exporter": "python",
   "pygments_lexer": "ipython3",
   "version": "3.12.1"
  }
 },
 "nbformat": 4,
 "nbformat_minor": 5
}
