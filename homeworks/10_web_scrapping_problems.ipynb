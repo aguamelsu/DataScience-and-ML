{
 "cells": [
  {
   "cell_type": "markdown",
   "id": "b04ae1d3",
   "metadata": {},
   "source": [
    "# Spotify Web Scrapping w Python"
   ]
  },
  {
   "cell_type": "markdown",
   "id": "9025f90b",
   "metadata": {},
   "source": [
    "## Scrapping from wikipedia"
   ]
  },
  {
   "cell_type": "code",
   "execution_count": 196,
   "id": "184f207b",
   "metadata": {},
   "outputs": [],
   "source": [
    "# Import libraries\n",
    "import requests\n",
    "from bs4 import BeautifulSoup\n",
    "import pandas as pd\n",
    "import matplotlib.pyplot as plt\n",
    "import seaborn as sns"
   ]
  },
  {
   "cell_type": "code",
   "execution_count": 197,
   "id": "efa9a354",
   "metadata": {},
   "outputs": [],
   "source": [
    "# Access HTML\n",
    "url = 'https://en.wikipedia.org/wiki/List_of_most-streamed_songs_on_Spotify'\n",
    "headers = {'User-Agent': 'MyWebScrapper/1.0'}\n",
    "response = requests.get(url, headers=headers)\n",
    "soup = BeautifulSoup(response.content, 'html.parser')"
   ]
  },
  {
   "cell_type": "code",
   "execution_count": 198,
   "id": "cf6c1bac",
   "metadata": {},
   "outputs": [
    {
     "data": {
      "text/plain": [
       "[<th>Rank\n",
       " </th>,\n",
       " <th>Song\n",
       " </th>,\n",
       " <th>Artist(s)\n",
       " </th>,\n",
       " <th>Streams<br/>(billions)\n",
       " </th>,\n",
       " <th>Release date\n",
       " </th>]"
      ]
     },
     "execution_count": 198,
     "metadata": {},
     "output_type": "execute_result"
    }
   ],
   "source": [
    "# Subset desired most streamed songs table\n",
    "tables = soup.find_all('table', class_='wikitable')\n",
    "most_streamed_songs = tables[0]\n",
    "most_streamed_songs.find_all('th')[:5]"
   ]
  },
  {
   "cell_type": "code",
   "execution_count": 199,
   "id": "97ec2c04",
   "metadata": {},
   "outputs": [
    {
     "data": {
      "text/plain": [
       "['Rank', 'Song', 'Artist(s)', 'Streams(billions)', 'Release date', 'Ref.']"
      ]
     },
     "execution_count": 199,
     "metadata": {},
     "output_type": "execute_result"
    }
   ],
   "source": [
    "# Extract table headers into table_headers\n",
    "header_cells = most_streamed_songs.find_all('tr')[0]\n",
    "table_headers = [cell.get_text(strip=True) for cell in header_cells if cell.get_text(strip=False) != '\\n']\n",
    "table_headers"
   ]
  },
  {
   "cell_type": "code",
   "execution_count": 200,
   "id": "ccdda788",
   "metadata": {},
   "outputs": [
    {
     "data": {
      "text/plain": [
       "[['1', 'Blinding Lights', 'The Weeknd', '5.002', '29 November 2019', '[1]'],\n",
       " ['2', 'Shape of You', 'Ed Sheeran', '4.531', '6 January 2017', '[2]'],\n",
       " ['3',\n",
       "  'Starboy',\n",
       "  'The WeekndandDaft Punk',\n",
       "  '4.066',\n",
       "  '21 September 2016',\n",
       "  '[3]'],\n",
       " ['4',\n",
       "  'Someone You Loved',\n",
       "  'Lewis Capaldi',\n",
       "  '4.034',\n",
       "  '8 November 2018',\n",
       "  '[4]'],\n",
       " ['5', 'As It Was', 'Harry Styles', '4.023', '1 April 2022', '[5]']]"
      ]
     },
     "execution_count": 200,
     "metadata": {},
     "output_type": "execute_result"
    }
   ],
   "source": [
    "# Extract table rows into a table_data\n",
    "rows = most_streamed_songs.find_all('tr')[1:]\n",
    "\n",
    "table_data = []\n",
    "for row in rows:\n",
    "    song_name = row.find('th').get_text(strip=True).replace('\"', '')\n",
    "    cells = row.find_all('td')\n",
    "\n",
    "    tmp_content = [cell.get_text(strip=True) for cell in cells]\n",
    "    tmp_content.insert(1, song_name)\n",
    "\n",
    "    table_data.append(tmp_content)\n",
    "    \n",
    "table_data[:5]"
   ]
  },
  {
   "cell_type": "code",
   "execution_count": 201,
   "id": "e281c5ca",
   "metadata": {},
   "outputs": [
    {
     "data": {
      "text/html": [
       "<div>\n",
       "<style scoped>\n",
       "    .dataframe tbody tr th:only-of-type {\n",
       "        vertical-align: middle;\n",
       "    }\n",
       "\n",
       "    .dataframe tbody tr th {\n",
       "        vertical-align: top;\n",
       "    }\n",
       "\n",
       "    .dataframe thead th {\n",
       "        text-align: right;\n",
       "    }\n",
       "</style>\n",
       "<table border=\"1\" class=\"dataframe\">\n",
       "  <thead>\n",
       "    <tr style=\"text-align: right;\">\n",
       "      <th></th>\n",
       "      <th>Rank</th>\n",
       "      <th>Song</th>\n",
       "      <th>Artist(s)</th>\n",
       "      <th>Streams(billions)</th>\n",
       "      <th>Release date</th>\n",
       "      <th>Ref.</th>\n",
       "    </tr>\n",
       "  </thead>\n",
       "  <tbody>\n",
       "    <tr>\n",
       "      <th>0</th>\n",
       "      <td>1</td>\n",
       "      <td>Blinding Lights</td>\n",
       "      <td>The Weeknd</td>\n",
       "      <td>5.002</td>\n",
       "      <td>29 November 2019</td>\n",
       "      <td>[1]</td>\n",
       "    </tr>\n",
       "    <tr>\n",
       "      <th>1</th>\n",
       "      <td>2</td>\n",
       "      <td>Shape of You</td>\n",
       "      <td>Ed Sheeran</td>\n",
       "      <td>4.531</td>\n",
       "      <td>6 January 2017</td>\n",
       "      <td>[2]</td>\n",
       "    </tr>\n",
       "    <tr>\n",
       "      <th>2</th>\n",
       "      <td>3</td>\n",
       "      <td>Starboy</td>\n",
       "      <td>The WeekndandDaft Punk</td>\n",
       "      <td>4.066</td>\n",
       "      <td>21 September 2016</td>\n",
       "      <td>[3]</td>\n",
       "    </tr>\n",
       "    <tr>\n",
       "      <th>3</th>\n",
       "      <td>4</td>\n",
       "      <td>Someone You Loved</td>\n",
       "      <td>Lewis Capaldi</td>\n",
       "      <td>4.034</td>\n",
       "      <td>8 November 2018</td>\n",
       "      <td>[4]</td>\n",
       "    </tr>\n",
       "    <tr>\n",
       "      <th>4</th>\n",
       "      <td>5</td>\n",
       "      <td>As It Was</td>\n",
       "      <td>Harry Styles</td>\n",
       "      <td>4.023</td>\n",
       "      <td>1 April 2022</td>\n",
       "      <td>[5]</td>\n",
       "    </tr>\n",
       "  </tbody>\n",
       "</table>\n",
       "</div>"
      ],
      "text/plain": [
       "  Rank               Song               Artist(s) Streams(billions)  \\\n",
       "0    1    Blinding Lights              The Weeknd             5.002   \n",
       "1    2       Shape of You              Ed Sheeran             4.531   \n",
       "2    3            Starboy  The WeekndandDaft Punk             4.066   \n",
       "3    4  Someone You Loved           Lewis Capaldi             4.034   \n",
       "4    5          As It Was            Harry Styles             4.023   \n",
       "\n",
       "        Release date Ref.  \n",
       "0   29 November 2019  [1]  \n",
       "1     6 January 2017  [2]  \n",
       "2  21 September 2016  [3]  \n",
       "3    8 November 2018  [4]  \n",
       "4       1 April 2022  [5]  "
      ]
     },
     "execution_count": 201,
     "metadata": {},
     "output_type": "execute_result"
    }
   ],
   "source": [
    "df_raw = pd.DataFrame(data=table_data, columns=table_headers)\n",
    "df_raw.head()"
   ]
  },
  {
   "cell_type": "markdown",
   "id": "7e073a8d",
   "metadata": {},
   "source": [
    "## Data preprocessing and analysis"
   ]
  },
  {
   "cell_type": "code",
   "execution_count": 202,
   "id": "9ca5b05f",
   "metadata": {},
   "outputs": [
    {
     "name": "stdout",
     "output_type": "stream",
     "text": [
      "<class 'pandas.core.frame.DataFrame'>\n",
      "RangeIndex: 101 entries, 0 to 100\n",
      "Data columns (total 6 columns):\n",
      " #   Column             Non-Null Count  Dtype \n",
      "---  ------             --------------  ----- \n",
      " 0   Rank               101 non-null    object\n",
      " 1   Song               100 non-null    object\n",
      " 2   Artist(s)          100 non-null    object\n",
      " 3   Streams(billions)  100 non-null    object\n",
      " 4   Release date       100 non-null    object\n",
      " 5   Ref.               100 non-null    object\n",
      "dtypes: object(6)\n",
      "memory usage: 4.9+ KB\n"
     ]
    }
   ],
   "source": [
    "df_baking = df_raw.copy()\n",
    "df_baking.info()"
   ]
  },
  {
   "cell_type": "code",
   "execution_count": 203,
   "id": "b84deace",
   "metadata": {},
   "outputs": [
    {
     "data": {
      "text/html": [
       "<div>\n",
       "<style scoped>\n",
       "    .dataframe tbody tr th:only-of-type {\n",
       "        vertical-align: middle;\n",
       "    }\n",
       "\n",
       "    .dataframe tbody tr th {\n",
       "        vertical-align: top;\n",
       "    }\n",
       "\n",
       "    .dataframe thead th {\n",
       "        text-align: right;\n",
       "    }\n",
       "</style>\n",
       "<table border=\"1\" class=\"dataframe\">\n",
       "  <thead>\n",
       "    <tr style=\"text-align: right;\">\n",
       "      <th></th>\n",
       "      <th>Rank</th>\n",
       "      <th>Song</th>\n",
       "      <th>Artist(s)</th>\n",
       "      <th>Streams(billions)</th>\n",
       "      <th>Release date</th>\n",
       "      <th>Ref.</th>\n",
       "    </tr>\n",
       "  </thead>\n",
       "  <tbody>\n",
       "    <tr>\n",
       "      <th>100</th>\n",
       "      <td>As of 2 September 2025</td>\n",
       "      <td>None</td>\n",
       "      <td>None</td>\n",
       "      <td>None</td>\n",
       "      <td>None</td>\n",
       "      <td>None</td>\n",
       "    </tr>\n",
       "  </tbody>\n",
       "</table>\n",
       "</div>"
      ],
      "text/plain": [
       "                       Rank  Song Artist(s) Streams(billions) Release date  \\\n",
       "100  As of 2 September 2025  None      None              None         None   \n",
       "\n",
       "     Ref.  \n",
       "100  None  "
      ]
     },
     "metadata": {},
     "output_type": "display_data"
    }
   ],
   "source": [
    "display(df_baking[df_baking.isna().any(axis=1)]) # This is the last line of the wikipedia table, thus will be dropped\n",
    "df_baking = df_baking.dropna()"
   ]
  },
  {
   "cell_type": "code",
   "execution_count": 204,
   "id": "7e3a92d5",
   "metadata": {},
   "outputs": [],
   "source": [
    "df_baking.columns = ['rank', 'song', 'artist', 'streams', 'release_date', 'ref.']"
   ]
  },
  {
   "cell_type": "markdown",
   "id": "edf1962f",
   "metadata": {},
   "source": [
    "### Dtypes:\n",
    "\n",
    "- Rank column can be dropped, since the rank can be implicitly known by sorting the values by # of streams\n",
    "- Songs $\\rightarrow$ string\n",
    "- Artists $\\rightarrow$ string\n",
    "- Streams $\\rightarrow$ float\n",
    "- Release date $\\rightarrow$ datetime (extract year)\n",
    "- Ref column can be dropped, since they refer to an external link inside wikipedia, which is not useful for analysis"
   ]
  },
  {
   "cell_type": "code",
   "execution_count": 205,
   "id": "66a9a98f",
   "metadata": {},
   "outputs": [],
   "source": [
    "# Drop unnecesary columns\n",
    "df_baking = df_baking.drop(columns=['rank', 'ref.'])"
   ]
  },
  {
   "cell_type": "code",
   "execution_count": 206,
   "id": "a9e8fb87",
   "metadata": {},
   "outputs": [],
   "source": [
    "# Cleaning artist names \n",
    "df_baking[\"artist\"] = df_baking[\"artist\"].str.replace(\"and\", \" and \", regex=False)\n",
    "df_baking[\"artist\"] = df_baking[\"artist\"].str.replace(\"with\", \" with \", regex=False)\n",
    "\n",
    "# Converting str columns\n",
    "df_baking['song'] = df_baking['song'].astype('string')\n",
    "df_baking['artist'] = df_baking['artist'].astype('string')\n",
    "\n",
    "# Converting streams to float\n",
    "df_baking['streams'] = df_baking['streams'].astype('float')"
   ]
  },
  {
   "cell_type": "code",
   "execution_count": 207,
   "id": "7dd7d945",
   "metadata": {},
   "outputs": [
    {
     "data": {
      "text/plain": [
       "0     2019\n",
       "1     2017\n",
       "2     2016\n",
       "3     2018\n",
       "4     2022\n",
       "      ... \n",
       "95    2020\n",
       "96    2003\n",
       "97    2017\n",
       "98    2017\n",
       "99    1988\n",
       "Name: release_date, Length: 100, dtype: int32"
      ]
     },
     "execution_count": 207,
     "metadata": {},
     "output_type": "execute_result"
    }
   ],
   "source": [
    "# Converting release into date dtype\n",
    "df_baking['release_date'] = pd.to_datetime(df_baking['release_date']).dt.year\n",
    "df_baking['release_date']"
   ]
  },
  {
   "cell_type": "code",
   "execution_count": 208,
   "id": "52d6e79b",
   "metadata": {},
   "outputs": [
    {
     "name": "stdout",
     "output_type": "stream",
     "text": [
      "<class 'pandas.core.frame.DataFrame'>\n",
      "Index: 100 entries, 0 to 99\n",
      "Data columns (total 4 columns):\n",
      " #   Column        Non-Null Count  Dtype  \n",
      "---  ------        --------------  -----  \n",
      " 0   song          100 non-null    string \n",
      " 1   artist        100 non-null    string \n",
      " 2   streams       100 non-null    float64\n",
      " 3   release_date  100 non-null    int32  \n",
      "dtypes: float64(1), int32(1), string(2)\n",
      "memory usage: 3.5 KB\n"
     ]
    }
   ],
   "source": [
    "df_baking.info()"
   ]
  },
  {
   "cell_type": "code",
   "execution_count": 209,
   "id": "23f9420f",
   "metadata": {},
   "outputs": [
    {
     "data": {
      "text/html": [
       "<div>\n",
       "<style scoped>\n",
       "    .dataframe tbody tr th:only-of-type {\n",
       "        vertical-align: middle;\n",
       "    }\n",
       "\n",
       "    .dataframe tbody tr th {\n",
       "        vertical-align: top;\n",
       "    }\n",
       "\n",
       "    .dataframe thead th {\n",
       "        text-align: right;\n",
       "    }\n",
       "</style>\n",
       "<table border=\"1\" class=\"dataframe\">\n",
       "  <thead>\n",
       "    <tr style=\"text-align: right;\">\n",
       "      <th></th>\n",
       "      <th>song</th>\n",
       "      <th>artist</th>\n",
       "      <th>streams</th>\n",
       "      <th>release_date</th>\n",
       "    </tr>\n",
       "  </thead>\n",
       "  <tbody>\n",
       "    <tr>\n",
       "      <th>1</th>\n",
       "      <td>Shape of You</td>\n",
       "      <td>Ed Sheeran</td>\n",
       "      <td>4.531</td>\n",
       "      <td>2017</td>\n",
       "    </tr>\n",
       "    <tr>\n",
       "      <th>59</th>\n",
       "      <td>Do I Wanna Know?</td>\n",
       "      <td>Arctic Monkeys</td>\n",
       "      <td>2.697</td>\n",
       "      <td>2013</td>\n",
       "    </tr>\n",
       "    <tr>\n",
       "      <th>95</th>\n",
       "      <td>Levitating</td>\n",
       "      <td>Dua Lipa and DaBaby</td>\n",
       "      <td>2.401</td>\n",
       "      <td>2020</td>\n",
       "    </tr>\n",
       "    <tr>\n",
       "      <th>51</th>\n",
       "      <td>When I Was Your Man</td>\n",
       "      <td>Bruno Mars</td>\n",
       "      <td>2.770</td>\n",
       "      <td>2012</td>\n",
       "    </tr>\n",
       "    <tr>\n",
       "      <th>71</th>\n",
       "      <td>All the Stars</td>\n",
       "      <td>Kendrick Lamar and SZA</td>\n",
       "      <td>2.570</td>\n",
       "      <td>2018</td>\n",
       "    </tr>\n",
       "    <tr>\n",
       "      <th>33</th>\n",
       "      <td>Viva La Vida</td>\n",
       "      <td>Coldplay</td>\n",
       "      <td>2.940</td>\n",
       "      <td>2008</td>\n",
       "    </tr>\n",
       "    <tr>\n",
       "      <th>63</th>\n",
       "      <td>Flowers</td>\n",
       "      <td>Miley Cyrus</td>\n",
       "      <td>2.645</td>\n",
       "      <td>2023</td>\n",
       "    </tr>\n",
       "    <tr>\n",
       "      <th>80</th>\n",
       "      <td>Espresso</td>\n",
       "      <td>Sabrina Carpenter</td>\n",
       "      <td>2.497</td>\n",
       "      <td>2024</td>\n",
       "    </tr>\n",
       "    <tr>\n",
       "      <th>6</th>\n",
       "      <td>Sunflower</td>\n",
       "      <td>Post Malone and Swae Lee</td>\n",
       "      <td>3.938</td>\n",
       "      <td>2018</td>\n",
       "    </tr>\n",
       "    <tr>\n",
       "      <th>50</th>\n",
       "      <td>Locked out of Heaven</td>\n",
       "      <td>Bruno Mars</td>\n",
       "      <td>2.780</td>\n",
       "      <td>2012</td>\n",
       "    </tr>\n",
       "  </tbody>\n",
       "</table>\n",
       "</div>"
      ],
      "text/plain": [
       "                    song                    artist  streams  release_date\n",
       "1           Shape of You                Ed Sheeran    4.531          2017\n",
       "59      Do I Wanna Know?            Arctic Monkeys    2.697          2013\n",
       "95            Levitating       Dua Lipa and DaBaby    2.401          2020\n",
       "51   When I Was Your Man                Bruno Mars    2.770          2012\n",
       "71         All the Stars    Kendrick Lamar and SZA    2.570          2018\n",
       "33          Viva La Vida                  Coldplay    2.940          2008\n",
       "63               Flowers               Miley Cyrus    2.645          2023\n",
       "80              Espresso         Sabrina Carpenter    2.497          2024\n",
       "6              Sunflower  Post Malone and Swae Lee    3.938          2018\n",
       "50  Locked out of Heaven                Bruno Mars    2.780          2012"
      ]
     },
     "execution_count": 209,
     "metadata": {},
     "output_type": "execute_result"
    }
   ],
   "source": [
    "df = df_baking.copy()\n",
    "df.sample(10)"
   ]
  },
  {
   "cell_type": "markdown",
   "id": "c111f84d",
   "metadata": {},
   "source": [
    "## Visualization"
   ]
  },
  {
   "cell_type": "code",
   "execution_count": 210,
   "id": "9964eca8",
   "metadata": {},
   "outputs": [
    {
     "data": {
      "image/png": "[encoded data removed]",
      "text/plain": [
       "<Figure size 640x480 with 1 Axes>"
      ]
     },
     "metadata": {},
     "output_type": "display_data"
    }
   ],
   "source": [
    "# Most frequent artists on ranking\n",
    "top_artists = df['artist'].value_counts()[:10]\n",
    "top_artists.index = top_artists.index\n",
    "\n",
    "sns.barplot(x=top_artists.values, \n",
    "            y=top_artists.index, \n",
    "            hue=top_artists.index,\n",
    "            order=top_artists.index).set_xticks(range(0, 5))\n",
    "plt.title('Number of Songs in Ranking per Artist')\n",
    "plt.xlabel('# of songs')\n",
    "plt.ylabel('Artist')\n",
    "plt.show()\n",
    "\n"
   ]
  },
  {
   "cell_type": "code",
   "execution_count": 211,
   "id": "07146652",
   "metadata": {},
   "outputs": [
    {
     "data": {
      "image/png": "[encoded data removed]",
      "text/plain": [
       "<Figure size 640x480 with 1 Axes>"
      ]
     },
     "metadata": {},
     "output_type": "display_data"
    }
   ],
   "source": [
    "# Most streamed songs in ranking\n",
    "most_streamed = df.sort_values(by='streams', ascending=False)[:10]\n",
    "\n",
    "sns.barplot(\n",
    "    data=most_streamed,\n",
    "    x='streams', \n",
    "    y='song',\n",
    "    hue='song',\n",
    "    order=most_streamed['song']\n",
    ")\n",
    "plt.xlabel('Streams (Billions)')\n",
    "plt.ylabel('Song')\n",
    "plt.title('Top 10 Most Streamed Songs on Spotify')\n",
    "plt.show()"
   ]
  },
  {
   "cell_type": "code",
   "execution_count": 212,
   "id": "c47c93f5",
   "metadata": {},
   "outputs": [
    {
     "data": {
      "image/png": "[encoded data removed]",
      "text/plain": [
       "<Figure size 640x480 with 1 Axes>"
      ]
     },
     "metadata": {},
     "output_type": "display_data"
    }
   ],
   "source": [
    "# Songs in ranking by release date\n",
    "sns.countplot(data=df, x='release_date', color='g')\n",
    "plt.xticks(rotation=90)\n",
    "plt.title('Number of Songs in Ranking over the Years')\n",
    "plt.xlabel('Time')\n",
    "plt.ylabel('# of songs')\n",
    "plt.show()"
   ]
  },
  {
   "cell_type": "markdown",
   "id": "cbd08e18",
   "metadata": {},
   "source": [
    "## Insights:\n",
    "- Mid/late 2010 were the peak years for songs breaking into the ranking.\n",
    "- 'Blinding lights' and 'Shape of you' dominate all-time streams, outpacing other songs.\n",
    "- 'Bruno Mars', 'The Weeknd' and 'Ed Sheeran' show sustained success throughout their career, by having 4 solo songs in the ranking."
   ]
  }
 ],
 "metadata": {
  "kernelspec": {
   "display_name": ".venv (3.12.1)",
   "language": "python",
   "name": "python3"
  },
  "language_info": {
   "codemirror_mode": {
    "name": "ipython",
    "version": 3
   },
   "file_extension": ".py",
   "mimetype": "text/x-python",
   "name": "python",
   "nbconvert_exporter": "python",
   "pygments_lexer": "ipython3",
   "version": "3.12.1"
  }
 },
 "nbformat": 4,
 "nbformat_minor": 5
}
