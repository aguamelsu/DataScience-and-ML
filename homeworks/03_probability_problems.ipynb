{
 "cells": [
  {
   "cell_type": "markdown",
   "id": "a41f3622",
   "metadata": {},
   "source": [
    "# Probability exercises"
   ]
  },
  {
   "cell_type": "markdown",
   "id": "a6bdbd89",
   "metadata": {},
   "source": [
    "## Exercise 1 \n",
    "\n",
    "Two dices are thrown once and the total score is observed. Use a simulation to find the estimated probability that the total score is even or greater than 7.  A simulation is a repetition of the same experiment multiple times to observe its behavior:\n",
    "\n",
    "- Run the experiment 1000 times (roll 2 dice 1000 times, and sum the number of both dices).\n",
    "- Keep track of the number of times that the sum was either greater than 7 or an even number.\n",
    "- Divide the number from step 2 by the number of iterations (1000)."
   ]
  },
  {
   "cell_type": "code",
   "execution_count": 33,
   "id": "8939d892",
   "metadata": {},
   "outputs": [
    {
     "name": "stdout",
     "output_type": "stream",
     "text": [
      "The probability of rolling an even number or greater than seven is: 66.0%\n"
     ]
    }
   ],
   "source": [
    "import random\n",
    "\n",
    "dice = [1, 2, 3, 4, 5, 6]\n",
    "accum = 0\n",
    "\n",
    "for i in range(1000):\n",
    "    die1 = random.choice(dice)\n",
    "    die2 = random.choice(dice)\n",
    "    sum_dices = die1 + die2\n",
    "\n",
    "    if (sum_dices > 7) or (sum_dices % 2 == 0):\n",
    "        accum += 1\n",
    "    \n",
    "probability = accum / 1000\n",
    "\n",
    "print(f'The probability of rolling an even number or greater than seven is: {probability * 100}%')\n"
   ]
  },
  {
   "cell_type": "markdown",
   "id": "55732bca",
   "metadata": {},
   "source": [
    "## Exercise 2\n",
    "\n",
    "A box contains 10 white balls, 20 red balls and 30 green balls. If we take 5 balls from the box with replacement (we take the ball, observe what color it is and put it back into the box). We want to know the probability of:\n",
    "\n",
    "1. Take 3 white and 2 red.\n",
    "2. Take all of the same color.\n",
    "\n",
    "Run the experiment 1000 times and calculate the above probabilities."
   ]
  },
  {
   "cell_type": "code",
   "execution_count": 23,
   "id": "23244d20",
   "metadata": {},
   "outputs": [
    {
     "name": "stdout",
     "output_type": "stream",
     "text": [
      "{0: 'White', 1: 'White', 2: 'White', 3: 'White', 4: 'White', 5: 'White', 6: 'White', 7: 'White', 8: 'White', 9: 'White', 10: 'Red', 11: 'Red', 12: 'Red', 13: 'Red', 14: 'Red', 15: 'Red', 16: 'Red', 17: 'Red', 18: 'Red', 19: 'Red', 20: 'Red', 21: 'Red', 22: 'Red', 23: 'Red', 24: 'Red', 25: 'Red', 26: 'Red', 27: 'Red', 28: 'Red', 29: 'Red', 30: 'Green', 31: 'Green', 32: 'Green', 33: 'Green', 34: 'Green', 35: 'Green', 36: 'Green', 37: 'Green', 38: 'Green', 39: 'Green', 40: 'Green', 41: 'Green', 42: 'Green', 43: 'Green', 44: 'Green', 45: 'Green', 46: 'Green', 47: 'Green', 48: 'Green', 49: 'Green', 50: 'Green', 51: 'Green', 52: 'Green', 53: 'Green', 54: 'Green', 55: 'Green', 56: 'Green', 57: 'Green', 58: 'Green', 59: 'Green'}\n",
      "The probability of take all of aking 3 white and 2 red is: 0.2%\n",
      "The probability of take all of them of the same color is: 3.1%\n"
     ]
    }
   ],
   "source": [
    "ball_box = {}\n",
    "\n",
    "# Create the box of balls\n",
    "for i in range(60):\n",
    "    if i < 10:\n",
    "        ball_box[i] = \"White\"\n",
    "    elif (i > 9) and (i < 30):\n",
    "        ball_box[i] = \"Red\"\n",
    "    else:\n",
    "        ball_box[i] = \"Green\"\n",
    "\n",
    "print(ball_box)\n",
    "\n",
    "# P(blanca) = 1/6\n",
    "# P(roja) = 1/3\n",
    "# P(verde) = 1/2\n",
    "\n",
    "white_and_red = 0\n",
    "same_color = 0\n",
    "\n",
    "for i in range(1000):\n",
    "    white = 0\n",
    "    red = 0\n",
    "    green = 0\n",
    "\n",
    "    balls = []\n",
    "\n",
    "    for i in range(5):\n",
    "        balls.append(ball_box[random.randint(0, 59)])\n",
    "    \n",
    "    for color in balls:\n",
    "        if color == \"White\":\n",
    "            white += 1\n",
    "        elif color ==\"Red\":\n",
    "            red += 1\n",
    "        else: \n",
    "            green += 1\n",
    "\n",
    "    if (white == 3) and (red == 2):\n",
    "        white_and_red += 1\n",
    "    \n",
    "    if (white == 5) or (red == 5) or (green == 5):\n",
    "        same_color += 1 \n",
    "    \n",
    "prob_white_red = white_and_red / 1000\n",
    "prob_same_color = same_color / 1000\n",
    "\n",
    "print(f'The probability of take all of aking 3 white and 2 red is: {round(prob_white_red * 100, 3)}%')\n",
    "print(f'The probability of take all of them of the same color is: {round(prob_same_color  * 100, 3)}%')\n"
   ]
  }
 ],
 "metadata": {
  "kernelspec": {
   "display_name": ".venv (3.12.1)",
   "language": "python",
   "name": "python3"
  },
  "language_info": {
   "codemirror_mode": {
    "name": "ipython",
    "version": 3
   },
   "file_extension": ".py",
   "mimetype": "text/x-python",
   "name": "python",
   "nbconvert_exporter": "python",
   "pygments_lexer": "ipython3",
   "version": "3.12.1"
  }
 },
 "nbformat": 4,
 "nbformat_minor": 5
}
